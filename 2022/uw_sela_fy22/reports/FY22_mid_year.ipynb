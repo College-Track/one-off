{
 "cells": [
  {
   "cell_type": "markdown",
   "metadata": {},
   "source": [
    "# FY21 United Way of Southeast Louisiana (UWSELA) Interim Report Data Request"
   ]
  },
  {
   "cell_type": "markdown",
   "metadata": {},
   "source": [
    "For ticket #12565 submitted January 21, 2022.\n",
    "\n",
    "Prepared by Baker Renneckar"
   ]
  },
  {
   "cell_type": "code",
   "execution_count": 1,
   "metadata": {},
   "outputs": [],
   "source": [
    "%load_ext autoreload\n",
    "%autoreload 2"
   ]
  },
  {
   "cell_type": "code",
   "execution_count": 3,
   "metadata": {},
   "outputs": [],
   "source": [
    "import pandas as pd\n",
    "from datetime import datetime\n",
    "import numpy as np\n",
    "# from tabulate import tabulate\n",
    "# import matplotlib.pyplot as plt\n",
    "import warnings\n",
    "warnings.filterwarnings('ignore')\n"
   ]
  },
  {
   "cell_type": "code",
   "execution_count": 5,
   "metadata": {},
   "outputs": [],
   "source": [
    "# %matplotlib inline"
   ]
  },
  {
   "cell_type": "code",
   "execution_count": 6,
   "metadata": {},
   "outputs": [],
   "source": [
    "df = pd.read_pickle('../data/processed/merged_data_ay_2020_21.pkl')"
   ]
  },
  {
   "cell_type": "markdown",
   "metadata": {},
   "source": [
    "## Demographic Data\n",
    "\n"
   ]
  },
  {
   "cell_type": "markdown",
   "metadata": {},
   "source": [
    "#### Gender / Age / Student Type Breakdown"
   ]
  },
  {
   "cell_type": "code",
   "execution_count": 7,
   "metadata": {},
   "outputs": [
    {
     "data": {
      "text/html": [
       "<div>\n",
       "<style scoped>\n",
       "    .dataframe tbody tr th:only-of-type {\n",
       "        vertical-align: middle;\n",
       "    }\n",
       "\n",
       "    .dataframe tbody tr th {\n",
       "        vertical-align: top;\n",
       "    }\n",
       "\n",
       "    .dataframe thead th {\n",
       "        text-align: right;\n",
       "    }\n",
       "</style>\n",
       "<table border=\"1\" class=\"dataframe\">\n",
       "  <thead>\n",
       "    <tr style=\"text-align: right;\">\n",
       "      <th></th>\n",
       "      <th>Student Type</th>\n",
       "      <th>College Student</th>\n",
       "      <th>High School Student</th>\n",
       "      <th>Total</th>\n",
       "    </tr>\n",
       "    <tr>\n",
       "      <th>Gender</th>\n",
       "      <th>Age</th>\n",
       "      <th></th>\n",
       "      <th></th>\n",
       "      <th></th>\n",
       "    </tr>\n",
       "  </thead>\n",
       "  <tbody>\n",
       "    <tr>\n",
       "      <th rowspan=\"13\" valign=\"top\">Female</th>\n",
       "      <th>15.0</th>\n",
       "      <td>0</td>\n",
       "      <td>22</td>\n",
       "      <td>22</td>\n",
       "    </tr>\n",
       "    <tr>\n",
       "      <th>16.0</th>\n",
       "      <td>0</td>\n",
       "      <td>27</td>\n",
       "      <td>27</td>\n",
       "    </tr>\n",
       "    <tr>\n",
       "      <th>17.0</th>\n",
       "      <td>0</td>\n",
       "      <td>45</td>\n",
       "      <td>45</td>\n",
       "    </tr>\n",
       "    <tr>\n",
       "      <th>18.0</th>\n",
       "      <td>24</td>\n",
       "      <td>13</td>\n",
       "      <td>37</td>\n",
       "    </tr>\n",
       "    <tr>\n",
       "      <th>19.0</th>\n",
       "      <td>30</td>\n",
       "      <td>0</td>\n",
       "      <td>30</td>\n",
       "    </tr>\n",
       "    <tr>\n",
       "      <th>20.0</th>\n",
       "      <td>31</td>\n",
       "      <td>0</td>\n",
       "      <td>31</td>\n",
       "    </tr>\n",
       "    <tr>\n",
       "      <th>21.0</th>\n",
       "      <td>29</td>\n",
       "      <td>0</td>\n",
       "      <td>29</td>\n",
       "    </tr>\n",
       "    <tr>\n",
       "      <th>22.0</th>\n",
       "      <td>17</td>\n",
       "      <td>0</td>\n",
       "      <td>17</td>\n",
       "    </tr>\n",
       "    <tr>\n",
       "      <th>23.0</th>\n",
       "      <td>12</td>\n",
       "      <td>0</td>\n",
       "      <td>12</td>\n",
       "    </tr>\n",
       "    <tr>\n",
       "      <th>24.0</th>\n",
       "      <td>5</td>\n",
       "      <td>0</td>\n",
       "      <td>5</td>\n",
       "    </tr>\n",
       "    <tr>\n",
       "      <th>25.0</th>\n",
       "      <td>2</td>\n",
       "      <td>0</td>\n",
       "      <td>2</td>\n",
       "    </tr>\n",
       "    <tr>\n",
       "      <th>26.0</th>\n",
       "      <td>1</td>\n",
       "      <td>0</td>\n",
       "      <td>1</td>\n",
       "    </tr>\n",
       "    <tr>\n",
       "      <th>27.0</th>\n",
       "      <td>1</td>\n",
       "      <td>0</td>\n",
       "      <td>1</td>\n",
       "    </tr>\n",
       "    <tr>\n",
       "      <th rowspan=\"11\" valign=\"top\">Male</th>\n",
       "      <th>15.0</th>\n",
       "      <td>0</td>\n",
       "      <td>6</td>\n",
       "      <td>6</td>\n",
       "    </tr>\n",
       "    <tr>\n",
       "      <th>16.0</th>\n",
       "      <td>0</td>\n",
       "      <td>9</td>\n",
       "      <td>9</td>\n",
       "    </tr>\n",
       "    <tr>\n",
       "      <th>17.0</th>\n",
       "      <td>0</td>\n",
       "      <td>21</td>\n",
       "      <td>21</td>\n",
       "    </tr>\n",
       "    <tr>\n",
       "      <th>18.0</th>\n",
       "      <td>12</td>\n",
       "      <td>4</td>\n",
       "      <td>16</td>\n",
       "    </tr>\n",
       "    <tr>\n",
       "      <th>19.0</th>\n",
       "      <td>16</td>\n",
       "      <td>0</td>\n",
       "      <td>16</td>\n",
       "    </tr>\n",
       "    <tr>\n",
       "      <th>20.0</th>\n",
       "      <td>8</td>\n",
       "      <td>0</td>\n",
       "      <td>8</td>\n",
       "    </tr>\n",
       "    <tr>\n",
       "      <th>21.0</th>\n",
       "      <td>10</td>\n",
       "      <td>0</td>\n",
       "      <td>10</td>\n",
       "    </tr>\n",
       "    <tr>\n",
       "      <th>22.0</th>\n",
       "      <td>6</td>\n",
       "      <td>0</td>\n",
       "      <td>6</td>\n",
       "    </tr>\n",
       "    <tr>\n",
       "      <th>23.0</th>\n",
       "      <td>2</td>\n",
       "      <td>0</td>\n",
       "      <td>2</td>\n",
       "    </tr>\n",
       "    <tr>\n",
       "      <th>24.0</th>\n",
       "      <td>1</td>\n",
       "      <td>0</td>\n",
       "      <td>1</td>\n",
       "    </tr>\n",
       "    <tr>\n",
       "      <th>25.0</th>\n",
       "      <td>1</td>\n",
       "      <td>0</td>\n",
       "      <td>1</td>\n",
       "    </tr>\n",
       "    <tr>\n",
       "      <th>Other</th>\n",
       "      <th>18.0</th>\n",
       "      <td>0</td>\n",
       "      <td>1</td>\n",
       "      <td>1</td>\n",
       "    </tr>\n",
       "    <tr>\n",
       "      <th>Total</th>\n",
       "      <th></th>\n",
       "      <td>208</td>\n",
       "      <td>148</td>\n",
       "      <td>356</td>\n",
       "    </tr>\n",
       "  </tbody>\n",
       "</table>\n",
       "</div>"
      ],
      "text/plain": [
       "Student Type  College Student  High School Student  Total\n",
       "Gender Age                                               \n",
       "Female 15.0                 0                   22     22\n",
       "       16.0                 0                   27     27\n",
       "       17.0                 0                   45     45\n",
       "       18.0                24                   13     37\n",
       "       19.0                30                    0     30\n",
       "       20.0                31                    0     31\n",
       "       21.0                29                    0     29\n",
       "       22.0                17                    0     17\n",
       "       23.0                12                    0     12\n",
       "       24.0                 5                    0      5\n",
       "       25.0                 2                    0      2\n",
       "       26.0                 1                    0      1\n",
       "       27.0                 1                    0      1\n",
       "Male   15.0                 0                    6      6\n",
       "       16.0                 0                    9      9\n",
       "       17.0                 0                   21     21\n",
       "       18.0                12                    4     16\n",
       "       19.0                16                    0     16\n",
       "       20.0                 8                    0      8\n",
       "       21.0                10                    0     10\n",
       "       22.0                 6                    0      6\n",
       "       23.0                 2                    0      2\n",
       "       24.0                 1                    0      1\n",
       "       25.0                 1                    0      1\n",
       "Other  18.0                 0                    1      1\n",
       "Total                     208                  148    356"
      ]
     },
     "execution_count": 7,
     "metadata": {},
     "output_type": "execute_result"
    }
   ],
   "source": [
    "pd.crosstab([df.C_Gender__c, df.C_Age__c], df.RT_RecordType__c, margins=True, colnames=[\n",
    "            'Student Type'], rownames=['Gender', 'Age'], margins_name='Total')"
   ]
  },
  {
   "cell_type": "markdown",
   "metadata": {},
   "source": [
    "#### Gender / Ethnic / Student Type Breakdown"
   ]
  },
  {
   "cell_type": "code",
   "execution_count": 8,
   "metadata": {
    "hide_input": false
   },
   "outputs": [
    {
     "data": {
      "text/html": [
       "<div>\n",
       "<style scoped>\n",
       "    .dataframe tbody tr th:only-of-type {\n",
       "        vertical-align: middle;\n",
       "    }\n",
       "\n",
       "    .dataframe tbody tr th {\n",
       "        vertical-align: top;\n",
       "    }\n",
       "\n",
       "    .dataframe thead th {\n",
       "        text-align: right;\n",
       "    }\n",
       "</style>\n",
       "<table border=\"1\" class=\"dataframe\">\n",
       "  <thead>\n",
       "    <tr style=\"text-align: right;\">\n",
       "      <th></th>\n",
       "      <th>Student Type</th>\n",
       "      <th>College Student</th>\n",
       "      <th>High School Student</th>\n",
       "      <th>Total</th>\n",
       "    </tr>\n",
       "    <tr>\n",
       "      <th>Gender</th>\n",
       "      <th>Ethnicity</th>\n",
       "      <th></th>\n",
       "      <th></th>\n",
       "      <th></th>\n",
       "    </tr>\n",
       "  </thead>\n",
       "  <tbody>\n",
       "    <tr>\n",
       "      <th rowspan=\"8\" valign=\"top\">Female</th>\n",
       "      <th>African-American</th>\n",
       "      <td>140</td>\n",
       "      <td>78</td>\n",
       "      <td>218</td>\n",
       "    </tr>\n",
       "    <tr>\n",
       "      <th>Asian-American</th>\n",
       "      <td>0</td>\n",
       "      <td>8</td>\n",
       "      <td>8</td>\n",
       "    </tr>\n",
       "    <tr>\n",
       "      <th>Decline to State</th>\n",
       "      <td>0</td>\n",
       "      <td>2</td>\n",
       "      <td>2</td>\n",
       "    </tr>\n",
       "    <tr>\n",
       "      <th>Latino / Chicano</th>\n",
       "      <td>11</td>\n",
       "      <td>10</td>\n",
       "      <td>21</td>\n",
       "    </tr>\n",
       "    <tr>\n",
       "      <th>Multiracial</th>\n",
       "      <td>1</td>\n",
       "      <td>3</td>\n",
       "      <td>4</td>\n",
       "    </tr>\n",
       "    <tr>\n",
       "      <th>Native American</th>\n",
       "      <td>0</td>\n",
       "      <td>1</td>\n",
       "      <td>1</td>\n",
       "    </tr>\n",
       "    <tr>\n",
       "      <th>Other</th>\n",
       "      <td>0</td>\n",
       "      <td>4</td>\n",
       "      <td>4</td>\n",
       "    </tr>\n",
       "    <tr>\n",
       "      <th>White / Caucasian</th>\n",
       "      <td>0</td>\n",
       "      <td>1</td>\n",
       "      <td>1</td>\n",
       "    </tr>\n",
       "    <tr>\n",
       "      <th rowspan=\"6\" valign=\"top\">Male</th>\n",
       "      <th>African-American</th>\n",
       "      <td>51</td>\n",
       "      <td>27</td>\n",
       "      <td>78</td>\n",
       "    </tr>\n",
       "    <tr>\n",
       "      <th>Asian-American</th>\n",
       "      <td>1</td>\n",
       "      <td>4</td>\n",
       "      <td>5</td>\n",
       "    </tr>\n",
       "    <tr>\n",
       "      <th>Latino / Chicano</th>\n",
       "      <td>2</td>\n",
       "      <td>4</td>\n",
       "      <td>6</td>\n",
       "    </tr>\n",
       "    <tr>\n",
       "      <th>Multiracial</th>\n",
       "      <td>2</td>\n",
       "      <td>1</td>\n",
       "      <td>3</td>\n",
       "    </tr>\n",
       "    <tr>\n",
       "      <th>Other</th>\n",
       "      <td>0</td>\n",
       "      <td>1</td>\n",
       "      <td>1</td>\n",
       "    </tr>\n",
       "    <tr>\n",
       "      <th>White / Caucasian</th>\n",
       "      <td>0</td>\n",
       "      <td>3</td>\n",
       "      <td>3</td>\n",
       "    </tr>\n",
       "    <tr>\n",
       "      <th>Other</th>\n",
       "      <th>Asian-American</th>\n",
       "      <td>0</td>\n",
       "      <td>1</td>\n",
       "      <td>1</td>\n",
       "    </tr>\n",
       "    <tr>\n",
       "      <th>Total</th>\n",
       "      <th></th>\n",
       "      <td>208</td>\n",
       "      <td>148</td>\n",
       "      <td>356</td>\n",
       "    </tr>\n",
       "  </tbody>\n",
       "</table>\n",
       "</div>"
      ],
      "text/plain": [
       "Student Type              College Student  High School Student  Total\n",
       "Gender Ethnicity                                                     \n",
       "Female African-American               140                   78    218\n",
       "       Asian-American                   0                    8      8\n",
       "       Decline to State                 0                    2      2\n",
       "       Latino / Chicano                11                   10     21\n",
       "       Multiracial                      1                    3      4\n",
       "       Native American                  0                    1      1\n",
       "       Other                            0                    4      4\n",
       "       White / Caucasian                0                    1      1\n",
       "Male   African-American                51                   27     78\n",
       "       Asian-American                   1                    4      5\n",
       "       Latino / Chicano                 2                    4      6\n",
       "       Multiracial                      2                    1      3\n",
       "       Other                            0                    1      1\n",
       "       White / Caucasian                0                    3      3\n",
       "Other  Asian-American                   0                    1      1\n",
       "Total                                 208                  148    356"
      ]
     },
     "execution_count": 8,
     "metadata": {},
     "output_type": "execute_result"
    }
   ],
   "source": [
    "pd.crosstab([df.C_Gender__c, df.C_Ethnic_background__c], df.RT_RecordType__c, margins=True, colnames=[\n",
    "            'Student Type'], rownames=['Gender', 'Ethnicity'], margins_name='Total')"
   ]
  },
  {
   "cell_type": "markdown",
   "metadata": {},
   "source": [
    "#### Count of unduplicated participants by sex and Employment Status\n"
   ]
  },
  {
   "cell_type": "code",
   "execution_count": 54,
   "metadata": {},
   "outputs": [
    {
     "data": {
      "text/html": [
       "<div>\n",
       "<style scoped>\n",
       "    .dataframe tbody tr th:only-of-type {\n",
       "        vertical-align: middle;\n",
       "    }\n",
       "\n",
       "    .dataframe tbody tr th {\n",
       "        vertical-align: top;\n",
       "    }\n",
       "\n",
       "    .dataframe thead th {\n",
       "        text-align: right;\n",
       "    }\n",
       "</style>\n",
       "<table border=\"1\" class=\"dataframe\">\n",
       "  <thead>\n",
       "    <tr style=\"text-align: right;\">\n",
       "      <th></th>\n",
       "      <th>Student Type</th>\n",
       "      <th>College Student</th>\n",
       "      <th>High School Student</th>\n",
       "      <th>Total</th>\n",
       "    </tr>\n",
       "    <tr>\n",
       "      <th>Gender</th>\n",
       "      <th>Employment Status</th>\n",
       "      <th></th>\n",
       "      <th></th>\n",
       "      <th></th>\n",
       "    </tr>\n",
       "  </thead>\n",
       "  <tbody>\n",
       "    <tr>\n",
       "      <th rowspan=\"2\" valign=\"top\">Female</th>\n",
       "      <th>Employed part time</th>\n",
       "      <td>3</td>\n",
       "      <td>0</td>\n",
       "      <td>3</td>\n",
       "    </tr>\n",
       "    <tr>\n",
       "      <th>No information available</th>\n",
       "      <td>149</td>\n",
       "      <td>107</td>\n",
       "      <td>256</td>\n",
       "    </tr>\n",
       "    <tr>\n",
       "      <th>Male</th>\n",
       "      <th>No information available</th>\n",
       "      <td>56</td>\n",
       "      <td>40</td>\n",
       "      <td>96</td>\n",
       "    </tr>\n",
       "    <tr>\n",
       "      <th>Other</th>\n",
       "      <th>No information available</th>\n",
       "      <td>0</td>\n",
       "      <td>1</td>\n",
       "      <td>1</td>\n",
       "    </tr>\n",
       "    <tr>\n",
       "      <th>Total</th>\n",
       "      <th></th>\n",
       "      <td>208</td>\n",
       "      <td>148</td>\n",
       "      <td>356</td>\n",
       "    </tr>\n",
       "  </tbody>\n",
       "</table>\n",
       "</div>"
      ],
      "text/plain": [
       "Student Type                     College Student  High School Student  Total\n",
       "Gender Employment Status                                                    \n",
       "Female Employed part time                      3                    0      3\n",
       "       No information available              149                  107    256\n",
       "Male   No information available               56                   40     96\n",
       "Other  No information available                0                    1      1\n",
       "Total                                        208                  148    356"
      ]
     },
     "execution_count": 54,
     "metadata": {},
     "output_type": "execute_result"
    }
   ],
   "source": [
    "pd.crosstab([df.C_Gender__c, df.C_Employment_Status__c], df.RT_RecordType__c, margins=True, colnames=[\n",
    "            'Student Type'], rownames=['Gender', 'Employment Status'], margins_name='Total')"
   ]
  },
  {
   "cell_type": "markdown",
   "metadata": {},
   "source": [
    "#### *Count of unduplicated participants by household income in the following categories: Total Number of Persons less than or equal to 30% Area Median Income (extremely low income), Total Number of Persons over 30% not greater than 50% Area Median Income (low income), Total Number of Persons over 50% not greater than 80% Area Median Income (moderate income), Total Number of Persons over 80% Area Median Income (non-LMI), No Income, Unknown."
   ]
  },
  {
   "cell_type": "code",
   "execution_count": 10,
   "metadata": {},
   "outputs": [
    {
     "data": {
      "text/html": [
       "<div>\n",
       "<style scoped>\n",
       "    .dataframe tbody tr th:only-of-type {\n",
       "        vertical-align: middle;\n",
       "    }\n",
       "\n",
       "    .dataframe tbody tr th {\n",
       "        vertical-align: top;\n",
       "    }\n",
       "\n",
       "    .dataframe thead th {\n",
       "        text-align: right;\n",
       "    }\n",
       "</style>\n",
       "<table border=\"1\" class=\"dataframe\">\n",
       "  <thead>\n",
       "    <tr style=\"text-align: right;\">\n",
       "      <th>Student Type</th>\n",
       "      <th>College Student</th>\n",
       "      <th>High School Student</th>\n",
       "      <th>Total</th>\n",
       "    </tr>\n",
       "    <tr>\n",
       "      <th>Income Bucket</th>\n",
       "      <th></th>\n",
       "      <th></th>\n",
       "      <th></th>\n",
       "    </tr>\n",
       "  </thead>\n",
       "  <tbody>\n",
       "    <tr>\n",
       "      <th>Between 30% of 50% of Median Income</th>\n",
       "      <td>25</td>\n",
       "      <td>18</td>\n",
       "      <td>43</td>\n",
       "    </tr>\n",
       "    <tr>\n",
       "      <th>Between 51% and 80% of Median Income</th>\n",
       "      <td>62</td>\n",
       "      <td>55</td>\n",
       "      <td>117</td>\n",
       "    </tr>\n",
       "    <tr>\n",
       "      <th>Greater than 80% of Median Income</th>\n",
       "      <td>87</td>\n",
       "      <td>56</td>\n",
       "      <td>143</td>\n",
       "    </tr>\n",
       "    <tr>\n",
       "      <th>Less than or equal to 30% of Median Income</th>\n",
       "      <td>34</td>\n",
       "      <td>19</td>\n",
       "      <td>53</td>\n",
       "    </tr>\n",
       "    <tr>\n",
       "      <th>Total</th>\n",
       "      <td>208</td>\n",
       "      <td>148</td>\n",
       "      <td>356</td>\n",
       "    </tr>\n",
       "  </tbody>\n",
       "</table>\n",
       "</div>"
      ],
      "text/plain": [
       "Student Type                                College Student  \\\n",
       "Income Bucket                                                 \n",
       "Between 30% of 50% of Median Income                      25   \n",
       "Between 51% and 80% of Median Income                     62   \n",
       "Greater than 80% of Median Income                        87   \n",
       "Less than or equal to 30% of Median Income               34   \n",
       "Total                                                   208   \n",
       "\n",
       "Student Type                                High School Student  Total  \n",
       "Income Bucket                                                           \n",
       "Between 30% of 50% of Median Income                          18     43  \n",
       "Between 51% and 80% of Median Income                         55    117  \n",
       "Greater than 80% of Median Income                            56    143  \n",
       "Less than or equal to 30% of Median Income                   19     53  \n",
       "Total                                                       148    356  "
      ]
     },
     "execution_count": 10,
     "metadata": {},
     "output_type": "execute_result"
    }
   ],
   "source": [
    "pd.crosstab([df['Income Bucket']], df.RT_RecordType__c, margins=True, colnames=[\n",
    "            'Student Type'], rownames=['Income Bucket'], margins_name='Total')"
   ]
  },
  {
   "cell_type": "markdown",
   "metadata": {},
   "source": [
    "#### Gender / Parish Breakdown\n",
    "\n"
   ]
  },
  {
   "cell_type": "code",
   "execution_count": 11,
   "metadata": {},
   "outputs": [
    {
     "data": {
      "text/html": [
       "<div>\n",
       "<style scoped>\n",
       "    .dataframe tbody tr th:only-of-type {\n",
       "        vertical-align: middle;\n",
       "    }\n",
       "\n",
       "    .dataframe tbody tr th {\n",
       "        vertical-align: top;\n",
       "    }\n",
       "\n",
       "    .dataframe thead th {\n",
       "        text-align: right;\n",
       "    }\n",
       "</style>\n",
       "<table border=\"1\" class=\"dataframe\">\n",
       "  <thead>\n",
       "    <tr style=\"text-align: right;\">\n",
       "      <th></th>\n",
       "      <th>Student Type</th>\n",
       "      <th>College Student</th>\n",
       "      <th>High School Student</th>\n",
       "      <th>Total</th>\n",
       "    </tr>\n",
       "    <tr>\n",
       "      <th>Gender</th>\n",
       "      <th>Parish</th>\n",
       "      <th></th>\n",
       "      <th></th>\n",
       "      <th></th>\n",
       "    </tr>\n",
       "  </thead>\n",
       "  <tbody>\n",
       "    <tr>\n",
       "      <th rowspan=\"7\" valign=\"top\">Female</th>\n",
       "      <th>East Baton Rouge Parish</th>\n",
       "      <td>1</td>\n",
       "      <td>0</td>\n",
       "      <td>1</td>\n",
       "    </tr>\n",
       "    <tr>\n",
       "      <th>Jefferson Parish</th>\n",
       "      <td>17</td>\n",
       "      <td>8</td>\n",
       "      <td>25</td>\n",
       "    </tr>\n",
       "    <tr>\n",
       "      <th>Missing</th>\n",
       "      <td>5</td>\n",
       "      <td>0</td>\n",
       "      <td>5</td>\n",
       "    </tr>\n",
       "    <tr>\n",
       "      <th>Orleans Parish</th>\n",
       "      <td>125</td>\n",
       "      <td>97</td>\n",
       "      <td>222</td>\n",
       "    </tr>\n",
       "    <tr>\n",
       "      <th>Plaquemines Parish</th>\n",
       "      <td>0</td>\n",
       "      <td>1</td>\n",
       "      <td>1</td>\n",
       "    </tr>\n",
       "    <tr>\n",
       "      <th>St. Bernard Parish</th>\n",
       "      <td>2</td>\n",
       "      <td>0</td>\n",
       "      <td>2</td>\n",
       "    </tr>\n",
       "    <tr>\n",
       "      <th>St. Tammany Parish</th>\n",
       "      <td>2</td>\n",
       "      <td>1</td>\n",
       "      <td>3</td>\n",
       "    </tr>\n",
       "    <tr>\n",
       "      <th rowspan=\"4\" valign=\"top\">Male</th>\n",
       "      <th>Harris County</th>\n",
       "      <td>1</td>\n",
       "      <td>0</td>\n",
       "      <td>1</td>\n",
       "    </tr>\n",
       "    <tr>\n",
       "      <th>Jefferson Parish</th>\n",
       "      <td>8</td>\n",
       "      <td>2</td>\n",
       "      <td>10</td>\n",
       "    </tr>\n",
       "    <tr>\n",
       "      <th>Orleans Parish</th>\n",
       "      <td>46</td>\n",
       "      <td>38</td>\n",
       "      <td>84</td>\n",
       "    </tr>\n",
       "    <tr>\n",
       "      <th>St. Charles Parish</th>\n",
       "      <td>1</td>\n",
       "      <td>0</td>\n",
       "      <td>1</td>\n",
       "    </tr>\n",
       "    <tr>\n",
       "      <th>Other</th>\n",
       "      <th>Orleans Parish</th>\n",
       "      <td>0</td>\n",
       "      <td>1</td>\n",
       "      <td>1</td>\n",
       "    </tr>\n",
       "    <tr>\n",
       "      <th>Total</th>\n",
       "      <th></th>\n",
       "      <td>208</td>\n",
       "      <td>148</td>\n",
       "      <td>356</td>\n",
       "    </tr>\n",
       "  </tbody>\n",
       "</table>\n",
       "</div>"
      ],
      "text/plain": [
       "Student Type                    College Student  High School Student  Total\n",
       "Gender Parish                                                              \n",
       "Female East Baton Rouge Parish                1                    0      1\n",
       "       Jefferson Parish                      17                    8     25\n",
       "       Missing                                5                    0      5\n",
       "       Orleans Parish                       125                   97    222\n",
       "       Plaquemines Parish                     0                    1      1\n",
       "       St. Bernard Parish                     2                    0      2\n",
       "       St. Tammany Parish                     2                    1      3\n",
       "Male   Harris County                          1                    0      1\n",
       "       Jefferson Parish                       8                    2     10\n",
       "       Orleans Parish                        46                   38     84\n",
       "       St. Charles Parish                     1                    0      1\n",
       "Other  Orleans Parish                         0                    1      1\n",
       "Total                                       208                  148    356"
      ]
     },
     "execution_count": 11,
     "metadata": {},
     "output_type": "execute_result"
    }
   ],
   "source": [
    "pd.crosstab([df.C_Gender__c, df.Parish.fillna('Missing')], df.RT_RecordType__c, margins=True, colnames=[\n",
    "            'Student Type'], rownames=['Gender', 'Parish'], margins_name='Total')"
   ]
  },
  {
   "cell_type": "markdown",
   "metadata": {},
   "source": [
    "## High School Questions"
   ]
  },
  {
   "cell_type": "markdown",
   "metadata": {},
   "source": [
    "#### *# and % of high school students promoted to the next grade from the 2019-2020 academic year\n",
    "\n",
    "This should be 100% or 148 (all HS students)\n"
   ]
  },
  {
   "cell_type": "code",
   "execution_count": 20,
   "metadata": {},
   "outputs": [],
   "source": [
    "df_2021 = df[df.C_HIGH_SCHOOL_GRADUATING_CLASS__c == \"2022\"]"
   ]
  },
  {
   "cell_type": "markdown",
   "metadata": {},
   "source": [
    "#### *% and # of class of 2021 seniors who graduated high school on time\n"
   ]
  },
  {
   "cell_type": "markdown",
   "metadata": {},
   "source": [
    "This is 100% or 59 students (from the DDT)"
   ]
  },
  {
   "cell_type": "markdown",
   "metadata": {},
   "source": [
    "#### *% and # of Class of 2022 NOLA seniors who have submitted, completed, or are in the “review” phase with FAFSA to date"
   ]
  },
  {
   "cell_type": "code",
   "execution_count": 21,
   "metadata": {},
   "outputs": [],
   "source": [
    "def create_count_percent_cross_tab(df, row_column, column_column, row_name, subset_name = 'High School Student'):\n",
    "    cross_1 = pd.crosstab(df[row_column].fillna('No Data'), df[column_column], dropna=False, colnames=[\n",
    "            subset_name], rownames=[row_name], margins=True)\n",
    "    \n",
    "    cross_2 = pd.crosstab(df[row_column].fillna('No Data'), df[column_column], dropna=False, colnames=[\n",
    "            subset_name], rownames=[row_name], normalize=True, margins=True)\n",
    "    \n",
    "    cross_1['Percent'] = cross_2[subset_name].values\n",
    "    cross_1.rename(columns={subset_name: \"Count\"}, inplace=True)\n",
    "    cross_1.drop('All', inplace=True, axis=1)\n",
    "    return cross_1.style.format({'Percent': \"{:.0%}\"})\n"
   ]
  },
  {
   "cell_type": "code",
   "execution_count": 22,
   "metadata": {},
   "outputs": [],
   "source": [
    "df_2021_us_citizen = df_2021[df_2021.C_Citizen_c__c == 'US Citizen']\n",
    "df_2021_us_citizen_pr = df_2021[df_2021.C_Citizen_c__c != 'Other']"
   ]
  },
  {
   "cell_type": "markdown",
   "metadata": {},
   "source": [
    "Not Including permanent residence."
   ]
  },
  {
   "cell_type": "code",
   "execution_count": 23,
   "metadata": {},
   "outputs": [
    {
     "data": {
      "text/html": [
       "<style type=\"text/css\">\n",
       "</style>\n",
       "<table id=\"T_4f9b2\">\n",
       "  <thead>\n",
       "    <tr>\n",
       "      <th class=\"index_name level0\" >High School Student</th>\n",
       "      <th id=\"T_4f9b2_level0_col0\" class=\"col_heading level0 col0\" >Count</th>\n",
       "      <th id=\"T_4f9b2_level0_col1\" class=\"col_heading level0 col1\" >Percent</th>\n",
       "    </tr>\n",
       "    <tr>\n",
       "      <th class=\"index_name level0\" >FAFSA Status</th>\n",
       "      <th class=\"blank col0\" >&nbsp;</th>\n",
       "      <th class=\"blank col1\" >&nbsp;</th>\n",
       "    </tr>\n",
       "  </thead>\n",
       "  <tbody>\n",
       "    <tr>\n",
       "      <th id=\"T_4f9b2_level0_row0\" class=\"row_heading level0 row0\" >No Data</th>\n",
       "      <td id=\"T_4f9b2_row0_col0\" class=\"data row0 col0\" >6</td>\n",
       "      <td id=\"T_4f9b2_row0_col1\" class=\"data row0 col1\" >12%</td>\n",
       "    </tr>\n",
       "    <tr>\n",
       "      <th id=\"T_4f9b2_level0_row1\" class=\"row_heading level0 row1\" >Submitted</th>\n",
       "      <td id=\"T_4f9b2_row1_col0\" class=\"data row1 col0\" >44</td>\n",
       "      <td id=\"T_4f9b2_row1_col1\" class=\"data row1 col1\" >88%</td>\n",
       "    </tr>\n",
       "    <tr>\n",
       "      <th id=\"T_4f9b2_level0_row2\" class=\"row_heading level0 row2\" >All</th>\n",
       "      <td id=\"T_4f9b2_row2_col0\" class=\"data row2 col0\" >50</td>\n",
       "      <td id=\"T_4f9b2_row2_col1\" class=\"data row2 col1\" >100%</td>\n",
       "    </tr>\n",
       "  </tbody>\n",
       "</table>\n"
      ],
      "text/plain": [
       "<pandas.io.formats.style.Styler at 0x1205bed30>"
      ]
     },
     "execution_count": 23,
     "metadata": {},
     "output_type": "execute_result"
    }
   ],
   "source": [
    "create_count_percent_cross_tab(df_2021_us_citizen, 'C_FA_Req_FAFSA__c', 'RT_RecordType__c', 'FAFSA Status')"
   ]
  },
  {
   "cell_type": "markdown",
   "metadata": {},
   "source": [
    "Including permanent residence."
   ]
  },
  {
   "cell_type": "code",
   "execution_count": 24,
   "metadata": {},
   "outputs": [
    {
     "data": {
      "text/html": [
       "<style type=\"text/css\">\n",
       "</style>\n",
       "<table id=\"T_37e5b\">\n",
       "  <thead>\n",
       "    <tr>\n",
       "      <th class=\"index_name level0\" >High School Student</th>\n",
       "      <th id=\"T_37e5b_level0_col0\" class=\"col_heading level0 col0\" >Count</th>\n",
       "      <th id=\"T_37e5b_level0_col1\" class=\"col_heading level0 col1\" >Percent</th>\n",
       "    </tr>\n",
       "    <tr>\n",
       "      <th class=\"index_name level0\" >FAFSA Status</th>\n",
       "      <th class=\"blank col0\" >&nbsp;</th>\n",
       "      <th class=\"blank col1\" >&nbsp;</th>\n",
       "    </tr>\n",
       "  </thead>\n",
       "  <tbody>\n",
       "    <tr>\n",
       "      <th id=\"T_37e5b_level0_row0\" class=\"row_heading level0 row0\" >No Data</th>\n",
       "      <td id=\"T_37e5b_row0_col0\" class=\"data row0 col0\" >6</td>\n",
       "      <td id=\"T_37e5b_row0_col1\" class=\"data row0 col1\" >12%</td>\n",
       "    </tr>\n",
       "    <tr>\n",
       "      <th id=\"T_37e5b_level0_row1\" class=\"row_heading level0 row1\" >Submitted</th>\n",
       "      <td id=\"T_37e5b_row1_col0\" class=\"data row1 col0\" >46</td>\n",
       "      <td id=\"T_37e5b_row1_col1\" class=\"data row1 col1\" >88%</td>\n",
       "    </tr>\n",
       "    <tr>\n",
       "      <th id=\"T_37e5b_level0_row2\" class=\"row_heading level0 row2\" >All</th>\n",
       "      <td id=\"T_37e5b_row2_col0\" class=\"data row2 col0\" >52</td>\n",
       "      <td id=\"T_37e5b_row2_col1\" class=\"data row2 col1\" >100%</td>\n",
       "    </tr>\n",
       "  </tbody>\n",
       "</table>\n"
      ],
      "text/plain": [
       "<pandas.io.formats.style.Styler at 0x12095b970>"
      ]
     },
     "execution_count": 24,
     "metadata": {},
     "output_type": "execute_result"
    }
   ],
   "source": [
    "create_count_percent_cross_tab(df_2021_us_citizen_pr, 'C_FA_Req_FAFSA__c', 'RT_RecordType__c', 'FAFSA Status')"
   ]
  },
  {
   "cell_type": "markdown",
   "metadata": {},
   "source": [
    "#### % and # of our Class of 2022 NOLA high school seniors who qualify for TOPS eligibility.\n",
    "\n",
    "It looks like this data isn't entered into the system yet."
   ]
  },
  {
   "cell_type": "code",
   "execution_count": 28,
   "metadata": {},
   "outputs": [
    {
     "data": {
      "text/html": [
       "<style type=\"text/css\">\n",
       "</style>\n",
       "<table id=\"T_b692f\">\n",
       "  <thead>\n",
       "    <tr>\n",
       "      <th class=\"index_name level0\" >High School Student</th>\n",
       "      <th id=\"T_b692f_level0_col0\" class=\"col_heading level0 col0\" >Count</th>\n",
       "      <th id=\"T_b692f_level0_col1\" class=\"col_heading level0 col1\" >Percent</th>\n",
       "    </tr>\n",
       "    <tr>\n",
       "      <th class=\"index_name level0\" >TOPS Status</th>\n",
       "      <th class=\"blank col0\" >&nbsp;</th>\n",
       "      <th class=\"blank col1\" >&nbsp;</th>\n",
       "    </tr>\n",
       "  </thead>\n",
       "  <tbody>\n",
       "    <tr>\n",
       "      <th id=\"T_b692f_level0_row0\" class=\"row_heading level0 row0\" >No Data</th>\n",
       "      <td id=\"T_b692f_row0_col0\" class=\"data row0 col0\" >54</td>\n",
       "      <td id=\"T_b692f_row0_col1\" class=\"data row0 col1\" >100%</td>\n",
       "    </tr>\n",
       "    <tr>\n",
       "      <th id=\"T_b692f_level0_row1\" class=\"row_heading level0 row1\" >All</th>\n",
       "      <td id=\"T_b692f_row1_col0\" class=\"data row1 col0\" >54</td>\n",
       "      <td id=\"T_b692f_row1_col1\" class=\"data row1 col1\" >100%</td>\n",
       "    </tr>\n",
       "  </tbody>\n",
       "</table>\n"
      ],
      "text/plain": [
       "<pandas.io.formats.style.Styler at 0x12095beb0>"
      ]
     },
     "execution_count": 28,
     "metadata": {},
     "output_type": "execute_result"
    }
   ],
   "source": [
    "create_count_percent_cross_tab(df_2021, 'C_Region_Specific_Funding_Eligibility__c', 'RT_RecordType__c', 'TOPS Status')"
   ]
  },
  {
   "cell_type": "markdown",
   "metadata": {},
   "source": [
    "#### # and % of four-year college acceptances for the high school Class of 2022 during the reporting period.\n"
   ]
  },
  {
   "cell_type": "code",
   "execution_count": 29,
   "metadata": {},
   "outputs": [],
   "source": [
    "df_2021['accepted_college'] = df.C_Four_Year_College_Acceptances__c > 0"
   ]
  },
  {
   "cell_type": "code",
   "execution_count": 30,
   "metadata": {},
   "outputs": [
    {
     "data": {
      "text/html": [
       "<style type=\"text/css\">\n",
       "</style>\n",
       "<table id=\"T_fa084\">\n",
       "  <thead>\n",
       "    <tr>\n",
       "      <th class=\"index_name level0\" >High School Student</th>\n",
       "      <th id=\"T_fa084_level0_col0\" class=\"col_heading level0 col0\" >Count</th>\n",
       "      <th id=\"T_fa084_level0_col1\" class=\"col_heading level0 col1\" >Percent</th>\n",
       "    </tr>\n",
       "    <tr>\n",
       "      <th class=\"index_name level0\" >Accepted into College</th>\n",
       "      <th class=\"blank col0\" >&nbsp;</th>\n",
       "      <th class=\"blank col1\" >&nbsp;</th>\n",
       "    </tr>\n",
       "  </thead>\n",
       "  <tbody>\n",
       "    <tr>\n",
       "      <th id=\"T_fa084_level0_row0\" class=\"row_heading level0 row0\" >0</th>\n",
       "      <td id=\"T_fa084_row0_col0\" class=\"data row0 col0\" >15</td>\n",
       "      <td id=\"T_fa084_row0_col1\" class=\"data row0 col1\" >28%</td>\n",
       "    </tr>\n",
       "    <tr>\n",
       "      <th id=\"T_fa084_level0_row1\" class=\"row_heading level0 row1\" >1</th>\n",
       "      <td id=\"T_fa084_row1_col0\" class=\"data row1 col0\" >39</td>\n",
       "      <td id=\"T_fa084_row1_col1\" class=\"data row1 col1\" >72%</td>\n",
       "    </tr>\n",
       "    <tr>\n",
       "      <th id=\"T_fa084_level0_row2\" class=\"row_heading level0 row2\" >All</th>\n",
       "      <td id=\"T_fa084_row2_col0\" class=\"data row2 col0\" >54</td>\n",
       "      <td id=\"T_fa084_row2_col1\" class=\"data row2 col1\" >100%</td>\n",
       "    </tr>\n",
       "  </tbody>\n",
       "</table>\n"
      ],
      "text/plain": [
       "<pandas.io.formats.style.Styler at 0x120948ee0>"
      ]
     },
     "execution_count": 30,
     "metadata": {},
     "output_type": "execute_result"
    }
   ],
   "source": [
    "create_count_percent_cross_tab(df_2021, 'accepted_college', 'RT_RecordType__c', 'Accepted into College')"
   ]
  },
  {
   "cell_type": "markdown",
   "metadata": {},
   "source": [
    "#### # and % of NOLA high school students in the 2021-22 academic year with 3.0+ cumulative GPAs\n",
    "\n",
    "The first table is based on the most recent GPA value we have on file for students. Which is mostly Spring 2020-21 data. \n",
    "\n",
    "\n",
    "The second table is based only Fall 2021-22 data, which isn't entered yet and won't be until the end of February."
   ]
  },
  {
   "cell_type": "code",
   "execution_count": 35,
   "metadata": {},
   "outputs": [],
   "source": [
    "df_hs = df[df.RT_RecordType__c == \"High School Student\"]\n"
   ]
  },
  {
   "cell_type": "code",
   "execution_count": 36,
   "metadata": {},
   "outputs": [],
   "source": [
    "df_hs['above_3_gpa_most_recent'] = df.C_Most_Recent_GPA_Cumulative__c >= 3.0\n",
    "df_hs['above_3_gpa_fall'] = df.AS_GPA_HS_cumulative__c >= 3.0"
   ]
  },
  {
   "cell_type": "code",
   "execution_count": 37,
   "metadata": {},
   "outputs": [
    {
     "data": {
      "text/html": [
       "<style type=\"text/css\">\n",
       "</style>\n",
       "<table id=\"T_8b250\">\n",
       "  <thead>\n",
       "    <tr>\n",
       "      <th class=\"index_name level0\" >High School Student</th>\n",
       "      <th id=\"T_8b250_level0_col0\" class=\"col_heading level0 col0\" >Count</th>\n",
       "      <th id=\"T_8b250_level0_col1\" class=\"col_heading level0 col1\" >Percent</th>\n",
       "    </tr>\n",
       "    <tr>\n",
       "      <th class=\"index_name level0\" >Most Recent GPA >= 3.0</th>\n",
       "      <th class=\"blank col0\" >&nbsp;</th>\n",
       "      <th class=\"blank col1\" >&nbsp;</th>\n",
       "    </tr>\n",
       "  </thead>\n",
       "  <tbody>\n",
       "    <tr>\n",
       "      <th id=\"T_8b250_level0_row0\" class=\"row_heading level0 row0\" >0</th>\n",
       "      <td id=\"T_8b250_row0_col0\" class=\"data row0 col0\" >27</td>\n",
       "      <td id=\"T_8b250_row0_col1\" class=\"data row0 col1\" >18%</td>\n",
       "    </tr>\n",
       "    <tr>\n",
       "      <th id=\"T_8b250_level0_row1\" class=\"row_heading level0 row1\" >1</th>\n",
       "      <td id=\"T_8b250_row1_col0\" class=\"data row1 col0\" >121</td>\n",
       "      <td id=\"T_8b250_row1_col1\" class=\"data row1 col1\" >82%</td>\n",
       "    </tr>\n",
       "    <tr>\n",
       "      <th id=\"T_8b250_level0_row2\" class=\"row_heading level0 row2\" >All</th>\n",
       "      <td id=\"T_8b250_row2_col0\" class=\"data row2 col0\" >148</td>\n",
       "      <td id=\"T_8b250_row2_col1\" class=\"data row2 col1\" >100%</td>\n",
       "    </tr>\n",
       "  </tbody>\n",
       "</table>\n"
      ],
      "text/plain": [
       "<pandas.io.formats.style.Styler at 0x120c4f8e0>"
      ]
     },
     "execution_count": 37,
     "metadata": {},
     "output_type": "execute_result"
    }
   ],
   "source": [
    "create_count_percent_cross_tab(df_hs, 'above_3_gpa_most_recent', 'RT_RecordType__c', 'Most Recent GPA >= 3.0')"
   ]
  },
  {
   "cell_type": "code",
   "execution_count": 38,
   "metadata": {},
   "outputs": [
    {
     "data": {
      "text/html": [
       "<style type=\"text/css\">\n",
       "</style>\n",
       "<table id=\"T_0fe15\">\n",
       "  <thead>\n",
       "    <tr>\n",
       "      <th class=\"index_name level0\" >High School Student</th>\n",
       "      <th id=\"T_0fe15_level0_col0\" class=\"col_heading level0 col0\" >Count</th>\n",
       "      <th id=\"T_0fe15_level0_col1\" class=\"col_heading level0 col1\" >Percent</th>\n",
       "    </tr>\n",
       "    <tr>\n",
       "      <th class=\"index_name level0\" >Spring 2020-21 GPA >= 3.0</th>\n",
       "      <th class=\"blank col0\" >&nbsp;</th>\n",
       "      <th class=\"blank col1\" >&nbsp;</th>\n",
       "    </tr>\n",
       "  </thead>\n",
       "  <tbody>\n",
       "    <tr>\n",
       "      <th id=\"T_0fe15_level0_row0\" class=\"row_heading level0 row0\" >0</th>\n",
       "      <td id=\"T_0fe15_row0_col0\" class=\"data row0 col0\" >148</td>\n",
       "      <td id=\"T_0fe15_row0_col1\" class=\"data row0 col1\" >100%</td>\n",
       "    </tr>\n",
       "    <tr>\n",
       "      <th id=\"T_0fe15_level0_row1\" class=\"row_heading level0 row1\" >All</th>\n",
       "      <td id=\"T_0fe15_row1_col0\" class=\"data row1 col0\" >148</td>\n",
       "      <td id=\"T_0fe15_row1_col1\" class=\"data row1 col1\" >100%</td>\n",
       "    </tr>\n",
       "  </tbody>\n",
       "</table>\n"
      ],
      "text/plain": [
       "<pandas.io.formats.style.Styler at 0x120c43370>"
      ]
     },
     "execution_count": 38,
     "metadata": {},
     "output_type": "execute_result"
    }
   ],
   "source": [
    "create_count_percent_cross_tab(df_hs, 'above_3_gpa_fall', 'RT_RecordType__c', 'Spring 2020-21 GPA >= 3.0')"
   ]
  },
  {
   "cell_type": "markdown",
   "metadata": {},
   "source": [
    "#### % of NOLA freshmen and sophomores required to attend MathBlast who completed the 3-5 weeks during this reporting period (summer 2021)\n",
    "\n",
    "I found this in the DDT. It looks like 66 students were required to take Math Blast, and they all attended 100% of their sessions! "
   ]
  },
  {
   "cell_type": "code",
   "execution_count": 51,
   "metadata": {},
   "outputs": [],
   "source": [
    "# df_2022_2023 = df[(df.C_HIGH_SCHOOL_GRADUATING_CLASS__c == \"2024\") | (df.C_HIGH_SCHOOL_GRADUATING_CLASS__c == \"2023\")]"
   ]
  },
  {
   "cell_type": "code",
   "execution_count": 52,
   "metadata": {},
   "outputs": [],
   "source": [
    "# df_2022_2023 = df_2022_2023[df_2022_2023.attendance_rate > 0]"
   ]
  },
  {
   "cell_type": "code",
   "execution_count": 50,
   "metadata": {},
   "outputs": [],
   "source": [
    "# create_count_percent_cross_tab(df_2022_2023, 'above_80', 'RT_RecordType__c', 'Attended 80%+ Math Blast')"
   ]
  },
  {
   "cell_type": "markdown",
   "metadata": {},
   "source": [
    "#### average # of four-year colleges to which Class of 2022 NOLA high school seniors applied during this reporting period\n",
    "\n"
   ]
  },
  {
   "cell_type": "code",
   "execution_count": 43,
   "metadata": {},
   "outputs": [
    {
     "data": {
      "text/plain": [
       "4.59"
      ]
     },
     "execution_count": 43,
     "metadata": {},
     "output_type": "execute_result"
    }
   ],
   "source": [
    "df_2021.C_Four_Year_College_Applications__c.mean().round(2)"
   ]
  },
  {
   "cell_type": "markdown",
   "metadata": {},
   "source": [
    "#### average # of outside scholarships for which Class of 2022 NOLA high school seniors applied during this reporting period"
   ]
  },
  {
   "cell_type": "code",
   "execution_count": 44,
   "metadata": {},
   "outputs": [
    {
     "data": {
      "text/plain": [
       "1.0"
      ]
     },
     "execution_count": 44,
     "metadata": {},
     "output_type": "execute_result"
    }
   ],
   "source": [
    "df_2021.num_scholarships.mean().round(2)"
   ]
  },
  {
   "cell_type": "markdown",
   "metadata": {},
   "source": [
    "#### # of avg. community service hours Class of 2022 NOLA high school seniors have completed throughout high school."
   ]
  },
  {
   "cell_type": "code",
   "execution_count": 45,
   "metadata": {},
   "outputs": [
    {
     "data": {
      "text/plain": [
       "76.67"
      ]
     },
     "execution_count": 45,
     "metadata": {},
     "output_type": "execute_result"
    }
   ],
   "source": [
    "df_2021.C_Total_Community_Service_Hours_Completed__c.mean().round(2)"
   ]
  },
  {
   "cell_type": "markdown",
   "metadata": {},
   "source": [
    "#### % of NOLA high school students who attend 80% or more of their scheduled College Track programming sessions during this reporting period\n",
    "\n",
    "If we just use Fall 2021-22 data (which would be most stable) it would be 116 students (or 78% of students).\n",
    "\n",
    "If you want to combine Summer 2020-21 and Fall 2021-22 data it would be 95% of students (or 149 students). Note that is pretty inflated by the good attendance in short sessions like Math Blast and Summer Bridge. I'd probably recomend not combining the dates, but it is your call! \n",
    "\n",
    "\n"
   ]
  },
  {
   "cell_type": "markdown",
   "metadata": {},
   "source": [
    "## College Questions"
   ]
  },
  {
   "cell_type": "markdown",
   "metadata": {},
   "source": [
    "#### % of rising college freshmen who completed Summer Bridge to prepare for matriculation during this reporting period\n",
    "\n",
    "I also found this in the DDT. It looks like 56 studens attended Summer Bridge and 80% (45) of them attended above 80% of sessions. Overall they had 59 seniors, so 95% of students participate.\n"
   ]
  },
  {
   "cell_type": "code",
   "execution_count": 46,
   "metadata": {},
   "outputs": [],
   "source": [
    "# df_2020 = df[(df.C_HIGH_SCHOOL_GRADUATING_CLASS__c == \"2021\")]"
   ]
  },
  {
   "cell_type": "code",
   "execution_count": 49,
   "metadata": {},
   "outputs": [],
   "source": [
    "# create_count_percent_cross_tab(df_2020, 'above_80', 'RT_RecordType__c', 'Attended 80%+ Summer Bridge',subset_name='High School Student')"
   ]
  },
  {
   "cell_type": "markdown",
   "metadata": {},
   "source": [
    "## Questions with No Data Related Answer"
   ]
  },
  {
   "cell_type": "markdown",
   "metadata": {},
   "source": [
    "#### *% of seniors who successfully complete recommended dual enrollment classes\n",
    "I'd recomend asking sites as you indicated you are doing. \n"
   ]
  },
  {
   "cell_type": "markdown",
   "metadata": {},
   "source": [
    "**Question:**\n",
    "\n",
    "* The number of households that fit within the following \"Client Type of Household\" categories: Couple With Children/Dependents, Couple With No Children/Dependents, Female Householder With Children/Dependents - No Spouse/Partner, Male Householder with Children/Dependents - No Spouse/Partner, Single Household, Other, Unknown\n",
    "--from our last report, I understand most if not all of our student households fall into the \"unknown\" category. Please confirm that this is still the case.\n",
    "\n",
    "**Answer: All of our students would fall into the unknown category**"
   ]
  },
  {
   "cell_type": "code",
   "execution_count": 1,
   "metadata": {},
   "outputs": [
    {
     "data": {
      "text/html": [
       "\n",
       "<script>\n",
       "$(document).ready(function(){\n",
       "    window.code_toggle = function() {\n",
       "        (window.code_shown) ? $('div.input').hide(250) : $('div.input').show(250);\n",
       "        window.code_shown = !window.code_shown\n",
       "    }\n",
       "    if($('body.nbviewer').length) {\n",
       "        $('<li><a href=\"javascript:window.code_toggle()\" title=\"Show/Hide Code\"><span class=\"fa fa-code fa-2x menu-icon\"></span><span class=\"menu-text\">Show/Hide Code</span></a></li>').appendTo('.navbar-right');\n",
       "        window.code_shown=false;\n",
       "        $('div.input').hide();\n",
       "    }\n",
       "});\n",
       "</script>\n",
       "\n",
       "\n",
       "<style>\n",
       "\n",
       "div.prompt {display:none}\n",
       "\n",
       "\n",
       "h1, .h1 {\n",
       "    font-size: 33px;\n",
       "    font-family: \"Trebuchet MS\";\n",
       "    font-size: 2.5em !important;\n",
       "    color: #2a7bbd;\n",
       "}\n",
       "\n",
       "h2, .h2 {\n",
       "    font-size: 10px;\n",
       "    font-family: \"Trebuchet MS\";\n",
       "    color: #2a7bbd; \n",
       "    \n",
       "}\n",
       "\n",
       "\n",
       "h3, .h3 {\n",
       "    font-size: 10px;\n",
       "    font-family: \"Trebuchet MS\";\n",
       "    color: #5d6063; \n",
       "    \n",
       "}\n",
       "\n",
       ".rendered_html table {\n",
       "\n",
       "    font-size: 14px;\n",
       "}\n",
       "\n",
       ".output_png {\n",
       "  display: flex;\n",
       "  justify-content: center;\n",
       "}\n",
       "\n",
       ".cell {\n",
       "    padding: 0px;\n",
       "}\n",
       "\n",
       "\n",
       "</style>\n"
      ],
      "text/plain": [
       "<IPython.core.display.HTML object>"
      ]
     },
     "metadata": {},
     "output_type": "display_data"
    }
   ],
   "source": [
    "%%html\n",
    "\n",
    "<script>\n",
    "$(document).ready(function(){\n",
    "    window.code_toggle = function() {\n",
    "        (window.code_shown) ? $('div.input').hide(250) : $('div.input').show(250);\n",
    "        window.code_shown = !window.code_shown\n",
    "    }\n",
    "    if($('body.nbviewer').length) {\n",
    "        $('<li><a href=\"javascript:window.code_toggle()\" title=\"Show/Hide Code\"><span class=\"fa fa-code fa-2x menu-icon\"></span><span class=\"menu-text\">Show/Hide Code</span></a></li>').appendTo('.navbar-right');\n",
    "        window.code_shown=false;\n",
    "        $('div.input').hide();\n",
    "    }\n",
    "});\n",
    "</script>\n",
    "\n",
    "\n",
    "<style>\n",
    "\n",
    "div.prompt {display:none}\n",
    "\n",
    "\n",
    "h1, .h1 {\n",
    "    font-size: 33px;\n",
    "    font-family: \"Trebuchet MS\";\n",
    "    font-size: 2.5em !important;\n",
    "    color: #2a7bbd;\n",
    "}\n",
    "\n",
    "h2, .h2 {\n",
    "    font-size: 10px;\n",
    "    font-family: \"Trebuchet MS\";\n",
    "    color: #2a7bbd; \n",
    "    \n",
    "}\n",
    "\n",
    "\n",
    "h3, .h3 {\n",
    "    font-size: 10px;\n",
    "    font-family: \"Trebuchet MS\";\n",
    "    color: #5d6063; \n",
    "    \n",
    "}\n",
    "\n",
    ".rendered_html table {\n",
    "\n",
    "    font-size: 14px;\n",
    "}\n",
    "\n",
    ".output_png {\n",
    "  display: flex;\n",
    "  justify-content: center;\n",
    "}\n",
    "\n",
    ".cell {\n",
    "    padding: 0px;\n",
    "}\n",
    "\n",
    "\n",
    "</style>"
   ]
  }
 ],
 "metadata": {
  "hide_input": false,
  "interpreter": {
   "hash": "82e80291bdce03ba06d3d2072910693f45618ad960da04796eafb715ba00abe8"
  },
  "kernelspec": {
   "display_name": "Python 3 (ipykernel)",
   "language": "python",
   "name": "python3"
  },
  "language_info": {
   "codemirror_mode": {
    "name": "ipython",
    "version": 3
   },
   "file_extension": ".py",
   "mimetype": "text/x-python",
   "name": "python",
   "nbconvert_exporter": "python",
   "pygments_lexer": "ipython3",
   "version": "3.8.10"
  },
  "toc": {
   "base_numbering": 1,
   "nav_menu": {},
   "number_sections": true,
   "sideBar": true,
   "skip_h1_title": false,
   "title_cell": "Table of Contents",
   "title_sidebar": "Contents",
   "toc_cell": false,
   "toc_position": {},
   "toc_section_display": true,
   "toc_window_display": false
  }
 },
 "nbformat": 4,
 "nbformat_minor": 2
}
