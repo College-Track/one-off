{
 "cells": [
  {
   "cell_type": "markdown",
   "metadata": {},
   "source": [
    "# Fight for Children Ward 8 Report"
   ]
  },
  {
   "cell_type": "code",
   "execution_count": 5,
   "metadata": {},
   "outputs": [],
   "source": [
    "import pandas as pd\n",
    "from pathlib import Path\n",
    "from datetime import datetime\n",
    "\n",
    "%matplotlib inline\n",
    "\n",
    "today = datetime.today()\n",
    "in_file = Path.cwd() / \"data\" / \"processed\" / \"processed_data.pkl\"\n",
    "report_dir = Path.cwd() / \"reports\"\n",
    "report_file = report_dir / \"Excel_Analysis_{today:%b-%d-%Y}.xlsx\""
   ]
  },
  {
   "cell_type": "code",
   "execution_count": 6,
   "metadata": {},
   "outputs": [],
   "source": [
    "df = pd.read_pickle(in_file)"
   ]
  },
  {
   "cell_type": "code",
   "execution_count": 7,
   "metadata": {},
   "outputs": [],
   "source": [
    "df_current_only = df[df[\"College Track Status\"] == \"Current CT HS Student\"]"
   ]
  },
  {
   "cell_type": "markdown",
   "metadata": {},
   "source": [
    "### *# of students enrolled (Current CT HS Student Only):"
   ]
  },
  {
   "cell_type": "code",
   "execution_count": 8,
   "metadata": {},
   "outputs": [
    {
     "data": {
      "text/plain": [
       "52"
      ]
     },
     "execution_count": 8,
     "metadata": {},
     "output_type": "execute_result"
    }
   ],
   "source": [
    "len(df_current_only)"
   ]
  },
  {
   "cell_type": "markdown",
   "metadata": {},
   "source": [
    "### *# of students enrolled (Current CT HS Student AND Onboarding):"
   ]
  },
  {
   "cell_type": "code",
   "execution_count": 13,
   "metadata": {},
   "outputs": [
    {
     "data": {
      "text/plain": [
       "78"
      ]
     },
     "execution_count": 13,
     "metadata": {},
     "output_type": "execute_result"
    }
   ],
   "source": [
    "len(df)"
   ]
  },
  {
   "cell_type": "markdown",
   "metadata": {},
   "source": [
    "### *#/% racial/ethnic demographics (Current CT HS Student Only):"
   ]
  },
  {
   "cell_type": "code",
   "execution_count": 14,
   "metadata": {},
   "outputs": [
    {
     "data": {
      "text/html": [
       "<div>\n",
       "<style scoped>\n",
       "    .dataframe tbody tr th:only-of-type {\n",
       "        vertical-align: middle;\n",
       "    }\n",
       "\n",
       "    .dataframe tbody tr th {\n",
       "        vertical-align: top;\n",
       "    }\n",
       "\n",
       "    .dataframe thead th {\n",
       "        text-align: right;\n",
       "    }\n",
       "</style>\n",
       "<table border=\"1\" class=\"dataframe\">\n",
       "  <thead>\n",
       "    <tr style=\"text-align: right;\">\n",
       "      <th></th>\n",
       "      <th>18 Digit ID</th>\n",
       "      <th>% of Total</th>\n",
       "    </tr>\n",
       "    <tr>\n",
       "      <th>Ethnic background</th>\n",
       "      <th></th>\n",
       "      <th></th>\n",
       "    </tr>\n",
       "  </thead>\n",
       "  <tbody>\n",
       "    <tr>\n",
       "      <td>African-American</td>\n",
       "      <td>50</td>\n",
       "      <td>96.0%</td>\n",
       "    </tr>\n",
       "    <tr>\n",
       "      <td>Other</td>\n",
       "      <td>2</td>\n",
       "      <td>4.0%</td>\n",
       "    </tr>\n",
       "  </tbody>\n",
       "</table>\n",
       "</div>"
      ],
      "text/plain": [
       "                   18 Digit ID % of Total\n",
       "Ethnic background                        \n",
       "African-American            50      96.0%\n",
       "Other                        2       4.0%"
      ]
     },
     "execution_count": 14,
     "metadata": {},
     "output_type": "execute_result"
    }
   ],
   "source": [
    "ethnic_table = df_current_only.pivot_table(\n",
    "    index=\"Ethnic background\", values=\"18 Digit ID\", aggfunc=\"count\"\n",
    ")\n",
    "\n",
    "\n",
    "ethnic_table[\"% of Total\"] = (\n",
    "    round(\n",
    "        (ethnic_table[\"18 Digit ID\"] / ethnic_table[\"18 Digit ID\"].sum() * 100), 0\n",
    "    ).astype(str)\n",
    "    + \"%\"\n",
    ")\n",
    "\n",
    "ethnic_table"
   ]
  },
  {
   "cell_type": "markdown",
   "metadata": {},
   "source": [
    "### ### *#/% racial/ethnic demographics (Current CT HS Student AND Onboarding):"
   ]
  },
  {
   "cell_type": "code",
   "execution_count": 15,
   "metadata": {},
   "outputs": [
    {
     "data": {
      "text/html": [
       "<div>\n",
       "<style scoped>\n",
       "    .dataframe tbody tr th:only-of-type {\n",
       "        vertical-align: middle;\n",
       "    }\n",
       "\n",
       "    .dataframe tbody tr th {\n",
       "        vertical-align: top;\n",
       "    }\n",
       "\n",
       "    .dataframe thead th {\n",
       "        text-align: right;\n",
       "    }\n",
       "</style>\n",
       "<table border=\"1\" class=\"dataframe\">\n",
       "  <thead>\n",
       "    <tr style=\"text-align: right;\">\n",
       "      <th></th>\n",
       "      <th>18 Digit ID</th>\n",
       "      <th>% of Total</th>\n",
       "    </tr>\n",
       "    <tr>\n",
       "      <th>Ethnic background</th>\n",
       "      <th></th>\n",
       "      <th></th>\n",
       "    </tr>\n",
       "  </thead>\n",
       "  <tbody>\n",
       "    <tr>\n",
       "      <td>African-American</td>\n",
       "      <td>75</td>\n",
       "      <td>96.0%</td>\n",
       "    </tr>\n",
       "    <tr>\n",
       "      <td>Native American</td>\n",
       "      <td>1</td>\n",
       "      <td>1.0%</td>\n",
       "    </tr>\n",
       "    <tr>\n",
       "      <td>Other</td>\n",
       "      <td>2</td>\n",
       "      <td>3.0%</td>\n",
       "    </tr>\n",
       "  </tbody>\n",
       "</table>\n",
       "</div>"
      ],
      "text/plain": [
       "                   18 Digit ID % of Total\n",
       "Ethnic background                        \n",
       "African-American            75      96.0%\n",
       "Native American              1       1.0%\n",
       "Other                        2       3.0%"
      ]
     },
     "execution_count": 15,
     "metadata": {},
     "output_type": "execute_result"
    }
   ],
   "source": [
    "ethnic_table = df.pivot_table(\n",
    "    index=\"Ethnic background\", values=\"18 Digit ID\", aggfunc=\"count\"\n",
    ")\n",
    "\n",
    "ethnic_table[\"% of Total\"] = (\n",
    "    round(\n",
    "        (ethnic_table[\"18 Digit ID\"] / ethnic_table[\"18 Digit ID\"].sum() * 100), 0\n",
    "    ).astype(str)\n",
    "    + \"%\"\n",
    ")\n",
    "\n",
    "ethnic_table"
   ]
  },
  {
   "cell_type": "markdown",
   "metadata": {},
   "source": [
    "### *#/% male/female demographics ( Current CT HS Student Only):"
   ]
  },
  {
   "cell_type": "code",
   "execution_count": 16,
   "metadata": {},
   "outputs": [
    {
     "data": {
      "text/html": [
       "<div>\n",
       "<style scoped>\n",
       "    .dataframe tbody tr th:only-of-type {\n",
       "        vertical-align: middle;\n",
       "    }\n",
       "\n",
       "    .dataframe tbody tr th {\n",
       "        vertical-align: top;\n",
       "    }\n",
       "\n",
       "    .dataframe thead th {\n",
       "        text-align: right;\n",
       "    }\n",
       "</style>\n",
       "<table border=\"1\" class=\"dataframe\">\n",
       "  <thead>\n",
       "    <tr style=\"text-align: right;\">\n",
       "      <th></th>\n",
       "      <th>18 Digit ID</th>\n",
       "      <th>% of Total</th>\n",
       "    </tr>\n",
       "    <tr>\n",
       "      <th>Gender</th>\n",
       "      <th></th>\n",
       "      <th></th>\n",
       "    </tr>\n",
       "  </thead>\n",
       "  <tbody>\n",
       "    <tr>\n",
       "      <td>Female</td>\n",
       "      <td>30</td>\n",
       "      <td>58.0%</td>\n",
       "    </tr>\n",
       "    <tr>\n",
       "      <td>Male</td>\n",
       "      <td>22</td>\n",
       "      <td>42.0%</td>\n",
       "    </tr>\n",
       "  </tbody>\n",
       "</table>\n",
       "</div>"
      ],
      "text/plain": [
       "        18 Digit ID % of Total\n",
       "Gender                        \n",
       "Female           30      58.0%\n",
       "Male             22      42.0%"
      ]
     },
     "execution_count": 16,
     "metadata": {},
     "output_type": "execute_result"
    }
   ],
   "source": [
    "gender_table = df_current_only.pivot_table(\n",
    "    index=\"Gender\", values=\"18 Digit ID\", aggfunc=\"count\"\n",
    ")\n",
    "\n",
    "gender_table[\"% of Total\"] = (\n",
    "    round(\n",
    "        (gender_table[\"18 Digit ID\"] / gender_table[\"18 Digit ID\"].sum() * 100), 0\n",
    "    ).astype(str)\n",
    "    + \"%\"\n",
    ")\n",
    "\n",
    "gender_table"
   ]
  },
  {
   "cell_type": "markdown",
   "metadata": {},
   "source": [
    "### *#/% male/female demographics ( Current CT HS Student AND Onboarding):"
   ]
  },
  {
   "cell_type": "code",
   "execution_count": 17,
   "metadata": {},
   "outputs": [
    {
     "data": {
      "text/html": [
       "<div>\n",
       "<style scoped>\n",
       "    .dataframe tbody tr th:only-of-type {\n",
       "        vertical-align: middle;\n",
       "    }\n",
       "\n",
       "    .dataframe tbody tr th {\n",
       "        vertical-align: top;\n",
       "    }\n",
       "\n",
       "    .dataframe thead th {\n",
       "        text-align: right;\n",
       "    }\n",
       "</style>\n",
       "<table border=\"1\" class=\"dataframe\">\n",
       "  <thead>\n",
       "    <tr style=\"text-align: right;\">\n",
       "      <th></th>\n",
       "      <th>18 Digit ID</th>\n",
       "      <th>% of Total</th>\n",
       "    </tr>\n",
       "    <tr>\n",
       "      <th>Gender</th>\n",
       "      <th></th>\n",
       "      <th></th>\n",
       "    </tr>\n",
       "  </thead>\n",
       "  <tbody>\n",
       "    <tr>\n",
       "      <td>Female</td>\n",
       "      <td>45</td>\n",
       "      <td>58.0%</td>\n",
       "    </tr>\n",
       "    <tr>\n",
       "      <td>Male</td>\n",
       "      <td>33</td>\n",
       "      <td>42.0%</td>\n",
       "    </tr>\n",
       "  </tbody>\n",
       "</table>\n",
       "</div>"
      ],
      "text/plain": [
       "        18 Digit ID % of Total\n",
       "Gender                        \n",
       "Female           45      58.0%\n",
       "Male             33      42.0%"
      ]
     },
     "execution_count": 17,
     "metadata": {},
     "output_type": "execute_result"
    }
   ],
   "source": [
    "gender_table = df.pivot_table(index=\"Gender\", values=\"18 Digit ID\", aggfunc=\"count\")\n",
    "\n",
    "gender_table[\"% of Total\"] = (\n",
    "    round(\n",
    "        (gender_table[\"18 Digit ID\"] / gender_table[\"18 Digit ID\"].sum() * 100), 0\n",
    "    ).astype(str)\n",
    "    + \"%\"\n",
    ")\n",
    "\n",
    "gender_table"
   ]
  },
  {
   "cell_type": "markdown",
   "metadata": {},
   "source": [
    "### *#/% low-income (Current CT HS Student Only):\n"
   ]
  },
  {
   "cell_type": "code",
   "execution_count": 18,
   "metadata": {},
   "outputs": [
    {
     "data": {
      "text/html": [
       "<div>\n",
       "<style scoped>\n",
       "    .dataframe tbody tr th:only-of-type {\n",
       "        vertical-align: middle;\n",
       "    }\n",
       "\n",
       "    .dataframe tbody tr th {\n",
       "        vertical-align: top;\n",
       "    }\n",
       "\n",
       "    .dataframe thead th {\n",
       "        text-align: right;\n",
       "    }\n",
       "</style>\n",
       "<table border=\"1\" class=\"dataframe\">\n",
       "  <thead>\n",
       "    <tr style=\"text-align: right;\">\n",
       "      <th></th>\n",
       "      <th>18 Digit ID</th>\n",
       "      <th>% of Total</th>\n",
       "    </tr>\n",
       "    <tr>\n",
       "      <th>Indicator: Low-Income</th>\n",
       "      <th></th>\n",
       "      <th></th>\n",
       "    </tr>\n",
       "  </thead>\n",
       "  <tbody>\n",
       "    <tr>\n",
       "      <td>False</td>\n",
       "      <td>15</td>\n",
       "      <td>29.0%</td>\n",
       "    </tr>\n",
       "    <tr>\n",
       "      <td>True</td>\n",
       "      <td>37</td>\n",
       "      <td>71.0%</td>\n",
       "    </tr>\n",
       "  </tbody>\n",
       "</table>\n",
       "</div>"
      ],
      "text/plain": [
       "                       18 Digit ID % of Total\n",
       "Indicator: Low-Income                        \n",
       "False                           15      29.0%\n",
       "True                            37      71.0%"
      ]
     },
     "execution_count": 18,
     "metadata": {},
     "output_type": "execute_result"
    }
   ],
   "source": [
    "low_income_table = df_current_only.pivot_table(\n",
    "    index=\"Indicator: Low-Income\", values=\"18 Digit ID\", aggfunc=\"count\"\n",
    ")\n",
    "\n",
    "low_income_table[\"% of Total\"] = (\n",
    "    round(\n",
    "        (low_income_table[\"18 Digit ID\"] / low_income_table[\"18 Digit ID\"].sum() * 100),\n",
    "        0,\n",
    "    ).astype(str)\n",
    "    + \"%\"\n",
    ")\n",
    "\n",
    "low_income_table"
   ]
  },
  {
   "cell_type": "markdown",
   "metadata": {},
   "source": [
    "### *#/% low-income (Current CT HS Student AND Onboarding):"
   ]
  },
  {
   "cell_type": "code",
   "execution_count": 19,
   "metadata": {},
   "outputs": [
    {
     "data": {
      "text/html": [
       "<div>\n",
       "<style scoped>\n",
       "    .dataframe tbody tr th:only-of-type {\n",
       "        vertical-align: middle;\n",
       "    }\n",
       "\n",
       "    .dataframe tbody tr th {\n",
       "        vertical-align: top;\n",
       "    }\n",
       "\n",
       "    .dataframe thead th {\n",
       "        text-align: right;\n",
       "    }\n",
       "</style>\n",
       "<table border=\"1\" class=\"dataframe\">\n",
       "  <thead>\n",
       "    <tr style=\"text-align: right;\">\n",
       "      <th></th>\n",
       "      <th>18 Digit ID</th>\n",
       "      <th>% of Total</th>\n",
       "    </tr>\n",
       "    <tr>\n",
       "      <th>Indicator: Low-Income</th>\n",
       "      <th></th>\n",
       "      <th></th>\n",
       "    </tr>\n",
       "  </thead>\n",
       "  <tbody>\n",
       "    <tr>\n",
       "      <td>False</td>\n",
       "      <td>20</td>\n",
       "      <td>26.0%</td>\n",
       "    </tr>\n",
       "    <tr>\n",
       "      <td>True</td>\n",
       "      <td>58</td>\n",
       "      <td>74.0%</td>\n",
       "    </tr>\n",
       "  </tbody>\n",
       "</table>\n",
       "</div>"
      ],
      "text/plain": [
       "                       18 Digit ID % of Total\n",
       "Indicator: Low-Income                        \n",
       "False                           20      26.0%\n",
       "True                            58      74.0%"
      ]
     },
     "execution_count": 19,
     "metadata": {},
     "output_type": "execute_result"
    }
   ],
   "source": [
    "low_income_table = df.pivot_table(\n",
    "    index=\"Indicator: Low-Income\", values=\"18 Digit ID\", aggfunc=\"count\"\n",
    ")\n",
    "\n",
    "low_income_table[\"% of Total\"] = (\n",
    "    round(\n",
    "        (low_income_table[\"18 Digit ID\"] / low_income_table[\"18 Digit ID\"].sum() * 100),\n",
    "        0,\n",
    "    ).astype(str)\n",
    "    + \"%\"\n",
    ")\n",
    "\n",
    "low_income_table"
   ]
  },
  {
   "cell_type": "markdown",
   "metadata": {},
   "source": [
    "### *#/% first-generation (Current CT HS Student Only):"
   ]
  },
  {
   "cell_type": "code",
   "execution_count": 20,
   "metadata": {},
   "outputs": [
    {
     "data": {
      "text/html": [
       "<div>\n",
       "<style scoped>\n",
       "    .dataframe tbody tr th:only-of-type {\n",
       "        vertical-align: middle;\n",
       "    }\n",
       "\n",
       "    .dataframe tbody tr th {\n",
       "        vertical-align: top;\n",
       "    }\n",
       "\n",
       "    .dataframe thead th {\n",
       "        text-align: right;\n",
       "    }\n",
       "</style>\n",
       "<table border=\"1\" class=\"dataframe\">\n",
       "  <thead>\n",
       "    <tr style=\"text-align: right;\">\n",
       "      <th></th>\n",
       "      <th>18 Digit ID</th>\n",
       "      <th>% of Total</th>\n",
       "    </tr>\n",
       "    <tr>\n",
       "      <th>First Generation</th>\n",
       "      <th></th>\n",
       "      <th></th>\n",
       "    </tr>\n",
       "  </thead>\n",
       "  <tbody>\n",
       "    <tr>\n",
       "      <td>Missing</td>\n",
       "      <td>4</td>\n",
       "      <td>8.0%</td>\n",
       "    </tr>\n",
       "    <tr>\n",
       "      <td>No</td>\n",
       "      <td>2</td>\n",
       "      <td>4.0%</td>\n",
       "    </tr>\n",
       "    <tr>\n",
       "      <td>Yes</td>\n",
       "      <td>46</td>\n",
       "      <td>88.0%</td>\n",
       "    </tr>\n",
       "  </tbody>\n",
       "</table>\n",
       "</div>"
      ],
      "text/plain": [
       "                  18 Digit ID % of Total\n",
       "First Generation                        \n",
       "Missing                     4       8.0%\n",
       "No                          2       4.0%\n",
       "Yes                        46      88.0%"
      ]
     },
     "execution_count": 20,
     "metadata": {},
     "output_type": "execute_result"
    }
   ],
   "source": [
    "first_gen_table = df_current_only.pivot_table(\n",
    "    index=\"First Generation\", values=\"18 Digit ID\", aggfunc=\"count\"\n",
    ")\n",
    "\n",
    "first_gen_table[\"% of Total\"] = (\n",
    "    round(\n",
    "        (first_gen_table[\"18 Digit ID\"] / first_gen_table[\"18 Digit ID\"].sum() * 100), 0\n",
    "    ).astype(str)\n",
    "    + \"%\"\n",
    ")\n",
    "\n",
    "first_gen_table"
   ]
  },
  {
   "cell_type": "markdown",
   "metadata": {},
   "source": [
    "### *#/% first-generation (Current CT HS Student AND Onboarding):"
   ]
  },
  {
   "cell_type": "code",
   "execution_count": 21,
   "metadata": {},
   "outputs": [
    {
     "data": {
      "text/html": [
       "<div>\n",
       "<style scoped>\n",
       "    .dataframe tbody tr th:only-of-type {\n",
       "        vertical-align: middle;\n",
       "    }\n",
       "\n",
       "    .dataframe tbody tr th {\n",
       "        vertical-align: top;\n",
       "    }\n",
       "\n",
       "    .dataframe thead th {\n",
       "        text-align: right;\n",
       "    }\n",
       "</style>\n",
       "<table border=\"1\" class=\"dataframe\">\n",
       "  <thead>\n",
       "    <tr style=\"text-align: right;\">\n",
       "      <th></th>\n",
       "      <th>18 Digit ID</th>\n",
       "      <th>% of Total</th>\n",
       "    </tr>\n",
       "    <tr>\n",
       "      <th>First Generation</th>\n",
       "      <th></th>\n",
       "      <th></th>\n",
       "    </tr>\n",
       "  </thead>\n",
       "  <tbody>\n",
       "    <tr>\n",
       "      <td>Missing</td>\n",
       "      <td>8</td>\n",
       "      <td>10.0%</td>\n",
       "    </tr>\n",
       "    <tr>\n",
       "      <td>No</td>\n",
       "      <td>3</td>\n",
       "      <td>4.0%</td>\n",
       "    </tr>\n",
       "    <tr>\n",
       "      <td>Yes</td>\n",
       "      <td>67</td>\n",
       "      <td>86.0%</td>\n",
       "    </tr>\n",
       "  </tbody>\n",
       "</table>\n",
       "</div>"
      ],
      "text/plain": [
       "                  18 Digit ID % of Total\n",
       "First Generation                        \n",
       "Missing                     8      10.0%\n",
       "No                          3       4.0%\n",
       "Yes                        67      86.0%"
      ]
     },
     "execution_count": 21,
     "metadata": {},
     "output_type": "execute_result"
    }
   ],
   "source": [
    "first_gen_table = df.pivot_table(\n",
    "    index=\"First Generation\", values=\"18 Digit ID\", aggfunc=\"count\"\n",
    ")\n",
    "\n",
    "first_gen_table[\"% of Total\"] = (\n",
    "    round(\n",
    "        (first_gen_table[\"18 Digit ID\"] / first_gen_table[\"18 Digit ID\"].sum() * 100), 0\n",
    "    ).astype(str)\n",
    "    + \"%\"\n",
    ")\n",
    "\n",
    "first_gen_table"
   ]
  },
  {
   "cell_type": "markdown",
   "metadata": {},
   "source": [
    "### PSAT Data (Current CT HS Student Only):\n",
    "\n",
    "The average PSAT Math Score was 374.\n",
    "\n",
    "The average PSAT English score was 339\n",
    "\n",
    "The average PSAT Total was 713"
   ]
  },
  {
   "cell_type": "markdown",
   "metadata": {},
   "source": [
    "### Applicants Data:\n",
    "\n",
    "Number of Applicants: 99"
   ]
  },
  {
   "cell_type": "markdown",
   "metadata": {},
   "source": [
    "### Ward 8 Residents (Current CT HS Student Only):\n"
   ]
  },
  {
   "cell_type": "code",
   "execution_count": 22,
   "metadata": {},
   "outputs": [
    {
     "data": {
      "text/html": [
       "<div>\n",
       "<style scoped>\n",
       "    .dataframe tbody tr th:only-of-type {\n",
       "        vertical-align: middle;\n",
       "    }\n",
       "\n",
       "    .dataframe tbody tr th {\n",
       "        vertical-align: top;\n",
       "    }\n",
       "\n",
       "    .dataframe thead th {\n",
       "        text-align: right;\n",
       "    }\n",
       "</style>\n",
       "<table border=\"1\" class=\"dataframe\">\n",
       "  <thead>\n",
       "    <tr style=\"text-align: right;\">\n",
       "      <th></th>\n",
       "      <th>18 Digit ID</th>\n",
       "      <th>% of Total</th>\n",
       "    </tr>\n",
       "    <tr>\n",
       "      <th>ward_8_resident</th>\n",
       "      <th></th>\n",
       "      <th></th>\n",
       "    </tr>\n",
       "  </thead>\n",
       "  <tbody>\n",
       "    <tr>\n",
       "      <td>False</td>\n",
       "      <td>11</td>\n",
       "      <td>21.0%</td>\n",
       "    </tr>\n",
       "    <tr>\n",
       "      <td>True</td>\n",
       "      <td>41</td>\n",
       "      <td>79.0%</td>\n",
       "    </tr>\n",
       "  </tbody>\n",
       "</table>\n",
       "</div>"
      ],
      "text/plain": [
       "                 18 Digit ID % of Total\n",
       "ward_8_resident                        \n",
       "False                     11      21.0%\n",
       "True                      41      79.0%"
      ]
     },
     "execution_count": 22,
     "metadata": {},
     "output_type": "execute_result"
    }
   ],
   "source": [
    "ward_8_table = df_current_only.pivot_table(\n",
    "    index=\"ward_8_resident\", values=\"18 Digit ID\", aggfunc=\"count\"\n",
    ")\n",
    "\n",
    "ward_8_table[\"% of Total\"] = (\n",
    "    round(\n",
    "        (ward_8_table[\"18 Digit ID\"] / ward_8_table[\"18 Digit ID\"].sum() * 100), 0\n",
    "    ).astype(str)\n",
    "    + \"%\"\n",
    ")\n",
    "\n",
    "ward_8_table"
   ]
  },
  {
   "cell_type": "markdown",
   "metadata": {},
   "source": [
    "### Ward 8 Residents  (Current CT HS Student AND Onboarding):\n"
   ]
  },
  {
   "cell_type": "code",
   "execution_count": 23,
   "metadata": {},
   "outputs": [
    {
     "data": {
      "text/html": [
       "<div>\n",
       "<style scoped>\n",
       "    .dataframe tbody tr th:only-of-type {\n",
       "        vertical-align: middle;\n",
       "    }\n",
       "\n",
       "    .dataframe tbody tr th {\n",
       "        vertical-align: top;\n",
       "    }\n",
       "\n",
       "    .dataframe thead th {\n",
       "        text-align: right;\n",
       "    }\n",
       "</style>\n",
       "<table border=\"1\" class=\"dataframe\">\n",
       "  <thead>\n",
       "    <tr style=\"text-align: right;\">\n",
       "      <th></th>\n",
       "      <th>18 Digit ID</th>\n",
       "      <th>% of Total</th>\n",
       "    </tr>\n",
       "    <tr>\n",
       "      <th>ward_8_resident</th>\n",
       "      <th></th>\n",
       "      <th></th>\n",
       "    </tr>\n",
       "  </thead>\n",
       "  <tbody>\n",
       "    <tr>\n",
       "      <td>False</td>\n",
       "      <td>14</td>\n",
       "      <td>18.0%</td>\n",
       "    </tr>\n",
       "    <tr>\n",
       "      <td>True</td>\n",
       "      <td>64</td>\n",
       "      <td>82.0%</td>\n",
       "    </tr>\n",
       "  </tbody>\n",
       "</table>\n",
       "</div>"
      ],
      "text/plain": [
       "                 18 Digit ID % of Total\n",
       "ward_8_resident                        \n",
       "False                     14      18.0%\n",
       "True                      64      82.0%"
      ]
     },
     "execution_count": 23,
     "metadata": {},
     "output_type": "execute_result"
    }
   ],
   "source": [
    "ward_8_table = df.pivot_table(\n",
    "    index=\"ward_8_resident\", values=\"18 Digit ID\", aggfunc=\"count\"\n",
    ")\n",
    "\n",
    "ward_8_table[\"% of Total\"] = (\n",
    "    round(\n",
    "        (ward_8_table[\"18 Digit ID\"] / ward_8_table[\"18 Digit ID\"].sum() * 100), 0\n",
    "    ).astype(str)\n",
    "    + \"%\"\n",
    ")\n",
    "\n",
    "ward_8_table"
   ]
  },
  {
   "cell_type": "markdown",
   "metadata": {},
   "source": [
    "### School Breakdown (Current CT HS Student Only):\n",
    "\n",
    "Sorry, the schools are entered into the system as DCPS. We don't have any additional data\n"
   ]
  },
  {
   "cell_type": "code",
   "execution_count": 24,
   "metadata": {},
   "outputs": [
    {
     "data": {
      "text/html": [
       "<div>\n",
       "<style scoped>\n",
       "    .dataframe tbody tr th:only-of-type {\n",
       "        vertical-align: middle;\n",
       "    }\n",
       "\n",
       "    .dataframe tbody tr th {\n",
       "        vertical-align: top;\n",
       "    }\n",
       "\n",
       "    .dataframe thead th {\n",
       "        text-align: right;\n",
       "    }\n",
       "</style>\n",
       "<table border=\"1\" class=\"dataframe\">\n",
       "  <thead>\n",
       "    <tr style=\"text-align: right;\">\n",
       "      <th></th>\n",
       "      <th>18 Digit ID</th>\n",
       "      <th>% of Total</th>\n",
       "    </tr>\n",
       "    <tr>\n",
       "      <th>Current School</th>\n",
       "      <th></th>\n",
       "      <th></th>\n",
       "    </tr>\n",
       "  </thead>\n",
       "  <tbody>\n",
       "    <tr>\n",
       "      <td>DC Public Schools</td>\n",
       "      <td>7</td>\n",
       "      <td>13.0%</td>\n",
       "    </tr>\n",
       "    <tr>\n",
       "      <td>Frank W. Ballou High School</td>\n",
       "      <td>9</td>\n",
       "      <td>17.0%</td>\n",
       "    </tr>\n",
       "    <tr>\n",
       "      <td>Friendship Technology Prepartory Middle &amp; High</td>\n",
       "      <td>26</td>\n",
       "      <td>50.0%</td>\n",
       "    </tr>\n",
       "    <tr>\n",
       "      <td>Marshall (Thurgood) High School</td>\n",
       "      <td>1</td>\n",
       "      <td>2.0%</td>\n",
       "    </tr>\n",
       "    <tr>\n",
       "      <td>Thurgood Marshall Academy Public Charter High School</td>\n",
       "      <td>9</td>\n",
       "      <td>17.0%</td>\n",
       "    </tr>\n",
       "  </tbody>\n",
       "</table>\n",
       "</div>"
      ],
      "text/plain": [
       "                                                    18 Digit ID % of Total\n",
       "Current School                                                            \n",
       "DC Public Schools                                             7      13.0%\n",
       "Frank W. Ballou High School                                   9      17.0%\n",
       "Friendship Technology Prepartory Middle & High               26      50.0%\n",
       "Marshall (Thurgood) High School                               1       2.0%\n",
       "Thurgood Marshall Academy Public Charter High S...            9      17.0%"
      ]
     },
     "execution_count": 24,
     "metadata": {},
     "output_type": "execute_result"
    }
   ],
   "source": [
    "school_table = df_current_only.pivot_table(\n",
    "    index=\"Current School\", values=\"18 Digit ID\", aggfunc=\"count\"\n",
    ")\n",
    "\n",
    "school_table[\"% of Total\"] = (\n",
    "    round(\n",
    "        (school_table[\"18 Digit ID\"] / school_table[\"18 Digit ID\"].sum() * 100), 0\n",
    "    ).astype(str)\n",
    "    + \"%\"\n",
    ")\n",
    "\n",
    "school_table"
   ]
  },
  {
   "cell_type": "markdown",
   "metadata": {},
   "source": [
    "### School Breakdown (Current CT HS Student AND Onboarding):\n"
   ]
  },
  {
   "cell_type": "code",
   "execution_count": 25,
   "metadata": {},
   "outputs": [
    {
     "data": {
      "text/html": [
       "<div>\n",
       "<style scoped>\n",
       "    .dataframe tbody tr th:only-of-type {\n",
       "        vertical-align: middle;\n",
       "    }\n",
       "\n",
       "    .dataframe tbody tr th {\n",
       "        vertical-align: top;\n",
       "    }\n",
       "\n",
       "    .dataframe thead th {\n",
       "        text-align: right;\n",
       "    }\n",
       "</style>\n",
       "<table border=\"1\" class=\"dataframe\">\n",
       "  <thead>\n",
       "    <tr style=\"text-align: right;\">\n",
       "      <th></th>\n",
       "      <th>18 Digit ID</th>\n",
       "      <th>% of Total</th>\n",
       "    </tr>\n",
       "    <tr>\n",
       "      <th>Current School</th>\n",
       "      <th></th>\n",
       "      <th></th>\n",
       "    </tr>\n",
       "  </thead>\n",
       "  <tbody>\n",
       "    <tr>\n",
       "      <td>DC Public Schools</td>\n",
       "      <td>11</td>\n",
       "      <td>14.0%</td>\n",
       "    </tr>\n",
       "    <tr>\n",
       "      <td>Frank W. Ballou High School</td>\n",
       "      <td>18</td>\n",
       "      <td>23.0%</td>\n",
       "    </tr>\n",
       "    <tr>\n",
       "      <td>Friendship Technology Prepartory Middle &amp; High</td>\n",
       "      <td>35</td>\n",
       "      <td>45.0%</td>\n",
       "    </tr>\n",
       "    <tr>\n",
       "      <td>Marshall (Thurgood) High School</td>\n",
       "      <td>1</td>\n",
       "      <td>1.0%</td>\n",
       "    </tr>\n",
       "    <tr>\n",
       "      <td>Thurgood Marshall Academy Public Charter High School</td>\n",
       "      <td>13</td>\n",
       "      <td>17.0%</td>\n",
       "    </tr>\n",
       "  </tbody>\n",
       "</table>\n",
       "</div>"
      ],
      "text/plain": [
       "                                                    18 Digit ID % of Total\n",
       "Current School                                                            \n",
       "DC Public Schools                                            11      14.0%\n",
       "Frank W. Ballou High School                                  18      23.0%\n",
       "Friendship Technology Prepartory Middle & High               35      45.0%\n",
       "Marshall (Thurgood) High School                               1       1.0%\n",
       "Thurgood Marshall Academy Public Charter High S...           13      17.0%"
      ]
     },
     "execution_count": 25,
     "metadata": {},
     "output_type": "execute_result"
    }
   ],
   "source": [
    "school_table = df.pivot_table(\n",
    "    index=\"Current School\", values=\"18 Digit ID\", aggfunc=\"count\"\n",
    ")\n",
    "\n",
    "school_table[\"% of Total\"] = (\n",
    "    round(\n",
    "        (school_table[\"18 Digit ID\"] / school_table[\"18 Digit ID\"].sum() * 100), 0\n",
    "    ).astype(str)\n",
    "    + \"%\"\n",
    ")\n",
    "\n",
    "school_table"
   ]
  },
  {
   "cell_type": "code",
   "execution_count": null,
   "metadata": {},
   "outputs": [],
   "source": []
  }
 ],
 "metadata": {
  "hide_input": false,
  "kernelspec": {
   "display_name": "Python 3",
   "language": "python",
   "name": "python3"
  },
  "language_info": {
   "codemirror_mode": {
    "name": "ipython",
    "version": 3
   },
   "file_extension": ".py",
   "mimetype": "text/x-python",
   "name": "python",
   "nbconvert_exporter": "python",
   "pygments_lexer": "ipython3",
   "version": "3.7.4"
  },
  "toc": {
   "base_numbering": 1,
   "nav_menu": {},
   "number_sections": false,
   "sideBar": true,
   "skip_h1_title": false,
   "title_cell": "Table of Contents",
   "title_sidebar": "Contents",
   "toc_cell": false,
   "toc_position": {},
   "toc_section_display": true,
   "toc_window_display": true
  }
 },
 "nbformat": 4,
 "nbformat_minor": 2
}
