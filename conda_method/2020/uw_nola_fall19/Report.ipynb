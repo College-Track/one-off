{
 "cells": [
  {
   "cell_type": "markdown",
   "metadata": {},
   "source": [
    "# FY20 United Way of Southeast Louisiana (UWSELA) Interim Report Data"
   ]
  },
  {
   "cell_type": "code",
   "execution_count": 82,
   "metadata": {
    "lines_to_next_cell": 2
   },
   "outputs": [],
   "source": [
    "import pandas as pd\n",
    "from pathlib import Path\n",
    "from datetime import datetime\n",
    "import numpy as np\n",
    "\n",
    "\n",
    "\n",
    "in_file = Path.cwd() / \"data\" / \"processed\" / \"processed_data.pkl\"\n",
    "df = pd.read_pickle(in_file)\n",
    "\n",
    "in_file2 = Path.cwd() / \"data\" / \"processed\" / \"processed_data_2.pkl\"\n",
    "df2 = pd.read_pickle(in_file2)"
   ]
  },
  {
   "cell_type": "code",
   "execution_count": 83,
   "metadata": {},
   "outputs": [],
   "source": [
    "df[\"Income\"] = (\n",
    "    df[\"Annual household income\"]\n",
    "    .replace({\"\\$\": \"\", \",\": \"\", \"-\": 0}, regex=True)\n",
    "    .astype(float)\n",
    ")"
   ]
  },
  {
   "cell_type": "code",
   "execution_count": 84,
   "metadata": {},
   "outputs": [],
   "source": [
    "def create_income_bucket(value):\n",
    "    if value < 11872:\n",
    "        return \"Less than or equal to 30% of Median Income\"\n",
    "    elif value < 19392:\n",
    "        return \"Between 30% of 50% of Median Income\"\n",
    "    elif value < 31265:\n",
    "        return \"Between 51% and 80% of Median Income\"\n",
    "    else:\n",
    "        return \"Greater than 80% of Median Income\""
   ]
  },
  {
   "cell_type": "code",
   "execution_count": 85,
   "metadata": {},
   "outputs": [],
   "source": [
    "df[\"Income Bucket\"] = df.apply(lambda x: create_income_bucket(x[\"Income\"]), axis=1)"
   ]
  },
  {
   "cell_type": "code",
   "execution_count": 86,
   "metadata": {},
   "outputs": [],
   "source": [
    "df[\"GPA (Prev Term CGPA)\"] = pd.to_numeric(df[\"GPA (Prev Term CGPA)\"], errors=\"coerce\")\n",
    "\n",
    "df[\"ACT Superscore (highest official)\"] = pd.to_numeric(df[\"ACT Superscore (highest official)\"], errors=\"coerce\")\n"
   ]
  },
  {
   "cell_type": "code",
   "execution_count": 87,
   "metadata": {},
   "outputs": [],
   "source": [
    "df[\"gpa\"] = pd.to_numeric(df[\"gpa\"], errors=\"coerce\")"
   ]
  },
  {
   "cell_type": "code",
   "execution_count": 88,
   "metadata": {},
   "outputs": [],
   "source": [
    "senior_df = df[df[\"High School Class\"] == 2020]"
   ]
  },
  {
   "cell_type": "code",
   "execution_count": 89,
   "metadata": {},
   "outputs": [],
   "source": [
    "junior_df = df[df[\"High School Class\"] == 2021]"
   ]
  },
  {
   "cell_type": "code",
   "execution_count": 90,
   "metadata": {},
   "outputs": [],
   "source": [
    "hs_df = df[df[\"Contact Record Type\"] == \"Student: High School\"]"
   ]
  },
  {
   "cell_type": "markdown",
   "metadata": {},
   "source": [
    "## Follow up Questions\n",
    "- Questions that were added on after the ticket was originally submitted."
   ]
  },
  {
   "cell_type": "markdown",
   "metadata": {},
   "source": [
    "### *% of freshmen and sophomores required to attend MathBlast who complete the 3-5 weeks\n",
    "\n",
    "\n",
    "*Original response for Summer 2019*\n",
    "\n",
    "10 students didn't attend more than 80% of their classes, out of 46 students who were enrolled in Math Blast over the 2019 Summer.\n",
    "\n",
    "10 / 46 = 21%\n",
    "\n",
    "\n",
    "*For Summer 2020*\n",
    "\n",
    "the rates went down considerably, with only 25% of students completing 80% or more of the math blast sessions.\n"
   ]
  },
  {
   "cell_type": "code",
   "execution_count": 91,
   "metadata": {},
   "outputs": [
    {
     "data": {
      "text/plain": [
       "False    69\n",
       "True     23\n",
       "Name: above_80, dtype: int64"
      ]
     },
     "execution_count": 91,
     "metadata": {},
     "output_type": "execute_result"
    }
   ],
   "source": [
    "df2[df2.workshop == \"Math Blast\"]['above_80'].value_counts(normalize=False)"
   ]
  },
  {
   "cell_type": "code",
   "execution_count": 92,
   "metadata": {},
   "outputs": [
    {
     "data": {
      "text/plain": [
       "False    0.75\n",
       "True     0.25\n",
       "Name: above_80, dtype: float64"
      ]
     },
     "execution_count": 92,
     "metadata": {},
     "output_type": "execute_result"
    }
   ],
   "source": [
    "df2[df2.workshop == \"Math Blast\"]['above_80'].value_counts(normalize=True)"
   ]
  },
  {
   "cell_type": "markdown",
   "metadata": {},
   "source": [
    "### *% of juniors who successfully complete recommended dual enrollment classes\n",
    "\n",
    "I confirmed, we don't currently have a method to track this."
   ]
  },
  {
   "cell_type": "markdown",
   "metadata": {},
   "source": [
    "### *% of rising seniors who complete \"College Prep Institute\" to prepare for matriculation\n",
    "\n",
    "Not sure we have any data on this workshop, or that this workshop occurred at NOLA\n",
    "\n"
   ]
  },
  {
   "cell_type": "markdown",
   "metadata": {},
   "source": [
    "### *average # of four-year colleges to which high school seniors apply\n"
   ]
  },
  {
   "cell_type": "code",
   "execution_count": 93,
   "metadata": {},
   "outputs": [
    {
     "data": {
      "text/plain": [
       "7.44"
      ]
     },
     "execution_count": 93,
     "metadata": {},
     "output_type": "execute_result"
    }
   ],
   "source": [
    "np.mean(senior_df[\"# Four Year College Applications\"])"
   ]
  },
  {
   "cell_type": "markdown",
   "metadata": {},
   "source": [
    "### *# of community service hours high school seniors complete throughout high school\n",
    "\n",
    "Can you give me the average # of hours and the cumulative # of hours class of 2020 seniors have completed as a group?\n",
    "\n",
    "**Note, since this was last generated, we've developed a distinction in community service hours. Now students have a record for Bank Book Eligible community service hours and total community service hours. The number I gave you before was closer to the total community service hours, so I'm providing that again now. Let me know if it should be something else though**"
   ]
  },
  {
   "cell_type": "markdown",
   "metadata": {},
   "source": [
    "#### Total Hours for Class of 2020"
   ]
  },
  {
   "cell_type": "code",
   "execution_count": 94,
   "metadata": {},
   "outputs": [
    {
     "data": {
      "text/plain": [
       "9226.05"
      ]
     },
     "execution_count": 94,
     "metadata": {},
     "output_type": "execute_result"
    }
   ],
   "source": [
    "sum(senior_df[\"Total Community Service Hours Completed\"])"
   ]
  },
  {
   "cell_type": "markdown",
   "metadata": {},
   "source": [
    "#### Average Hours for Class of 2020"
   ]
  },
  {
   "cell_type": "code",
   "execution_count": 95,
   "metadata": {},
   "outputs": [
    {
     "data": {
      "text/plain": [
       "184.521"
      ]
     },
     "execution_count": 95,
     "metadata": {},
     "output_type": "execute_result"
    }
   ],
   "source": [
    "np.mean(senior_df[\"Total Community Service Hours Completed\"])"
   ]
  },
  {
   "cell_type": "markdown",
   "metadata": {},
   "source": [
    "### *% and # of NOLA high school students with at least a 3.0 GPA during the reporting period\n",
    "--you gave me % of NOLA high school and college students with 3.0+ GPAs\n",
    "\n",
    "The first table is the count, the second table is the percent"
   ]
  },
  {
   "cell_type": "code",
   "execution_count": 96,
   "metadata": {},
   "outputs": [
    {
     "data": {
      "text/plain": [
       "True     197\n",
       "False     28\n",
       "Name: gpa, dtype: int64"
      ]
     },
     "execution_count": 96,
     "metadata": {},
     "output_type": "execute_result"
    }
   ],
   "source": [
    "(hs_df[\"gpa\"] >= 3).value_counts(normalize=False)"
   ]
  },
  {
   "cell_type": "code",
   "execution_count": 97,
   "metadata": {},
   "outputs": [
    {
     "data": {
      "text/plain": [
       "True     0.875556\n",
       "False    0.124444\n",
       "Name: gpa, dtype: float64"
      ]
     },
     "execution_count": 97,
     "metadata": {},
     "output_type": "execute_result"
    }
   ],
   "source": [
    "(hs_df[\"gpa\"] >= 3).value_counts(normalize=True)"
   ]
  },
  {
   "cell_type": "markdown",
   "metadata": {},
   "source": [
    "### *# of class of 2020 NOLA seniors who have received at least one four-year college acceptance\n",
    "--you gave me the % already"
   ]
  },
  {
   "cell_type": "code",
   "execution_count": 98,
   "metadata": {},
   "outputs": [
    {
     "data": {
      "text/plain": [
       "True    50\n",
       "Name: # Four Year College Acceptances, dtype: int64"
      ]
     },
     "execution_count": 98,
     "metadata": {},
     "output_type": "execute_result"
    }
   ],
   "source": [
    "(senior_df[\"# Four Year College Acceptances\"] > 0).value_counts(normalize=False)"
   ]
  },
  {
   "cell_type": "markdown",
   "metadata": {},
   "source": [
    "### *# of class of 2020 NOLA seniors woh have submitted, completed, or are in the \"review\" phase with FAFSA"
   ]
  },
  {
   "cell_type": "code",
   "execution_count": 99,
   "metadata": {},
   "outputs": [
    {
     "data": {
      "text/plain": [
       "Submitted    46\n",
       "-             4\n",
       "Name: FA Req: FAFSA/Alternative Financial Aid, dtype: int64"
      ]
     },
     "execution_count": 99,
     "metadata": {},
     "output_type": "execute_result"
    }
   ],
   "source": [
    "senior_df[\"FA Req: FAFSA/Alternative Financial Aid\"].value_counts(normalize=False)"
   ]
  },
  {
   "cell_type": "markdown",
   "metadata": {},
   "source": [
    "## Original Questions"
   ]
  },
  {
   "cell_type": "markdown",
   "metadata": {},
   "source": [
    "### Count of unduplicated participants during the above timeframe\n",
    "\n",
    "This number is lower than the FY19 number because NOLA is a 9th grade recuitment site. Thus this only encompases 10th - College aged students who were active in Fall 2019-20.\n"
   ]
  },
  {
   "cell_type": "code",
   "execution_count": 100,
   "metadata": {},
   "outputs": [
    {
     "data": {
      "text/plain": [
       "398"
      ]
     },
     "execution_count": 100,
     "metadata": {},
     "output_type": "execute_result"
    }
   ],
   "source": [
    "len(df)"
   ]
  },
  {
   "cell_type": "markdown",
   "metadata": {},
   "source": [
    "### Breakdown of above unduplicated participants by age and sex (example: Male - Youth 6-17)."
   ]
  },
  {
   "cell_type": "code",
   "execution_count": 101,
   "metadata": {},
   "outputs": [
    {
     "data": {
      "text/html": [
       "<div>\n",
       "<style scoped>\n",
       "    .dataframe tbody tr th:only-of-type {\n",
       "        vertical-align: middle;\n",
       "    }\n",
       "\n",
       "    .dataframe tbody tr th {\n",
       "        vertical-align: top;\n",
       "    }\n",
       "\n",
       "    .dataframe thead th {\n",
       "        text-align: right;\n",
       "    }\n",
       "</style>\n",
       "<table border=\"1\" class=\"dataframe\">\n",
       "  <thead>\n",
       "    <tr style=\"text-align: right;\">\n",
       "      <th>Gender</th>\n",
       "      <th>Decline to State</th>\n",
       "      <th>Female</th>\n",
       "      <th>Male</th>\n",
       "      <th>Other</th>\n",
       "      <th>All</th>\n",
       "    </tr>\n",
       "    <tr>\n",
       "      <th>Age</th>\n",
       "      <th></th>\n",
       "      <th></th>\n",
       "      <th></th>\n",
       "      <th></th>\n",
       "      <th></th>\n",
       "    </tr>\n",
       "  </thead>\n",
       "  <tbody>\n",
       "    <tr>\n",
       "      <td>0</td>\n",
       "      <td>0</td>\n",
       "      <td>1</td>\n",
       "      <td>0</td>\n",
       "      <td>0</td>\n",
       "      <td>1</td>\n",
       "    </tr>\n",
       "    <tr>\n",
       "      <td>14</td>\n",
       "      <td>0</td>\n",
       "      <td>4</td>\n",
       "      <td>2</td>\n",
       "      <td>0</td>\n",
       "      <td>6</td>\n",
       "    </tr>\n",
       "    <tr>\n",
       "      <td>15</td>\n",
       "      <td>1</td>\n",
       "      <td>33</td>\n",
       "      <td>11</td>\n",
       "      <td>0</td>\n",
       "      <td>45</td>\n",
       "    </tr>\n",
       "    <tr>\n",
       "      <td>16</td>\n",
       "      <td>0</td>\n",
       "      <td>45</td>\n",
       "      <td>19</td>\n",
       "      <td>1</td>\n",
       "      <td>65</td>\n",
       "    </tr>\n",
       "    <tr>\n",
       "      <td>17</td>\n",
       "      <td>0</td>\n",
       "      <td>39</td>\n",
       "      <td>24</td>\n",
       "      <td>0</td>\n",
       "      <td>63</td>\n",
       "    </tr>\n",
       "    <tr>\n",
       "      <td>18</td>\n",
       "      <td>0</td>\n",
       "      <td>33</td>\n",
       "      <td>16</td>\n",
       "      <td>0</td>\n",
       "      <td>49</td>\n",
       "    </tr>\n",
       "    <tr>\n",
       "      <td>19</td>\n",
       "      <td>0</td>\n",
       "      <td>31</td>\n",
       "      <td>12</td>\n",
       "      <td>0</td>\n",
       "      <td>43</td>\n",
       "    </tr>\n",
       "    <tr>\n",
       "      <td>20</td>\n",
       "      <td>0</td>\n",
       "      <td>24</td>\n",
       "      <td>14</td>\n",
       "      <td>0</td>\n",
       "      <td>38</td>\n",
       "    </tr>\n",
       "    <tr>\n",
       "      <td>21</td>\n",
       "      <td>0</td>\n",
       "      <td>41</td>\n",
       "      <td>6</td>\n",
       "      <td>0</td>\n",
       "      <td>47</td>\n",
       "    </tr>\n",
       "    <tr>\n",
       "      <td>22</td>\n",
       "      <td>0</td>\n",
       "      <td>11</td>\n",
       "      <td>7</td>\n",
       "      <td>0</td>\n",
       "      <td>18</td>\n",
       "    </tr>\n",
       "    <tr>\n",
       "      <td>23</td>\n",
       "      <td>0</td>\n",
       "      <td>11</td>\n",
       "      <td>2</td>\n",
       "      <td>0</td>\n",
       "      <td>13</td>\n",
       "    </tr>\n",
       "    <tr>\n",
       "      <td>24</td>\n",
       "      <td>0</td>\n",
       "      <td>4</td>\n",
       "      <td>2</td>\n",
       "      <td>0</td>\n",
       "      <td>6</td>\n",
       "    </tr>\n",
       "    <tr>\n",
       "      <td>25</td>\n",
       "      <td>0</td>\n",
       "      <td>3</td>\n",
       "      <td>1</td>\n",
       "      <td>0</td>\n",
       "      <td>4</td>\n",
       "    </tr>\n",
       "    <tr>\n",
       "      <td>All</td>\n",
       "      <td>1</td>\n",
       "      <td>280</td>\n",
       "      <td>116</td>\n",
       "      <td>1</td>\n",
       "      <td>398</td>\n",
       "    </tr>\n",
       "  </tbody>\n",
       "</table>\n",
       "</div>"
      ],
      "text/plain": [
       "Gender  Decline to State  Female  Male  Other  All\n",
       "Age                                               \n",
       "0                      0       1     0      0    1\n",
       "14                     0       4     2      0    6\n",
       "15                     1      33    11      0   45\n",
       "16                     0      45    19      1   65\n",
       "17                     0      39    24      0   63\n",
       "18                     0      33    16      0   49\n",
       "19                     0      31    12      0   43\n",
       "20                     0      24    14      0   38\n",
       "21                     0      41     6      0   47\n",
       "22                     0      11     7      0   18\n",
       "23                     0      11     2      0   13\n",
       "24                     0       4     2      0    6\n",
       "25                     0       3     1      0    4\n",
       "All                    1     280   116      1  398"
      ]
     },
     "execution_count": 101,
     "metadata": {},
     "output_type": "execute_result"
    }
   ],
   "source": [
    "df.pivot_table(\n",
    "    index=[\"Age\"],\n",
    "    aggfunc=\"count\",\n",
    "    columns=\"Gender\",\n",
    "    values=\"18 Digit ID\",\n",
    "    fill_value=0,\n",
    "    margins=True,\n",
    ")"
   ]
  },
  {
   "cell_type": "markdown",
   "metadata": {},
   "source": [
    "### Count of unduplicated participants by sex and parish of residence"
   ]
  },
  {
   "cell_type": "code",
   "execution_count": 102,
   "metadata": {},
   "outputs": [
    {
     "data": {
      "text/html": [
       "<div>\n",
       "<style scoped>\n",
       "    .dataframe tbody tr th:only-of-type {\n",
       "        vertical-align: middle;\n",
       "    }\n",
       "\n",
       "    .dataframe tbody tr th {\n",
       "        vertical-align: top;\n",
       "    }\n",
       "\n",
       "    .dataframe thead th {\n",
       "        text-align: right;\n",
       "    }\n",
       "</style>\n",
       "<table border=\"1\" class=\"dataframe\">\n",
       "  <thead>\n",
       "    <tr style=\"text-align: right;\">\n",
       "      <th>Gender</th>\n",
       "      <th>Decline to State</th>\n",
       "      <th>Female</th>\n",
       "      <th>Male</th>\n",
       "      <th>Other</th>\n",
       "      <th>All</th>\n",
       "    </tr>\n",
       "    <tr>\n",
       "      <th>Parish</th>\n",
       "      <th></th>\n",
       "      <th></th>\n",
       "      <th></th>\n",
       "      <th></th>\n",
       "      <th></th>\n",
       "    </tr>\n",
       "  </thead>\n",
       "  <tbody>\n",
       "    <tr>\n",
       "      <td>East Baton Rouge Parish</td>\n",
       "      <td>0</td>\n",
       "      <td>0</td>\n",
       "      <td>1</td>\n",
       "      <td>0</td>\n",
       "      <td>1</td>\n",
       "    </tr>\n",
       "    <tr>\n",
       "      <td>Jefferson Parish</td>\n",
       "      <td>0</td>\n",
       "      <td>23</td>\n",
       "      <td>9</td>\n",
       "      <td>0</td>\n",
       "      <td>32</td>\n",
       "    </tr>\n",
       "    <tr>\n",
       "      <td>Lafayette Parish</td>\n",
       "      <td>0</td>\n",
       "      <td>0</td>\n",
       "      <td>1</td>\n",
       "      <td>0</td>\n",
       "      <td>1</td>\n",
       "    </tr>\n",
       "    <tr>\n",
       "      <td>Orleans Parish</td>\n",
       "      <td>1</td>\n",
       "      <td>245</td>\n",
       "      <td>103</td>\n",
       "      <td>1</td>\n",
       "      <td>350</td>\n",
       "    </tr>\n",
       "    <tr>\n",
       "      <td>Plaquemines Parish</td>\n",
       "      <td>0</td>\n",
       "      <td>1</td>\n",
       "      <td>0</td>\n",
       "      <td>0</td>\n",
       "      <td>1</td>\n",
       "    </tr>\n",
       "    <tr>\n",
       "      <td>St. Bernard Parish</td>\n",
       "      <td>0</td>\n",
       "      <td>1</td>\n",
       "      <td>1</td>\n",
       "      <td>0</td>\n",
       "      <td>2</td>\n",
       "    </tr>\n",
       "    <tr>\n",
       "      <td>St. John the Baptist Parish</td>\n",
       "      <td>0</td>\n",
       "      <td>1</td>\n",
       "      <td>0</td>\n",
       "      <td>0</td>\n",
       "      <td>1</td>\n",
       "    </tr>\n",
       "    <tr>\n",
       "      <td>St. Tammany Parish</td>\n",
       "      <td>0</td>\n",
       "      <td>3</td>\n",
       "      <td>0</td>\n",
       "      <td>0</td>\n",
       "      <td>3</td>\n",
       "    </tr>\n",
       "    <tr>\n",
       "      <td>All</td>\n",
       "      <td>1</td>\n",
       "      <td>274</td>\n",
       "      <td>115</td>\n",
       "      <td>1</td>\n",
       "      <td>391</td>\n",
       "    </tr>\n",
       "  </tbody>\n",
       "</table>\n",
       "</div>"
      ],
      "text/plain": [
       "Gender                       Decline to State  Female  Male  Other  All\n",
       "Parish                                                                 \n",
       "East Baton Rouge Parish                     0       0     1      0    1\n",
       "Jefferson Parish                            0      23     9      0   32\n",
       "Lafayette Parish                            0       0     1      0    1\n",
       "Orleans Parish                              1     245   103      1  350\n",
       "Plaquemines Parish                          0       1     0      0    1\n",
       "St. Bernard Parish                          0       1     1      0    2\n",
       "St. John the Baptist Parish                 0       1     0      0    1\n",
       "St. Tammany Parish                          0       3     0      0    3\n",
       "All                                         1     274   115      1  391"
      ]
     },
     "execution_count": 102,
     "metadata": {},
     "output_type": "execute_result"
    }
   ],
   "source": [
    "df.pivot_table(\n",
    "    index=\"Parish\",\n",
    "    aggfunc=\"count\",\n",
    "    columns=\"Gender\",\n",
    "    values=\"18 Digit ID\",\n",
    "    fill_value=0,\n",
    "    margins=True,\n",
    ")"
   ]
  },
  {
   "cell_type": "markdown",
   "metadata": {},
   "source": [
    "### Count of unduplicated participants by sex and race/ethnicity (example: Male - African American)"
   ]
  },
  {
   "cell_type": "code",
   "execution_count": 103,
   "metadata": {},
   "outputs": [
    {
     "data": {
      "text/html": [
       "<div>\n",
       "<style scoped>\n",
       "    .dataframe tbody tr th:only-of-type {\n",
       "        vertical-align: middle;\n",
       "    }\n",
       "\n",
       "    .dataframe tbody tr th {\n",
       "        vertical-align: top;\n",
       "    }\n",
       "\n",
       "    .dataframe thead th {\n",
       "        text-align: right;\n",
       "    }\n",
       "</style>\n",
       "<table border=\"1\" class=\"dataframe\">\n",
       "  <thead>\n",
       "    <tr style=\"text-align: right;\">\n",
       "      <th>Gender</th>\n",
       "      <th>Decline to State</th>\n",
       "      <th>Female</th>\n",
       "      <th>Male</th>\n",
       "      <th>Other</th>\n",
       "      <th>All</th>\n",
       "    </tr>\n",
       "    <tr>\n",
       "      <th>Ethnic background</th>\n",
       "      <th></th>\n",
       "      <th></th>\n",
       "      <th></th>\n",
       "      <th></th>\n",
       "      <th></th>\n",
       "    </tr>\n",
       "  </thead>\n",
       "  <tbody>\n",
       "    <tr>\n",
       "      <td>African-American</td>\n",
       "      <td>1</td>\n",
       "      <td>245</td>\n",
       "      <td>99</td>\n",
       "      <td>0</td>\n",
       "      <td>345</td>\n",
       "    </tr>\n",
       "    <tr>\n",
       "      <td>Asian-American</td>\n",
       "      <td>0</td>\n",
       "      <td>7</td>\n",
       "      <td>6</td>\n",
       "      <td>1</td>\n",
       "      <td>14</td>\n",
       "    </tr>\n",
       "    <tr>\n",
       "      <td>Decline to State</td>\n",
       "      <td>0</td>\n",
       "      <td>2</td>\n",
       "      <td>0</td>\n",
       "      <td>0</td>\n",
       "      <td>2</td>\n",
       "    </tr>\n",
       "    <tr>\n",
       "      <td>Latino / Chicano</td>\n",
       "      <td>0</td>\n",
       "      <td>17</td>\n",
       "      <td>7</td>\n",
       "      <td>0</td>\n",
       "      <td>24</td>\n",
       "    </tr>\n",
       "    <tr>\n",
       "      <td>Multiracial</td>\n",
       "      <td>0</td>\n",
       "      <td>4</td>\n",
       "      <td>3</td>\n",
       "      <td>0</td>\n",
       "      <td>7</td>\n",
       "    </tr>\n",
       "    <tr>\n",
       "      <td>Native American</td>\n",
       "      <td>0</td>\n",
       "      <td>2</td>\n",
       "      <td>0</td>\n",
       "      <td>0</td>\n",
       "      <td>2</td>\n",
       "    </tr>\n",
       "    <tr>\n",
       "      <td>Other</td>\n",
       "      <td>0</td>\n",
       "      <td>2</td>\n",
       "      <td>1</td>\n",
       "      <td>0</td>\n",
       "      <td>3</td>\n",
       "    </tr>\n",
       "    <tr>\n",
       "      <td>White / Caucasian</td>\n",
       "      <td>0</td>\n",
       "      <td>1</td>\n",
       "      <td>0</td>\n",
       "      <td>0</td>\n",
       "      <td>1</td>\n",
       "    </tr>\n",
       "    <tr>\n",
       "      <td>All</td>\n",
       "      <td>1</td>\n",
       "      <td>280</td>\n",
       "      <td>116</td>\n",
       "      <td>1</td>\n",
       "      <td>398</td>\n",
       "    </tr>\n",
       "  </tbody>\n",
       "</table>\n",
       "</div>"
      ],
      "text/plain": [
       "Gender             Decline to State  Female  Male  Other  All\n",
       "Ethnic background                                            \n",
       "African-American                  1     245    99      0  345\n",
       "Asian-American                    0       7     6      1   14\n",
       "Decline to State                  0       2     0      0    2\n",
       "Latino / Chicano                  0      17     7      0   24\n",
       "Multiracial                       0       4     3      0    7\n",
       "Native American                   0       2     0      0    2\n",
       "Other                             0       2     1      0    3\n",
       "White / Caucasian                 0       1     0      0    1\n",
       "All                               1     280   116      1  398"
      ]
     },
     "execution_count": 103,
     "metadata": {},
     "output_type": "execute_result"
    }
   ],
   "source": [
    "df.pivot_table(\n",
    "    index=[\"Ethnic background\"],\n",
    "    aggfunc=\"count\",\n",
    "    columns=\"Gender\",\n",
    "    values=\"18 Digit ID\",\n",
    "    fill_value=0,\n",
    "    margins=True,\n",
    ")"
   ]
  },
  {
   "cell_type": "markdown",
   "metadata": {},
   "source": [
    "### They also require a breakdown of \"Client Type of Household,\"\n",
    "\n",
    "For this, we don't track if a student is head of a household, so by default all options are \"Other\"\n",
    "\n",
    "### Count of unduplicated participants by sex and Employment Status\n",
    "\n"
   ]
  },
  {
   "cell_type": "code",
   "execution_count": 104,
   "metadata": {},
   "outputs": [
    {
     "data": {
      "text/html": [
       "<div>\n",
       "<style scoped>\n",
       "    .dataframe tbody tr th:only-of-type {\n",
       "        vertical-align: middle;\n",
       "    }\n",
       "\n",
       "    .dataframe tbody tr th {\n",
       "        vertical-align: top;\n",
       "    }\n",
       "\n",
       "    .dataframe thead th {\n",
       "        text-align: right;\n",
       "    }\n",
       "</style>\n",
       "<table border=\"1\" class=\"dataframe\">\n",
       "  <thead>\n",
       "    <tr style=\"text-align: right;\">\n",
       "      <th>Gender</th>\n",
       "      <th>Decline to State</th>\n",
       "      <th>Female</th>\n",
       "      <th>Male</th>\n",
       "      <th>Other</th>\n",
       "      <th>All</th>\n",
       "    </tr>\n",
       "    <tr>\n",
       "      <th>Employment Status</th>\n",
       "      <th></th>\n",
       "      <th></th>\n",
       "      <th></th>\n",
       "      <th></th>\n",
       "      <th></th>\n",
       "    </tr>\n",
       "  </thead>\n",
       "  <tbody>\n",
       "    <tr>\n",
       "      <td>-</td>\n",
       "      <td>1</td>\n",
       "      <td>212</td>\n",
       "      <td>98</td>\n",
       "      <td>1</td>\n",
       "      <td>312</td>\n",
       "    </tr>\n",
       "    <tr>\n",
       "      <td>Employed full time</td>\n",
       "      <td>0</td>\n",
       "      <td>1</td>\n",
       "      <td>0</td>\n",
       "      <td>0</td>\n",
       "      <td>1</td>\n",
       "    </tr>\n",
       "    <tr>\n",
       "      <td>Employed part time</td>\n",
       "      <td>0</td>\n",
       "      <td>5</td>\n",
       "      <td>1</td>\n",
       "      <td>0</td>\n",
       "      <td>6</td>\n",
       "    </tr>\n",
       "    <tr>\n",
       "      <td>No information available</td>\n",
       "      <td>0</td>\n",
       "      <td>62</td>\n",
       "      <td>17</td>\n",
       "      <td>0</td>\n",
       "      <td>79</td>\n",
       "    </tr>\n",
       "    <tr>\n",
       "      <td>All</td>\n",
       "      <td>1</td>\n",
       "      <td>280</td>\n",
       "      <td>116</td>\n",
       "      <td>1</td>\n",
       "      <td>398</td>\n",
       "    </tr>\n",
       "  </tbody>\n",
       "</table>\n",
       "</div>"
      ],
      "text/plain": [
       "Gender                    Decline to State  Female  Male  Other  All\n",
       "Employment Status                                                   \n",
       "-                                        1     212    98      1  312\n",
       "Employed full time                       0       1     0      0    1\n",
       "Employed part time                       0       5     1      0    6\n",
       "No information available                 0      62    17      0   79\n",
       "All                                      1     280   116      1  398"
      ]
     },
     "execution_count": 104,
     "metadata": {},
     "output_type": "execute_result"
    }
   ],
   "source": [
    "df.pivot_table(\n",
    "    index=[\"Employment Status\"],\n",
    "    aggfunc=\"count\",\n",
    "    columns=\"Gender\",\n",
    "    values=\"18 Digit ID\",\n",
    "    fill_value=0,\n",
    "    margins=True,\n",
    ")"
   ]
  },
  {
   "cell_type": "markdown",
   "metadata": {},
   "source": [
    "### Count of unduplicated participants based on household income\n",
    "For median household income I used: $39,576 taken from:\n",
    "\n",
    "https://www.census.gov/quickfacts/fact/table/neworleanscitylouisiana/INC110218\n",
    "\n",
    "Using that number would create the following buckets:\n",
    "\n",
    "* Less than or equal to 30% of median income: $11,872.8\n",
    "\n",
    "* 30% to 49%: $19,392.24\n",
    "\n",
    "* 50% to 79%: $31,265.04\n",
    "\n",
    "* Greater than 80%: anything above $31,265.04\n",
    "\n"
   ]
  },
  {
   "cell_type": "code",
   "execution_count": 105,
   "metadata": {},
   "outputs": [
    {
     "data": {
      "text/plain": [
       "Between 51% and 80% of Median Income          134\n",
       "Greater than 80% of Median Income             127\n",
       "Less than or equal to 30% of Median Income     90\n",
       "Between 30% of 50% of Median Income            47\n",
       "Name: Income Bucket, dtype: int64"
      ]
     },
     "execution_count": 105,
     "metadata": {},
     "output_type": "execute_result"
    }
   ],
   "source": [
    "df[\"Income Bucket\"].value_counts()"
   ]
  },
  {
   "cell_type": "markdown",
   "metadata": {},
   "source": [
    "### % of seniors (class of 2020) who have completed at least 100 hours of community service over their high school careers to date\n",
    "\n",
    "The second table is students who are above 80 hours, used as a proxy to see if they are \"on track.\" 80 was somewhat taken at random, I can replace it with any number if you think there is a better one"
   ]
  },
  {
   "cell_type": "code",
   "execution_count": 106,
   "metadata": {},
   "outputs": [
    {
     "data": {
      "text/plain": [
       "True     0.9\n",
       "False    0.1\n",
       "Name: Total Community Service Hours Completed, dtype: float64"
      ]
     },
     "execution_count": 106,
     "metadata": {},
     "output_type": "execute_result"
    }
   ],
   "source": [
    "(senior_df[\"Total Community Service Hours Completed\"] >= 100).value_counts(normalize=True)"
   ]
  },
  {
   "cell_type": "code",
   "execution_count": 107,
   "metadata": {},
   "outputs": [
    {
     "data": {
      "text/plain": [
       "True     0.9\n",
       "False    0.1\n",
       "Name: Total Community Service Hours Completed, dtype: float64"
      ]
     },
     "execution_count": 107,
     "metadata": {},
     "output_type": "execute_result"
    }
   ],
   "source": [
    "(senior_df[\"Total Community Service Hours Completed\"] >= 80).value_counts(normalize=True)"
   ]
  },
  {
   "cell_type": "markdown",
   "metadata": {},
   "source": [
    "### % of students with at least 3.0 cumulative GPA (according to most recent data available)\n",
    "\n",
    "Note, this includes college students"
   ]
  },
  {
   "cell_type": "code",
   "execution_count": 108,
   "metadata": {},
   "outputs": [
    {
     "data": {
      "text/plain": [
       "True     0.645729\n",
       "False    0.354271\n",
       "Name: gpa, dtype: float64"
      ]
     },
     "execution_count": 108,
     "metadata": {},
     "output_type": "execute_result"
    }
   ],
   "source": [
    "(df[\"gpa\"] >= 3).value_counts(normalize=True)"
   ]
  },
  {
   "cell_type": "markdown",
   "metadata": {},
   "source": [
    "### four-year college acceptance rate\n",
    "--do we have the ability to estimate four-year eligibility for class of 2020 seniors?\n",
    "\n",
    "Not any way I know of how to do it accurately, in theory it should be near or exactly 100%, but I don't think we have a good way to determine that.\n",
    "\n",
    "The table below shows the percent of current seniors who have already been accepted into a 4 year program"
   ]
  },
  {
   "cell_type": "code",
   "execution_count": 109,
   "metadata": {},
   "outputs": [
    {
     "data": {
      "text/plain": [
       "True    1.0\n",
       "Name: # Four Year College Acceptances, dtype: float64"
      ]
     },
     "execution_count": 109,
     "metadata": {},
     "output_type": "execute_result"
    }
   ],
   "source": [
    "(senior_df[\"# Four Year College Acceptances\"] > 0).value_counts(normalize=True)"
   ]
  },
  {
   "cell_type": "markdown",
   "metadata": {},
   "source": [
    "### four-year college matriculation rate\n",
    "--since fall 2019 is the beginning of the 2019-20 academic year, I think I can use the DDT Fall 2019 for this. Please confirm whether you think this is correct.\n",
    "\n",
    "Yep, that sounds right"
   ]
  },
  {
   "cell_type": "markdown",
   "metadata": {},
   "source": [
    "### FAFSA completion rate (for seniors eligible for federal student aid)\n",
    "--do we have a way to estimate whether class of 2020 seniors are \"on track\" for this by the end of the school year?\n",
    "\n",
    "Sort of, the table below shows the percent of seniors with the following FAFSA statuses. So the students with Complete and Reviewed would be \"on-track\" to complete it, but they haven't submitted yet."
   ]
  },
  {
   "cell_type": "code",
   "execution_count": 110,
   "metadata": {},
   "outputs": [
    {
     "data": {
      "text/plain": [
       "US Citizen            42\n",
       "-                      4\n",
       "Other                  3\n",
       "Permanent Resident     1\n",
       "Name: Citizenship Status, dtype: int64"
      ]
     },
     "execution_count": 110,
     "metadata": {},
     "output_type": "execute_result"
    }
   ],
   "source": [
    "senior_df['Citizenship Status'].value_counts()"
   ]
  },
  {
   "cell_type": "code",
   "execution_count": 111,
   "metadata": {},
   "outputs": [
    {
     "data": {
      "text/html": [
       "<div>\n",
       "<style scoped>\n",
       "    .dataframe tbody tr th:only-of-type {\n",
       "        vertical-align: middle;\n",
       "    }\n",
       "\n",
       "    .dataframe tbody tr th {\n",
       "        vertical-align: top;\n",
       "    }\n",
       "\n",
       "    .dataframe thead th {\n",
       "        text-align: right;\n",
       "    }\n",
       "</style>\n",
       "<table border=\"1\" class=\"dataframe\">\n",
       "  <thead>\n",
       "    <tr style=\"text-align: right;\">\n",
       "      <th>FA Req: FAFSA/Alternative Financial Aid</th>\n",
       "      <th>-</th>\n",
       "      <th>All</th>\n",
       "    </tr>\n",
       "    <tr>\n",
       "      <th>Citizenship Status</th>\n",
       "      <th></th>\n",
       "      <th></th>\n",
       "    </tr>\n",
       "  </thead>\n",
       "  <tbody>\n",
       "    <tr>\n",
       "      <td>Other</td>\n",
       "      <td>3</td>\n",
       "      <td>3</td>\n",
       "    </tr>\n",
       "    <tr>\n",
       "      <td>Permanent Resident</td>\n",
       "      <td>2</td>\n",
       "      <td>2</td>\n",
       "    </tr>\n",
       "    <tr>\n",
       "      <td>US Citizen</td>\n",
       "      <td>51</td>\n",
       "      <td>51</td>\n",
       "    </tr>\n",
       "    <tr>\n",
       "      <td>All</td>\n",
       "      <td>56</td>\n",
       "      <td>56</td>\n",
       "    </tr>\n",
       "  </tbody>\n",
       "</table>\n",
       "</div>"
      ],
      "text/plain": [
       "FA Req: FAFSA/Alternative Financial Aid   -  All\n",
       "Citizenship Status                              \n",
       "Other                                     3    3\n",
       "Permanent Resident                        2    2\n",
       "US Citizen                               51   51\n",
       "All                                      56   56"
      ]
     },
     "execution_count": 111,
     "metadata": {},
     "output_type": "execute_result"
    }
   ],
   "source": [
    "pd.crosstab(junior_df['Citizenship Status'], junior_df[\"FA Req: FAFSA/Alternative Financial Aid\"], margins=True)"
   ]
  },
  {
   "cell_type": "code",
   "execution_count": 112,
   "metadata": {},
   "outputs": [
    {
     "data": {
      "text/html": [
       "<div>\n",
       "<style scoped>\n",
       "    .dataframe tbody tr th:only-of-type {\n",
       "        vertical-align: middle;\n",
       "    }\n",
       "\n",
       "    .dataframe tbody tr th {\n",
       "        vertical-align: top;\n",
       "    }\n",
       "\n",
       "    .dataframe thead th {\n",
       "        text-align: right;\n",
       "    }\n",
       "</style>\n",
       "<table border=\"1\" class=\"dataframe\">\n",
       "  <thead>\n",
       "    <tr style=\"text-align: right;\">\n",
       "      <th>FA Req: FAFSA/Alternative Financial Aid</th>\n",
       "      <th>-</th>\n",
       "      <th>Submitted</th>\n",
       "    </tr>\n",
       "    <tr>\n",
       "      <th>Citizenship Status</th>\n",
       "      <th></th>\n",
       "      <th></th>\n",
       "    </tr>\n",
       "  </thead>\n",
       "  <tbody>\n",
       "    <tr>\n",
       "      <td>-</td>\n",
       "      <td>0.25</td>\n",
       "      <td>0.75</td>\n",
       "    </tr>\n",
       "    <tr>\n",
       "      <td>Other</td>\n",
       "      <td>1.00</td>\n",
       "      <td>0.00</td>\n",
       "    </tr>\n",
       "    <tr>\n",
       "      <td>Permanent Resident</td>\n",
       "      <td>0.00</td>\n",
       "      <td>1.00</td>\n",
       "    </tr>\n",
       "    <tr>\n",
       "      <td>US Citizen</td>\n",
       "      <td>0.00</td>\n",
       "      <td>1.00</td>\n",
       "    </tr>\n",
       "    <tr>\n",
       "      <td>All</td>\n",
       "      <td>0.08</td>\n",
       "      <td>0.92</td>\n",
       "    </tr>\n",
       "  </tbody>\n",
       "</table>\n",
       "</div>"
      ],
      "text/plain": [
       "FA Req: FAFSA/Alternative Financial Aid     -  Submitted\n",
       "Citizenship Status                                      \n",
       "-                                        0.25       0.75\n",
       "Other                                    1.00       0.00\n",
       "Permanent Resident                       0.00       1.00\n",
       "US Citizen                               0.00       1.00\n",
       "All                                      0.08       0.92"
      ]
     },
     "execution_count": 112,
     "metadata": {},
     "output_type": "execute_result"
    }
   ],
   "source": [
    "pd.crosstab(senior_df['Citizenship Status'], senior_df[\"FA Req: FAFSA/Alternative Financial Aid\"], margins=True, normalize='index')"
   ]
  },
  {
   "cell_type": "code",
   "execution_count": 113,
   "metadata": {},
   "outputs": [
    {
     "data": {
      "text/plain": [
       "Submitted    0.92\n",
       "-            0.08\n",
       "Name: FA Req: FAFSA/Alternative Financial Aid, dtype: float64"
      ]
     },
     "execution_count": 113,
     "metadata": {},
     "output_type": "execute_result"
    }
   ],
   "source": [
    "senior_df[\"FA Req: FAFSA/Alternative Financial Aid\"].value_counts(normalize=True)"
   ]
  },
  {
   "cell_type": "markdown",
   "metadata": {},
   "source": [
    "### % of high school seniors (class of 2020) that have applied to at least 6 colleges to date"
   ]
  },
  {
   "cell_type": "code",
   "execution_count": 114,
   "metadata": {},
   "outputs": [
    {
     "data": {
      "text/plain": [
       "True     0.64\n",
       "False    0.36\n",
       "Name: # Four Year College Applications, dtype: float64"
      ]
     },
     "execution_count": 114,
     "metadata": {},
     "output_type": "execute_result"
    }
   ],
   "source": [
    "(senior_df[\"# Four Year College Applications\"] >= 6).value_counts(normalize=True)"
   ]
  },
  {
   "cell_type": "markdown",
   "metadata": {},
   "source": [
    "### % of high school seniors (class of 2020) on track to graduate high school\n",
    "\n",
    "This should be 100%"
   ]
  },
  {
   "cell_type": "markdown",
   "metadata": {},
   "source": [
    "### % of 2019-20 high school students promoted to the next grade (from the 2018-19 academic year)\n",
    "\n",
    "This is also 100%"
   ]
  },
  {
   "cell_type": "markdown",
   "metadata": {},
   "source": [
    "### % of seniors (class of 2020) on track for TOPS Opportunity eligibility\n",
    "\n",
    "Using a minimum ACT of 20 and GPA of 2.5\n"
   ]
  },
  {
   "cell_type": "code",
   "execution_count": 116,
   "metadata": {},
   "outputs": [
    {
     "data": {
      "text/plain": [
       "True     0.88\n",
       "False    0.12\n",
       "dtype: float64"
      ]
     },
     "execution_count": 116,
     "metadata": {},
     "output_type": "execute_result"
    }
   ],
   "source": [
    "(\n",
    "    (senior_df[\"gpa\"] >= 2.5)\n",
    "    & (senior_df[\"ACT Superscore (highest official)\"] >= 20)\n",
    ").value_counts(normalize=True)"
   ]
  },
  {
   "cell_type": "code",
   "execution_count": 117,
   "metadata": {},
   "outputs": [],
   "source": [
    "# senior_df[\"Region Specific Funding Eligibility\"].value_counts()"
   ]
  },
  {
   "cell_type": "code",
   "execution_count": 118,
   "metadata": {},
   "outputs": [
    {
     "data": {
      "text/plain": [
       "Index(['18 Digit ID', 'Full Name', 'High School Class', 'Age',\n",
       "       'Ethnic background', 'Gender', 'Mailing Zip/Postal Code',\n",
       "       'Employment Status', 'Employment Description',\n",
       "       'Annual household income', 'GPA (Prev Term CGPA)',\n",
       "       'BB Eligible Community Service Hours',\n",
       "       '# Four Year College Acceptances',\n",
       "       'FA Req: FAFSA/Alternative Financial Aid',\n",
       "       '# Four Year College Applications', 'Contact Record Type',\n",
       "       'Region Specific Funding Eligibility', 'GPA (prev prev term CGPA)',\n",
       "       'ACT Superscore (highest official)', 'Global Academic Term',\n",
       "       'Total Community Service Hours Completed', 'Citizenship Status',\n",
       "       'GPA (Running Cumulative)', 'GPA (HS cumulative)', 'Parish', 'gpa',\n",
       "       'Income', 'Income Bucket'],\n",
       "      dtype='object')"
      ]
     },
     "execution_count": 118,
     "metadata": {},
     "output_type": "execute_result"
    }
   ],
   "source": [
    "senior_df.columns"
   ]
  },
  {
   "cell_type": "markdown",
   "metadata": {},
   "source": [
    "### *avg. # of outside scholarship applications high school seniors (class of 2020) have submitted so far\n",
    "\n",
    "Six students have submitted external scholarships, all of them were won for a total of $5,500. "
   ]
  },
  {
   "cell_type": "markdown",
   "metadata": {},
   "source": [
    "### % of high school seniors (class of 2020) who attended at least one college affordability workshop\n",
    "\n",
    "As I think we discussed on a previous ticket, we don't have a college affordability category, however every senior has attend a college completion - which often includes a college affordability component.\n"
   ]
  },
  {
   "cell_type": "markdown",
   "metadata": {},
   "source": [
    "### *% of students receiving at least 5 hours of mentoring, enrichment and/or tutoring instruction per week.\n",
    "\n",
    "We don't have a quick way to track hours per week and because of COVID what I did in the past wouldn't make sense any more. So I don't think we can report on this. \n"
   ]
  },
  {
   "cell_type": "code",
   "execution_count": 64,
   "metadata": {},
   "outputs": [
    {
     "data": {
      "text/html": [
       "<script src=\"https://cdn.rawgit.com/parente/4c3e6936d0d7a46fd071/raw/65b816fb9bdd3c28b4ddf3af602bfd6015486383/code_toggle.js\"></script>\n"
      ],
      "text/plain": [
       "<IPython.core.display.HTML object>"
      ]
     },
     "metadata": {},
     "output_type": "display_data"
    }
   ],
   "source": [
    "%%html\n",
    "<script src=\"https://cdn.rawgit.com/parente/4c3e6936d0d7a46fd071/raw/65b816fb9bdd3c28b4ddf3af602bfd6015486383/code_toggle.js\"></script>\n"
   ]
  },
  {
   "cell_type": "code",
   "execution_count": 65,
   "metadata": {},
   "outputs": [
    {
     "data": {
      "text/html": [
       "\n",
       "<style>\n",
       "div.prompt {display:none}\n",
       "\n",
       "\n",
       "h1, .h1 {\n",
       "    font-size: 33px;\n",
       "    font-family: \"Trebuchet MS\";\n",
       "    font-size: 2.5em !important;\n",
       "    color: #2a7bbd;\n",
       "}\n",
       "\n",
       "h2, .h2 {\n",
       "    font-size: 10px;\n",
       "    font-family: \"Trebuchet MS\";\n",
       "    color: #2a7bbd; \n",
       "    \n",
       "}\n",
       "\n",
       "\n",
       "h3, .h3 {\n",
       "    font-size: 10px;\n",
       "    font-family: \"Trebuchet MS\";\n",
       "    color: #5d6063; \n",
       "    \n",
       "}\n",
       "\n",
       ".rendered_html table {\n",
       "\n",
       "    font-size: 14px;\n",
       "}\n",
       "\n",
       ".output_png {\n",
       "  display: flex;\n",
       "  justify-content: center;\n",
       "}\n",
       "\n",
       "\n",
       "\n",
       "</style>\n"
      ],
      "text/plain": [
       "<IPython.core.display.HTML object>"
      ]
     },
     "metadata": {},
     "output_type": "display_data"
    }
   ],
   "source": [
    "%%html\n",
    "\n",
    "<style>\n",
    "div.prompt {display:none}\n",
    "\n",
    "\n",
    "h1, .h1 {\n",
    "    font-size: 33px;\n",
    "    font-family: \"Trebuchet MS\";\n",
    "    font-size: 2.5em !important;\n",
    "    color: #2a7bbd;\n",
    "}\n",
    "\n",
    "h2, .h2 {\n",
    "    font-size: 10px;\n",
    "    font-family: \"Trebuchet MS\";\n",
    "    color: #2a7bbd; \n",
    "    \n",
    "}\n",
    "\n",
    "\n",
    "h3, .h3 {\n",
    "    font-size: 10px;\n",
    "    font-family: \"Trebuchet MS\";\n",
    "    color: #5d6063; \n",
    "    \n",
    "}\n",
    "\n",
    ".rendered_html table {\n",
    "\n",
    "    font-size: 14px;\n",
    "}\n",
    "\n",
    ".output_png {\n",
    "  display: flex;\n",
    "  justify-content: center;\n",
    "}\n",
    "\n",
    "\n",
    "\n",
    "</style>"
   ]
  },
  {
   "cell_type": "code",
   "execution_count": null,
   "metadata": {},
   "outputs": [],
   "source": []
  }
 ],
 "metadata": {
  "hide_input": false,
  "kernelspec": {
   "display_name": "Python 3",
   "language": "python",
   "name": "python3"
  },
  "language_info": {
   "codemirror_mode": {
    "name": "ipython",
    "version": 3
   },
   "file_extension": ".py",
   "mimetype": "text/x-python",
   "name": "python",
   "nbconvert_exporter": "python",
   "pygments_lexer": "ipython3",
   "version": "3.7.3"
  },
  "toc": {
   "base_numbering": 1,
   "nav_menu": {},
   "number_sections": false,
   "sideBar": true,
   "skip_h1_title": false,
   "title_cell": "Table of Contents",
   "title_sidebar": "Contents",
   "toc_cell": false,
   "toc_position": {},
   "toc_section_display": true,
   "toc_window_display": false
  }
 },
 "nbformat": 4,
 "nbformat_minor": 4
}
