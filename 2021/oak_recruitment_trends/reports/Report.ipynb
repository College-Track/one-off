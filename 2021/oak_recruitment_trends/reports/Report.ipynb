{
 "cells": [
  {
   "cell_type": "markdown",
   "metadata": {},
   "source": [
    "# Report Title"
   ]
  },
  {
   "cell_type": "code",
   "execution_count": null,
   "metadata": {},
   "outputs": [],
   "source": [
    "%load_ext autoreload\n",
    "%autoreload 2"
   ]
  },
  {
   "cell_type": "code",
   "execution_count": 4,
   "metadata": {},
   "outputs": [],
   "source": [
    "import pandas as pd\n",
    "from datetime import datetime\n",
    "import statsmodels.api as sm\n",
    "import numpy as np\n",
    "from tabulate import tabulate\n",
    "import seaborn as sns\n",
    "import matplotlib.pyplot as plt\n",
    "import warnings\n",
    "from ct_snippets.load_sf_class import SF_SOQL, SF_Report\n",
    "warnings.filterwarnings('ignore')\n"
   ]
  },
  {
   "cell_type": "code",
   "execution_count": 5,
   "metadata": {},
   "outputs": [],
   "source": [
    "%matplotlib inline"
   ]
  },
  {
   "cell_type": "code",
   "execution_count": 8,
   "metadata": {},
   "outputs": [
    {
     "data": {
      "text/html": [
       "<script src=\"https://cdn.rawgit.com/parente/4c3e6936d0d7a46fd071/raw/65b816fb9bdd3c28b4ddf3af602bfd6015486383/code_toggle.js\"></script>\n",
       "<style>\n",
       "div.prompt {display:none}\n",
       "</style>\n"
      ],
      "text/plain": [
       "<IPython.core.display.HTML object>"
      ]
     },
     "metadata": {},
     "output_type": "display_data"
    }
   ],
   "source": [
    "%%html\n",
    "\n",
    "<script>\n",
    "$(document).ready(function(){\n",
    "    window.code_toggle = function() {\n",
    "        (window.code_shown) ? $('div.input').hide(250) : $('div.input').show(250);\n",
    "        window.code_shown = !window.code_shown\n",
    "    }\n",
    "    if($('body.nbviewer').length) {\n",
    "        $('<li><a href=\"javascript:window.code_toggle()\" title=\"Show/Hide Code\"><span class=\"fa fa-code fa-2x menu-icon\"></span><span class=\"menu-text\">Show/Hide Code</span></a></li>').appendTo('.navbar-right');\n",
    "        window.code_shown=false;\n",
    "        $('div.input').hide();\n",
    "    }\n",
    "});\n",
    "</script>\n",
    "\n",
    "\n",
    "<style>\n",
    "\n",
    "div.prompt {display:none}\n",
    "\n",
    "\n",
    "h1, .h1 {\n",
    "    font-size: 33px;\n",
    "    font-family: \"Trebuchet MS\";\n",
    "    font-size: 2.5em !important;\n",
    "    color: #2a7bbd;\n",
    "}\n",
    "\n",
    "h2, .h2 {\n",
    "    font-size: 10px;\n",
    "    font-family: \"Trebuchet MS\";\n",
    "    color: #2a7bbd; \n",
    "    \n",
    "}\n",
    "\n",
    "\n",
    "h3, .h3 {\n",
    "    font-size: 10px;\n",
    "    font-family: \"Trebuchet MS\";\n",
    "    color: #5d6063; \n",
    "    \n",
    "}\n",
    "\n",
    ".rendered_html table {\n",
    "\n",
    "    font-size: 14px;\n",
    "}\n",
    "\n",
    ".output_png {\n",
    "  display: flex;\n",
    "  justify-content: center;\n",
    "}\n",
    "\n",
    ".cell {\n",
    "    padding: 0px;\n",
    "}\n",
    "\n",
    "\n",
    "</style>"
   ]
  }
 ],
 "metadata": {
  "hide_input": false,
  "kernelspec": {
   "display_name": "Python 3",
   "language": "python",
   "name": "python3"
  },
  "language_info": {
   "codemirror_mode": {
    "name": "ipython",
    "version": 3
   },
   "file_extension": ".py",
   "mimetype": "text/x-python",
   "name": "python",
   "nbconvert_exporter": "python",
   "pygments_lexer": "ipython3",
   "version": "3.7.4"
  },
  "toc": {
   "base_numbering": 1,
   "nav_menu": {},
   "number_sections": true,
   "sideBar": true,
   "skip_h1_title": false,
   "title_cell": "Table of Contents",
   "title_sidebar": "Contents",
   "toc_cell": false,
   "toc_position": {},
   "toc_section_display": true,
   "toc_window_display": false
  }
 },
 "nbformat": 4,
 "nbformat_minor": 2
}