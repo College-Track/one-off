{
 "cells": [
  {
   "cell_type": "markdown",
   "metadata": {},
   "source": [
    "# FY21 United Way of Southeast Louisiana (UWSELA) Interim Report Data Request"
   ]
  },
  {
   "cell_type": "markdown",
   "metadata": {},
   "source": [
    "For ticket #10911 submitted July 23, 2021.\n",
    "\n",
    "Prepared by Baker Renneckar"
   ]
  },
  {
   "cell_type": "code",
   "execution_count": 1,
   "metadata": {},
   "outputs": [],
   "source": [
    "%load_ext autoreload\n",
    "%autoreload 2"
   ]
  },
  {
   "cell_type": "code",
   "execution_count": 2,
   "metadata": {},
   "outputs": [],
   "source": [
    "import pandas as pd\n",
    "from datetime import datetime\n",
    "import numpy as np\n",
    "# from tabulate import tabulate\n",
    "import matplotlib.pyplot as plt\n",
    "import warnings\n",
    "warnings.filterwarnings('ignore')\n"
   ]
  },
  {
   "cell_type": "code",
   "execution_count": 3,
   "metadata": {},
   "outputs": [],
   "source": [
    "%matplotlib inline"
   ]
  },
  {
   "cell_type": "code",
   "execution_count": 4,
   "metadata": {},
   "outputs": [],
   "source": [
    "df = pd.read_pickle('../data/processed/merged_data_ay_2020_21.pkl')"
   ]
  },
  {
   "cell_type": "markdown",
   "metadata": {},
   "source": [
    "## Demographic Data\n",
    "\n"
   ]
  },
  {
   "cell_type": "markdown",
   "metadata": {},
   "source": [
    "#### Gender / Age / Student Type Breakdown"
   ]
  },
  {
   "cell_type": "code",
   "execution_count": 5,
   "metadata": {},
   "outputs": [
    {
     "data": {
      "text/html": [
       "<div>\n",
       "<style scoped>\n",
       "    .dataframe tbody tr th:only-of-type {\n",
       "        vertical-align: middle;\n",
       "    }\n",
       "\n",
       "    .dataframe tbody tr th {\n",
       "        vertical-align: top;\n",
       "    }\n",
       "\n",
       "    .dataframe thead th {\n",
       "        text-align: right;\n",
       "    }\n",
       "</style>\n",
       "<table border=\"1\" class=\"dataframe\">\n",
       "  <thead>\n",
       "    <tr style=\"text-align: right;\">\n",
       "      <th></th>\n",
       "      <th>Student Type</th>\n",
       "      <th>College Student</th>\n",
       "      <th>High School Student</th>\n",
       "      <th>Total</th>\n",
       "    </tr>\n",
       "    <tr>\n",
       "      <th>Gender</th>\n",
       "      <th>Age</th>\n",
       "      <th></th>\n",
       "      <th></th>\n",
       "      <th></th>\n",
       "    </tr>\n",
       "  </thead>\n",
       "  <tbody>\n",
       "    <tr>\n",
       "      <th rowspan=\"13\" valign=\"top\">Female</th>\n",
       "      <th>14.0</th>\n",
       "      <td>0</td>\n",
       "      <td>7</td>\n",
       "      <td>7</td>\n",
       "    </tr>\n",
       "    <tr>\n",
       "      <th>15.0</th>\n",
       "      <td>0</td>\n",
       "      <td>39</td>\n",
       "      <td>39</td>\n",
       "    </tr>\n",
       "    <tr>\n",
       "      <th>16.0</th>\n",
       "      <td>0</td>\n",
       "      <td>42</td>\n",
       "      <td>42</td>\n",
       "    </tr>\n",
       "    <tr>\n",
       "      <th>17.0</th>\n",
       "      <td>0</td>\n",
       "      <td>43</td>\n",
       "      <td>43</td>\n",
       "    </tr>\n",
       "    <tr>\n",
       "      <th>18.0</th>\n",
       "      <td>7</td>\n",
       "      <td>34</td>\n",
       "      <td>41</td>\n",
       "    </tr>\n",
       "    <tr>\n",
       "      <th>19.0</th>\n",
       "      <td>29</td>\n",
       "      <td>0</td>\n",
       "      <td>29</td>\n",
       "    </tr>\n",
       "    <tr>\n",
       "      <th>20.0</th>\n",
       "      <td>30</td>\n",
       "      <td>0</td>\n",
       "      <td>30</td>\n",
       "    </tr>\n",
       "    <tr>\n",
       "      <th>21.0</th>\n",
       "      <td>21</td>\n",
       "      <td>0</td>\n",
       "      <td>21</td>\n",
       "    </tr>\n",
       "    <tr>\n",
       "      <th>22.0</th>\n",
       "      <td>33</td>\n",
       "      <td>0</td>\n",
       "      <td>33</td>\n",
       "    </tr>\n",
       "    <tr>\n",
       "      <th>23.0</th>\n",
       "      <td>10</td>\n",
       "      <td>0</td>\n",
       "      <td>10</td>\n",
       "    </tr>\n",
       "    <tr>\n",
       "      <th>24.0</th>\n",
       "      <td>9</td>\n",
       "      <td>0</td>\n",
       "      <td>9</td>\n",
       "    </tr>\n",
       "    <tr>\n",
       "      <th>25.0</th>\n",
       "      <td>1</td>\n",
       "      <td>0</td>\n",
       "      <td>1</td>\n",
       "    </tr>\n",
       "    <tr>\n",
       "      <th>26.0</th>\n",
       "      <td>2</td>\n",
       "      <td>0</td>\n",
       "      <td>2</td>\n",
       "    </tr>\n",
       "    <tr>\n",
       "      <th rowspan=\"12\" valign=\"top\">Male</th>\n",
       "      <th>14.0</th>\n",
       "      <td>0</td>\n",
       "      <td>3</td>\n",
       "      <td>3</td>\n",
       "    </tr>\n",
       "    <tr>\n",
       "      <th>15.0</th>\n",
       "      <td>0</td>\n",
       "      <td>10</td>\n",
       "      <td>10</td>\n",
       "    </tr>\n",
       "    <tr>\n",
       "      <th>16.0</th>\n",
       "      <td>0</td>\n",
       "      <td>16</td>\n",
       "      <td>16</td>\n",
       "    </tr>\n",
       "    <tr>\n",
       "      <th>17.0</th>\n",
       "      <td>0</td>\n",
       "      <td>18</td>\n",
       "      <td>18</td>\n",
       "    </tr>\n",
       "    <tr>\n",
       "      <th>18.0</th>\n",
       "      <td>1</td>\n",
       "      <td>20</td>\n",
       "      <td>21</td>\n",
       "    </tr>\n",
       "    <tr>\n",
       "      <th>19.0</th>\n",
       "      <td>9</td>\n",
       "      <td>2</td>\n",
       "      <td>11</td>\n",
       "    </tr>\n",
       "    <tr>\n",
       "      <th>20.0</th>\n",
       "      <td>10</td>\n",
       "      <td>0</td>\n",
       "      <td>10</td>\n",
       "    </tr>\n",
       "    <tr>\n",
       "      <th>21.0</th>\n",
       "      <td>11</td>\n",
       "      <td>0</td>\n",
       "      <td>11</td>\n",
       "    </tr>\n",
       "    <tr>\n",
       "      <th>22.0</th>\n",
       "      <td>5</td>\n",
       "      <td>0</td>\n",
       "      <td>5</td>\n",
       "    </tr>\n",
       "    <tr>\n",
       "      <th>23.0</th>\n",
       "      <td>5</td>\n",
       "      <td>0</td>\n",
       "      <td>5</td>\n",
       "    </tr>\n",
       "    <tr>\n",
       "      <th>24.0</th>\n",
       "      <td>1</td>\n",
       "      <td>0</td>\n",
       "      <td>1</td>\n",
       "    </tr>\n",
       "    <tr>\n",
       "      <th>25.0</th>\n",
       "      <td>1</td>\n",
       "      <td>0</td>\n",
       "      <td>1</td>\n",
       "    </tr>\n",
       "    <tr>\n",
       "      <th>Other</th>\n",
       "      <th>17.0</th>\n",
       "      <td>0</td>\n",
       "      <td>1</td>\n",
       "      <td>1</td>\n",
       "    </tr>\n",
       "    <tr>\n",
       "      <th>Total</th>\n",
       "      <th></th>\n",
       "      <td>185</td>\n",
       "      <td>235</td>\n",
       "      <td>420</td>\n",
       "    </tr>\n",
       "  </tbody>\n",
       "</table>\n",
       "</div>"
      ],
      "text/plain": [
       "Student Type  College Student  High School Student  Total\n",
       "Gender Age                                               \n",
       "Female 14.0                 0                    7      7\n",
       "       15.0                 0                   39     39\n",
       "       16.0                 0                   42     42\n",
       "       17.0                 0                   43     43\n",
       "       18.0                 7                   34     41\n",
       "       19.0                29                    0     29\n",
       "       20.0                30                    0     30\n",
       "       21.0                21                    0     21\n",
       "       22.0                33                    0     33\n",
       "       23.0                10                    0     10\n",
       "       24.0                 9                    0      9\n",
       "       25.0                 1                    0      1\n",
       "       26.0                 2                    0      2\n",
       "Male   14.0                 0                    3      3\n",
       "       15.0                 0                   10     10\n",
       "       16.0                 0                   16     16\n",
       "       17.0                 0                   18     18\n",
       "       18.0                 1                   20     21\n",
       "       19.0                 9                    2     11\n",
       "       20.0                10                    0     10\n",
       "       21.0                11                    0     11\n",
       "       22.0                 5                    0      5\n",
       "       23.0                 5                    0      5\n",
       "       24.0                 1                    0      1\n",
       "       25.0                 1                    0      1\n",
       "Other  17.0                 0                    1      1\n",
       "Total                     185                  235    420"
      ]
     },
     "execution_count": 5,
     "metadata": {},
     "output_type": "execute_result"
    }
   ],
   "source": [
    "pd.crosstab([df.C_Gender__c, df.C_Age__c], df.RT_RecordType__c, margins=True, colnames=[\n",
    "            'Student Type'], rownames=['Gender', 'Age'], margins_name='Total')"
   ]
  },
  {
   "cell_type": "markdown",
   "metadata": {},
   "source": [
    "#### Gender / Ethnic / Student Type Breakdown"
   ]
  },
  {
   "cell_type": "code",
   "execution_count": 6,
   "metadata": {
    "hide_input": false
   },
   "outputs": [
    {
     "data": {
      "text/html": [
       "<div>\n",
       "<style scoped>\n",
       "    .dataframe tbody tr th:only-of-type {\n",
       "        vertical-align: middle;\n",
       "    }\n",
       "\n",
       "    .dataframe tbody tr th {\n",
       "        vertical-align: top;\n",
       "    }\n",
       "\n",
       "    .dataframe thead th {\n",
       "        text-align: right;\n",
       "    }\n",
       "</style>\n",
       "<table border=\"1\" class=\"dataframe\">\n",
       "  <thead>\n",
       "    <tr style=\"text-align: right;\">\n",
       "      <th></th>\n",
       "      <th>Student Type</th>\n",
       "      <th>College Student</th>\n",
       "      <th>High School Student</th>\n",
       "      <th>Total</th>\n",
       "    </tr>\n",
       "    <tr>\n",
       "      <th>Gender</th>\n",
       "      <th>Ethnicity</th>\n",
       "      <th></th>\n",
       "      <th></th>\n",
       "      <th></th>\n",
       "    </tr>\n",
       "  </thead>\n",
       "  <tbody>\n",
       "    <tr>\n",
       "      <th rowspan=\"8\" valign=\"top\">Female</th>\n",
       "      <th>African-American</th>\n",
       "      <td>129</td>\n",
       "      <td>132</td>\n",
       "      <td>261</td>\n",
       "    </tr>\n",
       "    <tr>\n",
       "      <th>Asian-American</th>\n",
       "      <td>0</td>\n",
       "      <td>10</td>\n",
       "      <td>10</td>\n",
       "    </tr>\n",
       "    <tr>\n",
       "      <th>Decline to State</th>\n",
       "      <td>0</td>\n",
       "      <td>2</td>\n",
       "      <td>2</td>\n",
       "    </tr>\n",
       "    <tr>\n",
       "      <th>Latino / Chicano</th>\n",
       "      <td>10</td>\n",
       "      <td>12</td>\n",
       "      <td>22</td>\n",
       "    </tr>\n",
       "    <tr>\n",
       "      <th>Multiracial</th>\n",
       "      <td>3</td>\n",
       "      <td>3</td>\n",
       "      <td>6</td>\n",
       "    </tr>\n",
       "    <tr>\n",
       "      <th>Native American</th>\n",
       "      <td>0</td>\n",
       "      <td>1</td>\n",
       "      <td>1</td>\n",
       "    </tr>\n",
       "    <tr>\n",
       "      <th>Other</th>\n",
       "      <td>0</td>\n",
       "      <td>4</td>\n",
       "      <td>4</td>\n",
       "    </tr>\n",
       "    <tr>\n",
       "      <th>White / Caucasian</th>\n",
       "      <td>0</td>\n",
       "      <td>1</td>\n",
       "      <td>1</td>\n",
       "    </tr>\n",
       "    <tr>\n",
       "      <th rowspan=\"6\" valign=\"top\">Male</th>\n",
       "      <th>African-American</th>\n",
       "      <td>42</td>\n",
       "      <td>50</td>\n",
       "      <td>92</td>\n",
       "    </tr>\n",
       "    <tr>\n",
       "      <th>Asian-American</th>\n",
       "      <td>0</td>\n",
       "      <td>7</td>\n",
       "      <td>7</td>\n",
       "    </tr>\n",
       "    <tr>\n",
       "      <th>Latino / Chicano</th>\n",
       "      <td>1</td>\n",
       "      <td>5</td>\n",
       "      <td>6</td>\n",
       "    </tr>\n",
       "    <tr>\n",
       "      <th>Multiracial</th>\n",
       "      <td>0</td>\n",
       "      <td>3</td>\n",
       "      <td>3</td>\n",
       "    </tr>\n",
       "    <tr>\n",
       "      <th>Other</th>\n",
       "      <td>0</td>\n",
       "      <td>1</td>\n",
       "      <td>1</td>\n",
       "    </tr>\n",
       "    <tr>\n",
       "      <th>White / Caucasian</th>\n",
       "      <td>0</td>\n",
       "      <td>3</td>\n",
       "      <td>3</td>\n",
       "    </tr>\n",
       "    <tr>\n",
       "      <th>Other</th>\n",
       "      <th>Asian-American</th>\n",
       "      <td>0</td>\n",
       "      <td>1</td>\n",
       "      <td>1</td>\n",
       "    </tr>\n",
       "    <tr>\n",
       "      <th>Total</th>\n",
       "      <th></th>\n",
       "      <td>185</td>\n",
       "      <td>235</td>\n",
       "      <td>420</td>\n",
       "    </tr>\n",
       "  </tbody>\n",
       "</table>\n",
       "</div>"
      ],
      "text/plain": [
       "Student Type              College Student  High School Student  Total\n",
       "Gender Ethnicity                                                     \n",
       "Female African-American               129                  132    261\n",
       "       Asian-American                   0                   10     10\n",
       "       Decline to State                 0                    2      2\n",
       "       Latino / Chicano                10                   12     22\n",
       "       Multiracial                      3                    3      6\n",
       "       Native American                  0                    1      1\n",
       "       Other                            0                    4      4\n",
       "       White / Caucasian                0                    1      1\n",
       "Male   African-American                42                   50     92\n",
       "       Asian-American                   0                    7      7\n",
       "       Latino / Chicano                 1                    5      6\n",
       "       Multiracial                      0                    3      3\n",
       "       Other                            0                    1      1\n",
       "       White / Caucasian                0                    3      3\n",
       "Other  Asian-American                   0                    1      1\n",
       "Total                                 185                  235    420"
      ]
     },
     "execution_count": 6,
     "metadata": {},
     "output_type": "execute_result"
    }
   ],
   "source": [
    "pd.crosstab([df.C_Gender__c, df.C_Ethnic_background__c], df.RT_RecordType__c, margins=True, colnames=[\n",
    "            'Student Type'], rownames=['Gender', 'Ethnicity'], margins_name='Total')"
   ]
  },
  {
   "cell_type": "markdown",
   "metadata": {},
   "source": [
    "#### Count of unduplicated participants by sex and Employment Status\n"
   ]
  },
  {
   "cell_type": "code",
   "execution_count": 7,
   "metadata": {},
   "outputs": [
    {
     "data": {
      "text/html": [
       "<div>\n",
       "<style scoped>\n",
       "    .dataframe tbody tr th:only-of-type {\n",
       "        vertical-align: middle;\n",
       "    }\n",
       "\n",
       "    .dataframe tbody tr th {\n",
       "        vertical-align: top;\n",
       "    }\n",
       "\n",
       "    .dataframe thead th {\n",
       "        text-align: right;\n",
       "    }\n",
       "</style>\n",
       "<table border=\"1\" class=\"dataframe\">\n",
       "  <thead>\n",
       "    <tr style=\"text-align: right;\">\n",
       "      <th></th>\n",
       "      <th>Student Type</th>\n",
       "      <th>College Student</th>\n",
       "      <th>High School Student</th>\n",
       "      <th>Total</th>\n",
       "    </tr>\n",
       "    <tr>\n",
       "      <th>Gender</th>\n",
       "      <th>Employment Status</th>\n",
       "      <th></th>\n",
       "      <th></th>\n",
       "      <th></th>\n",
       "    </tr>\n",
       "  </thead>\n",
       "  <tbody>\n",
       "    <tr>\n",
       "      <th rowspan=\"2\" valign=\"top\">Female</th>\n",
       "      <th>Employed part time</th>\n",
       "      <td>3</td>\n",
       "      <td>0</td>\n",
       "      <td>3</td>\n",
       "    </tr>\n",
       "    <tr>\n",
       "      <th>No information available</th>\n",
       "      <td>139</td>\n",
       "      <td>165</td>\n",
       "      <td>304</td>\n",
       "    </tr>\n",
       "    <tr>\n",
       "      <th>Male</th>\n",
       "      <th>No information available</th>\n",
       "      <td>43</td>\n",
       "      <td>69</td>\n",
       "      <td>112</td>\n",
       "    </tr>\n",
       "    <tr>\n",
       "      <th>Other</th>\n",
       "      <th>No information available</th>\n",
       "      <td>0</td>\n",
       "      <td>1</td>\n",
       "      <td>1</td>\n",
       "    </tr>\n",
       "    <tr>\n",
       "      <th>Total</th>\n",
       "      <th></th>\n",
       "      <td>185</td>\n",
       "      <td>235</td>\n",
       "      <td>420</td>\n",
       "    </tr>\n",
       "  </tbody>\n",
       "</table>\n",
       "</div>"
      ],
      "text/plain": [
       "Student Type                     College Student  High School Student  Total\n",
       "Gender Employment Status                                                    \n",
       "Female Employed part time                      3                    0      3\n",
       "       No information available              139                  165    304\n",
       "Male   No information available               43                   69    112\n",
       "Other  No information available                0                    1      1\n",
       "Total                                        185                  235    420"
      ]
     },
     "execution_count": 7,
     "metadata": {},
     "output_type": "execute_result"
    }
   ],
   "source": [
    "pd.crosstab([df.C_Gender__c, df.C_Employment_Status__c], df.RT_RecordType__c, margins=True, colnames=[\n",
    "            'Student Type'], rownames=['Gender', 'Employment Status'], margins_name='Total')"
   ]
  },
  {
   "cell_type": "markdown",
   "metadata": {},
   "source": [
    "#### *Count of unduplicated participants by household income in the following categories: Total Number of Persons less than or equal to 30% Area Median Income (extremely low income), Total Number of Persons over 30% not greater than 50% Area Median Income (low income), Total Number of Persons over 50% not greater than 80% Area Median Income (moderate income), Total Number of Persons over 80% Area Median Income (non-LMI), No Income, Unknown."
   ]
  },
  {
   "cell_type": "code",
   "execution_count": 8,
   "metadata": {},
   "outputs": [
    {
     "data": {
      "text/html": [
       "<div>\n",
       "<style scoped>\n",
       "    .dataframe tbody tr th:only-of-type {\n",
       "        vertical-align: middle;\n",
       "    }\n",
       "\n",
       "    .dataframe tbody tr th {\n",
       "        vertical-align: top;\n",
       "    }\n",
       "\n",
       "    .dataframe thead th {\n",
       "        text-align: right;\n",
       "    }\n",
       "</style>\n",
       "<table border=\"1\" class=\"dataframe\">\n",
       "  <thead>\n",
       "    <tr style=\"text-align: right;\">\n",
       "      <th>Student Type</th>\n",
       "      <th>College Student</th>\n",
       "      <th>High School Student</th>\n",
       "      <th>Total</th>\n",
       "    </tr>\n",
       "    <tr>\n",
       "      <th>Income Bucket</th>\n",
       "      <th></th>\n",
       "      <th></th>\n",
       "      <th></th>\n",
       "    </tr>\n",
       "  </thead>\n",
       "  <tbody>\n",
       "    <tr>\n",
       "      <th>Between 30% of 50% of Median Income</th>\n",
       "      <td>19</td>\n",
       "      <td>31</td>\n",
       "      <td>50</td>\n",
       "    </tr>\n",
       "    <tr>\n",
       "      <th>Between 51% and 80% of Median Income</th>\n",
       "      <td>53</td>\n",
       "      <td>88</td>\n",
       "      <td>141</td>\n",
       "    </tr>\n",
       "    <tr>\n",
       "      <th>Greater than 80% of Median Income</th>\n",
       "      <td>78</td>\n",
       "      <td>83</td>\n",
       "      <td>161</td>\n",
       "    </tr>\n",
       "    <tr>\n",
       "      <th>Less than or equal to 30% of Median Income</th>\n",
       "      <td>35</td>\n",
       "      <td>33</td>\n",
       "      <td>68</td>\n",
       "    </tr>\n",
       "    <tr>\n",
       "      <th>Total</th>\n",
       "      <td>185</td>\n",
       "      <td>235</td>\n",
       "      <td>420</td>\n",
       "    </tr>\n",
       "  </tbody>\n",
       "</table>\n",
       "</div>"
      ],
      "text/plain": [
       "Student Type                                College Student  \\\n",
       "Income Bucket                                                 \n",
       "Between 30% of 50% of Median Income                      19   \n",
       "Between 51% and 80% of Median Income                     53   \n",
       "Greater than 80% of Median Income                        78   \n",
       "Less than or equal to 30% of Median Income               35   \n",
       "Total                                                   185   \n",
       "\n",
       "Student Type                                High School Student  Total  \n",
       "Income Bucket                                                           \n",
       "Between 30% of 50% of Median Income                          31     50  \n",
       "Between 51% and 80% of Median Income                         88    141  \n",
       "Greater than 80% of Median Income                            83    161  \n",
       "Less than or equal to 30% of Median Income                   33     68  \n",
       "Total                                                       235    420  "
      ]
     },
     "execution_count": 8,
     "metadata": {},
     "output_type": "execute_result"
    }
   ],
   "source": [
    "pd.crosstab([df['Income Bucket']], df.RT_RecordType__c, margins=True, colnames=[\n",
    "            'Student Type'], rownames=['Income Bucket'], margins_name='Total')"
   ]
  },
  {
   "cell_type": "markdown",
   "metadata": {},
   "source": [
    "#### Gender / Parish Breakdown\n",
    "\n"
   ]
  },
  {
   "cell_type": "code",
   "execution_count": 9,
   "metadata": {},
   "outputs": [
    {
     "data": {
      "text/html": [
       "<div>\n",
       "<style scoped>\n",
       "    .dataframe tbody tr th:only-of-type {\n",
       "        vertical-align: middle;\n",
       "    }\n",
       "\n",
       "    .dataframe tbody tr th {\n",
       "        vertical-align: top;\n",
       "    }\n",
       "\n",
       "    .dataframe thead th {\n",
       "        text-align: right;\n",
       "    }\n",
       "</style>\n",
       "<table border=\"1\" class=\"dataframe\">\n",
       "  <thead>\n",
       "    <tr style=\"text-align: right;\">\n",
       "      <th></th>\n",
       "      <th>Student Type</th>\n",
       "      <th>College Student</th>\n",
       "      <th>High School Student</th>\n",
       "      <th>Total</th>\n",
       "    </tr>\n",
       "    <tr>\n",
       "      <th>Gender</th>\n",
       "      <th>Parish</th>\n",
       "      <th></th>\n",
       "      <th></th>\n",
       "      <th></th>\n",
       "    </tr>\n",
       "  </thead>\n",
       "  <tbody>\n",
       "    <tr>\n",
       "      <th rowspan=\"8\" valign=\"top\">Female</th>\n",
       "      <th>East Baton Rouge Parish</th>\n",
       "      <td>1</td>\n",
       "      <td>0</td>\n",
       "      <td>1</td>\n",
       "    </tr>\n",
       "    <tr>\n",
       "      <th>Jefferson Parish</th>\n",
       "      <td>18</td>\n",
       "      <td>12</td>\n",
       "      <td>30</td>\n",
       "    </tr>\n",
       "    <tr>\n",
       "      <th>Missing</th>\n",
       "      <td>5</td>\n",
       "      <td>0</td>\n",
       "      <td>5</td>\n",
       "    </tr>\n",
       "    <tr>\n",
       "      <th>Orleans Parish</th>\n",
       "      <td>112</td>\n",
       "      <td>152</td>\n",
       "      <td>264</td>\n",
       "    </tr>\n",
       "    <tr>\n",
       "      <th>Plaquemines Parish</th>\n",
       "      <td>0</td>\n",
       "      <td>1</td>\n",
       "      <td>1</td>\n",
       "    </tr>\n",
       "    <tr>\n",
       "      <th>St. Bernard Parish</th>\n",
       "      <td>2</td>\n",
       "      <td>0</td>\n",
       "      <td>2</td>\n",
       "    </tr>\n",
       "    <tr>\n",
       "      <th>St. John the Baptist Parish</th>\n",
       "      <td>1</td>\n",
       "      <td>0</td>\n",
       "      <td>1</td>\n",
       "    </tr>\n",
       "    <tr>\n",
       "      <th>St. Tammany Parish</th>\n",
       "      <td>3</td>\n",
       "      <td>0</td>\n",
       "      <td>3</td>\n",
       "    </tr>\n",
       "    <tr>\n",
       "      <th rowspan=\"6\" valign=\"top\">Male</th>\n",
       "      <th>East Baton Rouge Parish</th>\n",
       "      <td>1</td>\n",
       "      <td>0</td>\n",
       "      <td>1</td>\n",
       "    </tr>\n",
       "    <tr>\n",
       "      <th>Harris County</th>\n",
       "      <td>1</td>\n",
       "      <td>0</td>\n",
       "      <td>1</td>\n",
       "    </tr>\n",
       "    <tr>\n",
       "      <th>Jefferson Parish</th>\n",
       "      <td>4</td>\n",
       "      <td>6</td>\n",
       "      <td>10</td>\n",
       "    </tr>\n",
       "    <tr>\n",
       "      <th>Orleans Parish</th>\n",
       "      <td>35</td>\n",
       "      <td>63</td>\n",
       "      <td>98</td>\n",
       "    </tr>\n",
       "    <tr>\n",
       "      <th>St. Bernard Parish</th>\n",
       "      <td>1</td>\n",
       "      <td>0</td>\n",
       "      <td>1</td>\n",
       "    </tr>\n",
       "    <tr>\n",
       "      <th>St. Charles Parish</th>\n",
       "      <td>1</td>\n",
       "      <td>0</td>\n",
       "      <td>1</td>\n",
       "    </tr>\n",
       "    <tr>\n",
       "      <th>Other</th>\n",
       "      <th>Orleans Parish</th>\n",
       "      <td>0</td>\n",
       "      <td>1</td>\n",
       "      <td>1</td>\n",
       "    </tr>\n",
       "    <tr>\n",
       "      <th>Total</th>\n",
       "      <th></th>\n",
       "      <td>185</td>\n",
       "      <td>235</td>\n",
       "      <td>420</td>\n",
       "    </tr>\n",
       "  </tbody>\n",
       "</table>\n",
       "</div>"
      ],
      "text/plain": [
       "Student Type                        College Student  High School Student  \\\n",
       "Gender Parish                                                              \n",
       "Female East Baton Rouge Parish                    1                    0   \n",
       "       Jefferson Parish                          18                   12   \n",
       "       Missing                                    5                    0   \n",
       "       Orleans Parish                           112                  152   \n",
       "       Plaquemines Parish                         0                    1   \n",
       "       St. Bernard Parish                         2                    0   \n",
       "       St. John the Baptist Parish                1                    0   \n",
       "       St. Tammany Parish                         3                    0   \n",
       "Male   East Baton Rouge Parish                    1                    0   \n",
       "       Harris County                              1                    0   \n",
       "       Jefferson Parish                           4                    6   \n",
       "       Orleans Parish                            35                   63   \n",
       "       St. Bernard Parish                         1                    0   \n",
       "       St. Charles Parish                         1                    0   \n",
       "Other  Orleans Parish                             0                    1   \n",
       "Total                                           185                  235   \n",
       "\n",
       "Student Type                        Total  \n",
       "Gender Parish                              \n",
       "Female East Baton Rouge Parish          1  \n",
       "       Jefferson Parish                30  \n",
       "       Missing                          5  \n",
       "       Orleans Parish                 264  \n",
       "       Plaquemines Parish               1  \n",
       "       St. Bernard Parish               2  \n",
       "       St. John the Baptist Parish      1  \n",
       "       St. Tammany Parish               3  \n",
       "Male   East Baton Rouge Parish          1  \n",
       "       Harris County                    1  \n",
       "       Jefferson Parish                10  \n",
       "       Orleans Parish                  98  \n",
       "       St. Bernard Parish               1  \n",
       "       St. Charles Parish               1  \n",
       "Other  Orleans Parish                   1  \n",
       "Total                                 420  "
      ]
     },
     "execution_count": 9,
     "metadata": {},
     "output_type": "execute_result"
    }
   ],
   "source": [
    "pd.crosstab([df.C_Gender__c, df.Parish.fillna('Missing')], df.RT_RecordType__c, margins=True, colnames=[\n",
    "            'Student Type'], rownames=['Gender', 'Parish'], margins_name='Total')"
   ]
  },
  {
   "cell_type": "markdown",
   "metadata": {},
   "source": [
    "## High School Questions"
   ]
  },
  {
   "cell_type": "code",
   "execution_count": 10,
   "metadata": {},
   "outputs": [],
   "source": [
    "df_2021 = df[df.C_HIGH_SCHOOL_GRADUATING_CLASS__c == \"2021\"]"
   ]
  },
  {
   "cell_type": "code",
   "execution_count": 11,
   "metadata": {},
   "outputs": [
    {
     "data": {
      "text/plain": [
       "59"
      ]
     },
     "execution_count": 11,
     "metadata": {},
     "output_type": "execute_result"
    }
   ],
   "source": [
    "len(df_2021)"
   ]
  },
  {
   "cell_type": "markdown",
   "metadata": {},
   "source": [
    "#### *% and # of Class of 2021 NOLA seniors who have submitted, completed, or are in the “review” phase with FAFSA to date"
   ]
  },
  {
   "cell_type": "code",
   "execution_count": 12,
   "metadata": {},
   "outputs": [],
   "source": [
    "def create_count_percent_cross_tab(df, row_column, column_column, row_name, subset_name = 'High School Student'):\n",
    "    cross_1 = pd.crosstab(df[row_column].fillna('No Data'), df[column_column], dropna=False, colnames=[\n",
    "            subset_name], rownames=[row_name], margins=True)\n",
    "    \n",
    "    cross_2 = pd.crosstab(df[row_column].fillna('No Data'), df[column_column], dropna=False, colnames=[\n",
    "            subset_name], rownames=[row_name], normalize=True, margins=True)\n",
    "    \n",
    "    cross_1['Percent'] = cross_2[subset_name].values\n",
    "    cross_1.rename(columns={subset_name: \"Count\"}, inplace=True)\n",
    "    cross_1.drop('All', inplace=True, axis=1)\n",
    "    return cross_1.style.format({'Percent': \"{:.0%}\"})\n"
   ]
  },
  {
   "cell_type": "code",
   "execution_count": 13,
   "metadata": {},
   "outputs": [],
   "source": [
    "df_2021_us_citizen = df_2021[df_2021.C_Citizen_c__c == 'US Citizen']\n",
    "df_2021_us_citizen_pr = df_2021[df_2021.C_Citizen_c__c != 'Other']"
   ]
  },
  {
   "cell_type": "markdown",
   "metadata": {},
   "source": [
    "Not Including permanent residence."
   ]
  },
  {
   "cell_type": "code",
   "execution_count": 14,
   "metadata": {},
   "outputs": [
    {
     "data": {
      "text/html": [
       "<style  type=\"text/css\" >\n",
       "</style><table id=\"T_3fbbae8e_f931_11eb_8742_4c327597d7ef\" ><thead>    <tr>        <th class=\"index_name level0\" >High School Student</th>        <th class=\"col_heading level0 col0\" >Count</th>        <th class=\"col_heading level0 col1\" >Percent</th>    </tr>    <tr>        <th class=\"index_name level0\" >FAFSA Status</th>        <th class=\"blank\" ></th>        <th class=\"blank\" ></th>    </tr></thead><tbody>\n",
       "                <tr>\n",
       "                        <th id=\"T_3fbbae8e_f931_11eb_8742_4c327597d7eflevel0_row0\" class=\"row_heading level0 row0\" >Complete</th>\n",
       "                        <td id=\"T_3fbbae8e_f931_11eb_8742_4c327597d7efrow0_col0\" class=\"data row0 col0\" >1</td>\n",
       "                        <td id=\"T_3fbbae8e_f931_11eb_8742_4c327597d7efrow0_col1\" class=\"data row0 col1\" >2%</td>\n",
       "            </tr>\n",
       "            <tr>\n",
       "                        <th id=\"T_3fbbae8e_f931_11eb_8742_4c327597d7eflevel0_row1\" class=\"row_heading level0 row1\" >No Data</th>\n",
       "                        <td id=\"T_3fbbae8e_f931_11eb_8742_4c327597d7efrow1_col0\" class=\"data row1 col0\" >1</td>\n",
       "                        <td id=\"T_3fbbae8e_f931_11eb_8742_4c327597d7efrow1_col1\" class=\"data row1 col1\" >2%</td>\n",
       "            </tr>\n",
       "            <tr>\n",
       "                        <th id=\"T_3fbbae8e_f931_11eb_8742_4c327597d7eflevel0_row2\" class=\"row_heading level0 row2\" >Submitted</th>\n",
       "                        <td id=\"T_3fbbae8e_f931_11eb_8742_4c327597d7efrow2_col0\" class=\"data row2 col0\" >51</td>\n",
       "                        <td id=\"T_3fbbae8e_f931_11eb_8742_4c327597d7efrow2_col1\" class=\"data row2 col1\" >96%</td>\n",
       "            </tr>\n",
       "            <tr>\n",
       "                        <th id=\"T_3fbbae8e_f931_11eb_8742_4c327597d7eflevel0_row3\" class=\"row_heading level0 row3\" >All</th>\n",
       "                        <td id=\"T_3fbbae8e_f931_11eb_8742_4c327597d7efrow3_col0\" class=\"data row3 col0\" >53</td>\n",
       "                        <td id=\"T_3fbbae8e_f931_11eb_8742_4c327597d7efrow3_col1\" class=\"data row3 col1\" >100%</td>\n",
       "            </tr>\n",
       "    </tbody></table>"
      ],
      "text/plain": [
       "<pandas.io.formats.style.Styler at 0x117249320>"
      ]
     },
     "execution_count": 14,
     "metadata": {},
     "output_type": "execute_result"
    }
   ],
   "source": [
    "create_count_percent_cross_tab(df_2021_us_citizen, 'C_FA_Req_FAFSA__c', 'RT_RecordType__c', 'FAFSA Status')"
   ]
  },
  {
   "cell_type": "markdown",
   "metadata": {},
   "source": [
    "Including permanent residence."
   ]
  },
  {
   "cell_type": "code",
   "execution_count": 15,
   "metadata": {},
   "outputs": [
    {
     "data": {
      "text/html": [
       "<style  type=\"text/css\" >\n",
       "</style><table id=\"T_4131f8c2_f931_11eb_8742_4c327597d7ef\" ><thead>    <tr>        <th class=\"index_name level0\" >High School Student</th>        <th class=\"col_heading level0 col0\" >Count</th>        <th class=\"col_heading level0 col1\" >Percent</th>    </tr>    <tr>        <th class=\"index_name level0\" >FAFSA Status</th>        <th class=\"blank\" ></th>        <th class=\"blank\" ></th>    </tr></thead><tbody>\n",
       "                <tr>\n",
       "                        <th id=\"T_4131f8c2_f931_11eb_8742_4c327597d7eflevel0_row0\" class=\"row_heading level0 row0\" >Complete</th>\n",
       "                        <td id=\"T_4131f8c2_f931_11eb_8742_4c327597d7efrow0_col0\" class=\"data row0 col0\" >2</td>\n",
       "                        <td id=\"T_4131f8c2_f931_11eb_8742_4c327597d7efrow0_col1\" class=\"data row0 col1\" >4%</td>\n",
       "            </tr>\n",
       "            <tr>\n",
       "                        <th id=\"T_4131f8c2_f931_11eb_8742_4c327597d7eflevel0_row1\" class=\"row_heading level0 row1\" >No Data</th>\n",
       "                        <td id=\"T_4131f8c2_f931_11eb_8742_4c327597d7efrow1_col0\" class=\"data row1 col0\" >1</td>\n",
       "                        <td id=\"T_4131f8c2_f931_11eb_8742_4c327597d7efrow1_col1\" class=\"data row1 col1\" >2%</td>\n",
       "            </tr>\n",
       "            <tr>\n",
       "                        <th id=\"T_4131f8c2_f931_11eb_8742_4c327597d7eflevel0_row2\" class=\"row_heading level0 row2\" >Submitted</th>\n",
       "                        <td id=\"T_4131f8c2_f931_11eb_8742_4c327597d7efrow2_col0\" class=\"data row2 col0\" >52</td>\n",
       "                        <td id=\"T_4131f8c2_f931_11eb_8742_4c327597d7efrow2_col1\" class=\"data row2 col1\" >95%</td>\n",
       "            </tr>\n",
       "            <tr>\n",
       "                        <th id=\"T_4131f8c2_f931_11eb_8742_4c327597d7eflevel0_row3\" class=\"row_heading level0 row3\" >All</th>\n",
       "                        <td id=\"T_4131f8c2_f931_11eb_8742_4c327597d7efrow3_col0\" class=\"data row3 col0\" >55</td>\n",
       "                        <td id=\"T_4131f8c2_f931_11eb_8742_4c327597d7efrow3_col1\" class=\"data row3 col1\" >100%</td>\n",
       "            </tr>\n",
       "    </tbody></table>"
      ],
      "text/plain": [
       "<pandas.io.formats.style.Styler at 0x1173986a0>"
      ]
     },
     "execution_count": 15,
     "metadata": {},
     "output_type": "execute_result"
    }
   ],
   "source": [
    "create_count_percent_cross_tab(df_2021_us_citizen_pr, 'C_FA_Req_FAFSA__c', 'RT_RecordType__c', 'FAFSA Status')"
   ]
  },
  {
   "cell_type": "markdown",
   "metadata": {},
   "source": [
    "#### % and # of our Class of 2021 NOLA high school seniors who qualify for TOPS eligibility.\n",
    "\n",
    "The first table is using data from Salesforce. The second table is just showing the students who are above or equal to a 2.5 GPA and 20 ACT"
   ]
  },
  {
   "cell_type": "code",
   "execution_count": 16,
   "metadata": {},
   "outputs": [
    {
     "data": {
      "text/html": [
       "<style  type=\"text/css\" >\n",
       "</style><table id=\"T_438eaf48_f931_11eb_8742_4c327597d7ef\" ><thead>    <tr>        <th class=\"index_name level0\" >High School Student</th>        <th class=\"col_heading level0 col0\" >Count</th>        <th class=\"col_heading level0 col1\" >Percent</th>    </tr>    <tr>        <th class=\"index_name level0\" >TOPS Status</th>        <th class=\"blank\" ></th>        <th class=\"blank\" ></th>    </tr></thead><tbody>\n",
       "                <tr>\n",
       "                        <th id=\"T_438eaf48_f931_11eb_8742_4c327597d7eflevel0_row0\" class=\"row_heading level0 row0\" >No Data</th>\n",
       "                        <td id=\"T_438eaf48_f931_11eb_8742_4c327597d7efrow0_col0\" class=\"data row0 col0\" >6</td>\n",
       "                        <td id=\"T_438eaf48_f931_11eb_8742_4c327597d7efrow0_col1\" class=\"data row0 col1\" >10%</td>\n",
       "            </tr>\n",
       "            <tr>\n",
       "                        <th id=\"T_438eaf48_f931_11eb_8742_4c327597d7eflevel0_row1\" class=\"row_heading level0 row1\" >Not Eligible</th>\n",
       "                        <td id=\"T_438eaf48_f931_11eb_8742_4c327597d7efrow1_col0\" class=\"data row1 col0\" >24</td>\n",
       "                        <td id=\"T_438eaf48_f931_11eb_8742_4c327597d7efrow1_col1\" class=\"data row1 col1\" >41%</td>\n",
       "            </tr>\n",
       "            <tr>\n",
       "                        <th id=\"T_438eaf48_f931_11eb_8742_4c327597d7eflevel0_row2\" class=\"row_heading level0 row2\" >TOPS Honors Award Eligible</th>\n",
       "                        <td id=\"T_438eaf48_f931_11eb_8742_4c327597d7efrow2_col0\" class=\"data row2 col0\" >3</td>\n",
       "                        <td id=\"T_438eaf48_f931_11eb_8742_4c327597d7efrow2_col1\" class=\"data row2 col1\" >5%</td>\n",
       "            </tr>\n",
       "            <tr>\n",
       "                        <th id=\"T_438eaf48_f931_11eb_8742_4c327597d7eflevel0_row3\" class=\"row_heading level0 row3\" >TOPS Opportunity Award Eligible</th>\n",
       "                        <td id=\"T_438eaf48_f931_11eb_8742_4c327597d7efrow3_col0\" class=\"data row3 col0\" >15</td>\n",
       "                        <td id=\"T_438eaf48_f931_11eb_8742_4c327597d7efrow3_col1\" class=\"data row3 col1\" >25%</td>\n",
       "            </tr>\n",
       "            <tr>\n",
       "                        <th id=\"T_438eaf48_f931_11eb_8742_4c327597d7eflevel0_row4\" class=\"row_heading level0 row4\" >TOPS Performance Award Eligible</th>\n",
       "                        <td id=\"T_438eaf48_f931_11eb_8742_4c327597d7efrow4_col0\" class=\"data row4 col0\" >11</td>\n",
       "                        <td id=\"T_438eaf48_f931_11eb_8742_4c327597d7efrow4_col1\" class=\"data row4 col1\" >19%</td>\n",
       "            </tr>\n",
       "            <tr>\n",
       "                        <th id=\"T_438eaf48_f931_11eb_8742_4c327597d7eflevel0_row5\" class=\"row_heading level0 row5\" >All</th>\n",
       "                        <td id=\"T_438eaf48_f931_11eb_8742_4c327597d7efrow5_col0\" class=\"data row5 col0\" >59</td>\n",
       "                        <td id=\"T_438eaf48_f931_11eb_8742_4c327597d7efrow5_col1\" class=\"data row5 col1\" >100%</td>\n",
       "            </tr>\n",
       "    </tbody></table>"
      ],
      "text/plain": [
       "<pandas.io.formats.style.Styler at 0x1172e2a20>"
      ]
     },
     "execution_count": 16,
     "metadata": {},
     "output_type": "execute_result"
    }
   ],
   "source": [
    "create_count_percent_cross_tab(df_2021, 'C_Region_Specific_Funding_Eligibility__c', 'RT_RecordType__c', 'TOPS Status')"
   ]
  },
  {
   "cell_type": "code",
   "execution_count": 17,
   "metadata": {},
   "outputs": [],
   "source": [
    "df_2021['tops_proxy'] = np.where((df_2021.C_Most_Recent_GPA_Cumulative__c >= 2.5)&(df_2021.C_ACT_Superscore_highest_official__c >=20),True,False)"
   ]
  },
  {
   "cell_type": "code",
   "execution_count": 18,
   "metadata": {},
   "outputs": [
    {
     "data": {
      "text/html": [
       "<style  type=\"text/css\" >\n",
       "</style><table id=\"T_47956f50_f931_11eb_8742_4c327597d7ef\" ><thead>    <tr>        <th class=\"index_name level0\" >High School Student</th>        <th class=\"col_heading level0 col0\" >Count</th>        <th class=\"col_heading level0 col1\" >Percent</th>    </tr>    <tr>        <th class=\"index_name level0\" >TOPS Status - Proxy</th>        <th class=\"blank\" ></th>        <th class=\"blank\" ></th>    </tr></thead><tbody>\n",
       "                <tr>\n",
       "                        <th id=\"T_47956f50_f931_11eb_8742_4c327597d7eflevel0_row0\" class=\"row_heading level0 row0\" >False</th>\n",
       "                        <td id=\"T_47956f50_f931_11eb_8742_4c327597d7efrow0_col0\" class=\"data row0 col0\" >28</td>\n",
       "                        <td id=\"T_47956f50_f931_11eb_8742_4c327597d7efrow0_col1\" class=\"data row0 col1\" >47%</td>\n",
       "            </tr>\n",
       "            <tr>\n",
       "                        <th id=\"T_47956f50_f931_11eb_8742_4c327597d7eflevel0_row1\" class=\"row_heading level0 row1\" >True</th>\n",
       "                        <td id=\"T_47956f50_f931_11eb_8742_4c327597d7efrow1_col0\" class=\"data row1 col0\" >31</td>\n",
       "                        <td id=\"T_47956f50_f931_11eb_8742_4c327597d7efrow1_col1\" class=\"data row1 col1\" >53%</td>\n",
       "            </tr>\n",
       "            <tr>\n",
       "                        <th id=\"T_47956f50_f931_11eb_8742_4c327597d7eflevel0_row2\" class=\"row_heading level0 row2\" >All</th>\n",
       "                        <td id=\"T_47956f50_f931_11eb_8742_4c327597d7efrow2_col0\" class=\"data row2 col0\" >59</td>\n",
       "                        <td id=\"T_47956f50_f931_11eb_8742_4c327597d7efrow2_col1\" class=\"data row2 col1\" >100%</td>\n",
       "            </tr>\n",
       "    </tbody></table>"
      ],
      "text/plain": [
       "<pandas.io.formats.style.Styler at 0x1173de0b8>"
      ]
     },
     "execution_count": 18,
     "metadata": {},
     "output_type": "execute_result"
    }
   ],
   "source": [
    "create_count_percent_cross_tab(df_2021, 'tops_proxy', 'RT_RecordType__c', 'TOPS Status - Proxy')"
   ]
  },
  {
   "cell_type": "markdown",
   "metadata": {},
   "source": [
    "#### # and % of four-year college acceptances for the high school Class of 2021 during the reporting period.\n"
   ]
  },
  {
   "cell_type": "code",
   "execution_count": 16,
   "metadata": {},
   "outputs": [],
   "source": [
    "df_2021['accepted_college'] = df.C_Four_Year_College_Acceptances__c > 0"
   ]
  },
  {
   "cell_type": "code",
   "execution_count": 17,
   "metadata": {},
   "outputs": [
    {
     "data": {
      "text/html": [
       "<style  type=\"text/css\" >\n",
       "</style><table id=\"T_e5b97ce2_f712_11eb_b3f1_4c327597d7ef\" ><thead>    <tr>        <th class=\"index_name level0\" >High School Student</th>        <th class=\"col_heading level0 col0\" >Count</th>        <th class=\"col_heading level0 col1\" >Percent</th>    </tr>    <tr>        <th class=\"index_name level0\" >Accepted into College</th>        <th class=\"blank\" ></th>        <th class=\"blank\" ></th>    </tr></thead><tbody>\n",
       "                <tr>\n",
       "                        <th id=\"T_e5b97ce2_f712_11eb_b3f1_4c327597d7eflevel0_row0\" class=\"row_heading level0 row0\" >True</th>\n",
       "                        <td id=\"T_e5b97ce2_f712_11eb_b3f1_4c327597d7efrow0_col0\" class=\"data row0 col0\" >59</td>\n",
       "                        <td id=\"T_e5b97ce2_f712_11eb_b3f1_4c327597d7efrow0_col1\" class=\"data row0 col1\" >100%</td>\n",
       "            </tr>\n",
       "            <tr>\n",
       "                        <th id=\"T_e5b97ce2_f712_11eb_b3f1_4c327597d7eflevel0_row1\" class=\"row_heading level0 row1\" >All</th>\n",
       "                        <td id=\"T_e5b97ce2_f712_11eb_b3f1_4c327597d7efrow1_col0\" class=\"data row1 col0\" >59</td>\n",
       "                        <td id=\"T_e5b97ce2_f712_11eb_b3f1_4c327597d7efrow1_col1\" class=\"data row1 col1\" >100%</td>\n",
       "            </tr>\n",
       "    </tbody></table>"
      ],
      "text/plain": [
       "<pandas.io.formats.style.Styler at 0x1150abac8>"
      ]
     },
     "execution_count": 17,
     "metadata": {},
     "output_type": "execute_result"
    }
   ],
   "source": [
    "create_count_percent_cross_tab(df_2021, 'accepted_college', 'RT_RecordType__c', 'Accepted into College')"
   ]
  },
  {
   "cell_type": "markdown",
   "metadata": {},
   "source": [
    "#### # and % of NOLA high school students in the 2020-21 academic year with 3.0+ cumulative GPAs\n",
    "\n",
    "The first table is based on the most recent GPA value we have on file for students. Which is a mix of Fall 2020-21 and Spring 2020-21 data. \n",
    "\n",
    "The second table is based only Spring 2020-21 data, which is mostly incomplete and will be until end of August."
   ]
  },
  {
   "cell_type": "code",
   "execution_count": 19,
   "metadata": {},
   "outputs": [],
   "source": [
    "df_hs = df[df.RT_RecordType__c == \"High School Student\"]\n"
   ]
  },
  {
   "cell_type": "code",
   "execution_count": 20,
   "metadata": {},
   "outputs": [],
   "source": [
    "df_hs['above_3_gpa_most_recent'] = df.C_Most_Recent_GPA_Cumulative__c >= 3.0\n",
    "df_hs['above_3_gpa_fall'] = df.AS_GPA_HS_cumulative__c >= 3.0"
   ]
  },
  {
   "cell_type": "code",
   "execution_count": 21,
   "metadata": {},
   "outputs": [
    {
     "data": {
      "text/html": [
       "<style  type=\"text/css\" >\n",
       "</style><table id=\"T_63fd4a96_f931_11eb_8742_4c327597d7ef\" ><thead>    <tr>        <th class=\"index_name level0\" >High School Student</th>        <th class=\"col_heading level0 col0\" >Count</th>        <th class=\"col_heading level0 col1\" >Percent</th>    </tr>    <tr>        <th class=\"index_name level0\" >Most Recent GPA >= 3.0</th>        <th class=\"blank\" ></th>        <th class=\"blank\" ></th>    </tr></thead><tbody>\n",
       "                <tr>\n",
       "                        <th id=\"T_63fd4a96_f931_11eb_8742_4c327597d7eflevel0_row0\" class=\"row_heading level0 row0\" >False</th>\n",
       "                        <td id=\"T_63fd4a96_f931_11eb_8742_4c327597d7efrow0_col0\" class=\"data row0 col0\" >44</td>\n",
       "                        <td id=\"T_63fd4a96_f931_11eb_8742_4c327597d7efrow0_col1\" class=\"data row0 col1\" >19%</td>\n",
       "            </tr>\n",
       "            <tr>\n",
       "                        <th id=\"T_63fd4a96_f931_11eb_8742_4c327597d7eflevel0_row1\" class=\"row_heading level0 row1\" >True</th>\n",
       "                        <td id=\"T_63fd4a96_f931_11eb_8742_4c327597d7efrow1_col0\" class=\"data row1 col0\" >191</td>\n",
       "                        <td id=\"T_63fd4a96_f931_11eb_8742_4c327597d7efrow1_col1\" class=\"data row1 col1\" >81%</td>\n",
       "            </tr>\n",
       "            <tr>\n",
       "                        <th id=\"T_63fd4a96_f931_11eb_8742_4c327597d7eflevel0_row2\" class=\"row_heading level0 row2\" >All</th>\n",
       "                        <td id=\"T_63fd4a96_f931_11eb_8742_4c327597d7efrow2_col0\" class=\"data row2 col0\" >235</td>\n",
       "                        <td id=\"T_63fd4a96_f931_11eb_8742_4c327597d7efrow2_col1\" class=\"data row2 col1\" >100%</td>\n",
       "            </tr>\n",
       "    </tbody></table>"
      ],
      "text/plain": [
       "<pandas.io.formats.style.Styler at 0x11725ec18>"
      ]
     },
     "execution_count": 21,
     "metadata": {},
     "output_type": "execute_result"
    }
   ],
   "source": [
    "create_count_percent_cross_tab(df_hs, 'above_3_gpa_most_recent', 'RT_RecordType__c', 'Most Recent GPA >= 3.0')"
   ]
  },
  {
   "cell_type": "code",
   "execution_count": 23,
   "metadata": {},
   "outputs": [
    {
     "data": {
      "text/html": [
       "<style  type=\"text/css\" >\n",
       "</style><table id=\"T_66d7e834_f931_11eb_8742_4c327597d7ef\" ><thead>    <tr>        <th class=\"index_name level0\" >High School Student</th>        <th class=\"col_heading level0 col0\" >Count</th>        <th class=\"col_heading level0 col1\" >Percent</th>    </tr>    <tr>        <th class=\"index_name level0\" >Spring 2020-21 GPA >= 3.0</th>        <th class=\"blank\" ></th>        <th class=\"blank\" ></th>    </tr></thead><tbody>\n",
       "                <tr>\n",
       "                        <th id=\"T_66d7e834_f931_11eb_8742_4c327597d7eflevel0_row0\" class=\"row_heading level0 row0\" >False</th>\n",
       "                        <td id=\"T_66d7e834_f931_11eb_8742_4c327597d7efrow0_col0\" class=\"data row0 col0\" >235</td>\n",
       "                        <td id=\"T_66d7e834_f931_11eb_8742_4c327597d7efrow0_col1\" class=\"data row0 col1\" >100%</td>\n",
       "            </tr>\n",
       "            <tr>\n",
       "                        <th id=\"T_66d7e834_f931_11eb_8742_4c327597d7eflevel0_row1\" class=\"row_heading level0 row1\" >All</th>\n",
       "                        <td id=\"T_66d7e834_f931_11eb_8742_4c327597d7efrow1_col0\" class=\"data row1 col0\" >235</td>\n",
       "                        <td id=\"T_66d7e834_f931_11eb_8742_4c327597d7efrow1_col1\" class=\"data row1 col1\" >100%</td>\n",
       "            </tr>\n",
       "    </tbody></table>"
      ],
      "text/plain": [
       "<pandas.io.formats.style.Styler at 0x117702160>"
      ]
     },
     "execution_count": 23,
     "metadata": {},
     "output_type": "execute_result"
    }
   ],
   "source": [
    "create_count_percent_cross_tab(df_hs, 'above_3_gpa_fall', 'RT_RecordType__c', 'Spring 2020-21 GPA >= 3.0')"
   ]
  },
  {
   "cell_type": "markdown",
   "metadata": {},
   "source": [
    "#### % of NOLA freshmen and sophomores required to attend MathBlast who completed the 3-5 weeks during this reporting period (summer 2021)\n",
    "\n",
    " I don't have a easy way to determine who is required to attend Math Blast so, I'm assuming if a student attended any Math Blast they were required to attend, and if they didn't attend anything they weren't required (or had a waver). I'm also using attended 80%+ as a proxy for 3-5 weeks.Let me know if you think we should do something else. "
   ]
  },
  {
   "cell_type": "code",
   "execution_count": 24,
   "metadata": {},
   "outputs": [],
   "source": [
    "df_2022_2023 = df[(df.C_HIGH_SCHOOL_GRADUATING_CLASS__c == \"2024\") | (df.C_HIGH_SCHOOL_GRADUATING_CLASS__c == \"2023\")]"
   ]
  },
  {
   "cell_type": "code",
   "execution_count": 25,
   "metadata": {},
   "outputs": [],
   "source": [
    "df_2022_2023 = df_2022_2023[df_2022_2023.attendance_rate > 0]"
   ]
  },
  {
   "cell_type": "code",
   "execution_count": 26,
   "metadata": {},
   "outputs": [
    {
     "data": {
      "text/html": [
       "<style  type=\"text/css\" >\n",
       "</style><table id=\"T_7e61c542_f931_11eb_8742_4c327597d7ef\" ><thead>    <tr>        <th class=\"index_name level0\" >High School Student</th>        <th class=\"col_heading level0 col0\" >Count</th>        <th class=\"col_heading level0 col1\" >Percent</th>    </tr>    <tr>        <th class=\"index_name level0\" >Attended 80%+ Math Blast</th>        <th class=\"blank\" ></th>        <th class=\"blank\" ></th>    </tr></thead><tbody>\n",
       "                <tr>\n",
       "                        <th id=\"T_7e61c542_f931_11eb_8742_4c327597d7eflevel0_row0\" class=\"row_heading level0 row0\" >True</th>\n",
       "                        <td id=\"T_7e61c542_f931_11eb_8742_4c327597d7efrow0_col0\" class=\"data row0 col0\" >66</td>\n",
       "                        <td id=\"T_7e61c542_f931_11eb_8742_4c327597d7efrow0_col1\" class=\"data row0 col1\" >100%</td>\n",
       "            </tr>\n",
       "            <tr>\n",
       "                        <th id=\"T_7e61c542_f931_11eb_8742_4c327597d7eflevel0_row1\" class=\"row_heading level0 row1\" >All</th>\n",
       "                        <td id=\"T_7e61c542_f931_11eb_8742_4c327597d7efrow1_col0\" class=\"data row1 col0\" >66</td>\n",
       "                        <td id=\"T_7e61c542_f931_11eb_8742_4c327597d7efrow1_col1\" class=\"data row1 col1\" >100%</td>\n",
       "            </tr>\n",
       "    </tbody></table>"
      ],
      "text/plain": [
       "<pandas.io.formats.style.Styler at 0x11773d748>"
      ]
     },
     "execution_count": 26,
     "metadata": {},
     "output_type": "execute_result"
    }
   ],
   "source": [
    "create_count_percent_cross_tab(df_2022_2023, 'above_80', 'RT_RecordType__c', 'Attended 80%+ Math Blast')"
   ]
  },
  {
   "cell_type": "markdown",
   "metadata": {},
   "source": [
    "#### average # of four-year colleges to which Class of 2021 NOLA high school seniors applied during this reporting period\n",
    "\n"
   ]
  },
  {
   "cell_type": "code",
   "execution_count": 27,
   "metadata": {},
   "outputs": [
    {
     "data": {
      "text/plain": [
       "6.39"
      ]
     },
     "execution_count": 27,
     "metadata": {},
     "output_type": "execute_result"
    }
   ],
   "source": [
    "df_2021.C_Four_Year_College_Applications__c.mean().round(2)"
   ]
  },
  {
   "cell_type": "markdown",
   "metadata": {},
   "source": [
    "#### average # of outside scholarships for which Class of 2021 NOLA high school seniors applied during this reporting period"
   ]
  },
  {
   "cell_type": "code",
   "execution_count": 28,
   "metadata": {},
   "outputs": [
    {
     "data": {
      "text/plain": [
       "1.81"
      ]
     },
     "execution_count": 28,
     "metadata": {},
     "output_type": "execute_result"
    }
   ],
   "source": [
    "df_2021.num_scholarships.mean().round(2)"
   ]
  },
  {
   "cell_type": "markdown",
   "metadata": {},
   "source": [
    "#### # of avg. community service hours Class of 2021 NOLA high school seniors have completed throughout high school."
   ]
  },
  {
   "cell_type": "code",
   "execution_count": 29,
   "metadata": {},
   "outputs": [
    {
     "data": {
      "text/plain": [
       "177.49"
      ]
     },
     "execution_count": 29,
     "metadata": {},
     "output_type": "execute_result"
    }
   ],
   "source": [
    "df_2021.C_Total_Community_Service_Hours_Completed__c.mean().round(2)"
   ]
  },
  {
   "cell_type": "markdown",
   "metadata": {},
   "source": [
    "#### % of NOLA high school students who attend 80% or more of their scheduled College Track programming sessions during this reporting period"
   ]
  },
  {
   "cell_type": "markdown",
   "metadata": {},
   "source": [
    "Took this from the new DDT: 83%"
   ]
  },
  {
   "cell_type": "markdown",
   "metadata": {},
   "source": [
    "## College Questions"
   ]
  },
  {
   "cell_type": "markdown",
   "metadata": {},
   "source": [
    "#### % of rising college freshmen who completed \"College Prep Institute\" to prepare for matriculation during this reporting period\n",
    "\n",
    "I don't see any workshops with \"College Prep Institute\" in the title since 2016. They do have Summer Bridge, which I assume is the same thing.\n",
    "\n",
    "NOTE: I do see a workshop that occured in May 2021 for Summer Bridge, but no attendance was taken. So I actually don't know what the attendance rates are for this!"
   ]
  },
  {
   "cell_type": "code",
   "execution_count": 32,
   "metadata": {},
   "outputs": [],
   "source": [
    "df_2020 = df[(df.C_HIGH_SCHOOL_GRADUATING_CLASS__c == \"2021\")]"
   ]
  },
  {
   "cell_type": "code",
   "execution_count": 33,
   "metadata": {},
   "outputs": [
    {
     "data": {
      "text/html": [
       "<style  type=\"text/css\" >\n",
       "</style><table id=\"T_b20f02ba_f931_11eb_8742_4c327597d7ef\" ><thead>    <tr>        <th class=\"index_name level0\" >High School Student</th>        <th class=\"col_heading level0 col0\" >Count</th>        <th class=\"col_heading level0 col1\" >Percent</th>    </tr>    <tr>        <th class=\"index_name level0\" >Attended 80%+ Summer Bridge</th>        <th class=\"blank\" ></th>        <th class=\"blank\" ></th>    </tr></thead><tbody>\n",
       "                <tr>\n",
       "                        <th id=\"T_b20f02ba_f931_11eb_8742_4c327597d7eflevel0_row0\" class=\"row_heading level0 row0\" >No Data</th>\n",
       "                        <td id=\"T_b20f02ba_f931_11eb_8742_4c327597d7efrow0_col0\" class=\"data row0 col0\" >59</td>\n",
       "                        <td id=\"T_b20f02ba_f931_11eb_8742_4c327597d7efrow0_col1\" class=\"data row0 col1\" >100%</td>\n",
       "            </tr>\n",
       "            <tr>\n",
       "                        <th id=\"T_b20f02ba_f931_11eb_8742_4c327597d7eflevel0_row1\" class=\"row_heading level0 row1\" >All</th>\n",
       "                        <td id=\"T_b20f02ba_f931_11eb_8742_4c327597d7efrow1_col0\" class=\"data row1 col0\" >59</td>\n",
       "                        <td id=\"T_b20f02ba_f931_11eb_8742_4c327597d7efrow1_col1\" class=\"data row1 col1\" >100%</td>\n",
       "            </tr>\n",
       "    </tbody></table>"
      ],
      "text/plain": [
       "<pandas.io.formats.style.Styler at 0x117747e10>"
      ]
     },
     "execution_count": 33,
     "metadata": {},
     "output_type": "execute_result"
    }
   ],
   "source": [
    "create_count_percent_cross_tab(df_2020, 'above_80', 'RT_RecordType__c', 'Attended 80%+ Summer Bridge',subset_name='High School Student')"
   ]
  },
  {
   "cell_type": "markdown",
   "metadata": {},
   "source": [
    "## Questions with No Data Related Answer"
   ]
  },
  {
   "cell_type": "markdown",
   "metadata": {},
   "source": [
    "**Question:**\n",
    "\n",
    "* The number of households that fit within the following \"Client Type of Household\" categories: Couple With Children/Dependents, Couple With No Children/Dependents, Female Householder With Children/Dependents - No Spouse/Partner, Male Householder with Children/Dependents - No Spouse/Partner, Single Household, Other, Unknown\n",
    "--from our last report, I understand most if not all of our student households fall into the \"unknown\" category. Please confirm that this is still the case.\n",
    "\n",
    "**Answer: All of our students would fall into the unknown category**"
   ]
  },
  {
   "cell_type": "markdown",
   "metadata": {},
   "source": [
    "**Question:** # and % of high school students promoted to the next grade from the 2019-2020 academic year\n",
    "\n",
    "\n",
    "\n",
    "**Answer: 100% of our students we still track would have moved on a grade and we don't have a way to track students who left the program.**"
   ]
  },
  {
   "cell_type": "markdown",
   "metadata": {},
   "source": [
    "**Question:** *% and # of class of 2020 seniors who graduated high school on time\n",
    "\n",
    "\n",
    "\n",
    "\n",
    "**Answer: Likewise, we have to say 100% of our students graduated HS because if a student wasn't going to graduate HS then they would be removed from the program.**"
   ]
  },
  {
   "cell_type": "code",
   "execution_count": 1,
   "metadata": {},
   "outputs": [
    {
     "data": {
      "text/html": [
       "\n",
       "<script>\n",
       "$(document).ready(function(){\n",
       "    window.code_toggle = function() {\n",
       "        (window.code_shown) ? $('div.input').hide(250) : $('div.input').show(250);\n",
       "        window.code_shown = !window.code_shown\n",
       "    }\n",
       "    if($('body.nbviewer').length) {\n",
       "        $('<li><a href=\"javascript:window.code_toggle()\" title=\"Show/Hide Code\"><span class=\"fa fa-code fa-2x menu-icon\"></span><span class=\"menu-text\">Show/Hide Code</span></a></li>').appendTo('.navbar-right');\n",
       "        window.code_shown=false;\n",
       "        $('div.input').hide();\n",
       "    }\n",
       "});\n",
       "</script>\n",
       "\n",
       "\n",
       "<style>\n",
       "\n",
       "div.prompt {display:none}\n",
       "\n",
       "\n",
       "h1, .h1 {\n",
       "    font-size: 33px;\n",
       "    font-family: \"Trebuchet MS\";\n",
       "    font-size: 2.5em !important;\n",
       "    color: #2a7bbd;\n",
       "}\n",
       "\n",
       "h2, .h2 {\n",
       "    font-size: 10px;\n",
       "    font-family: \"Trebuchet MS\";\n",
       "    color: #2a7bbd; \n",
       "    \n",
       "}\n",
       "\n",
       "\n",
       "h3, .h3 {\n",
       "    font-size: 10px;\n",
       "    font-family: \"Trebuchet MS\";\n",
       "    color: #5d6063; \n",
       "    \n",
       "}\n",
       "\n",
       ".rendered_html table {\n",
       "\n",
       "    font-size: 14px;\n",
       "}\n",
       "\n",
       ".output_png {\n",
       "  display: flex;\n",
       "  justify-content: center;\n",
       "}\n",
       "\n",
       ".cell {\n",
       "    padding: 0px;\n",
       "}\n",
       "\n",
       "\n",
       "</style>\n"
      ],
      "text/plain": [
       "<IPython.core.display.HTML object>"
      ]
     },
     "metadata": {},
     "output_type": "display_data"
    }
   ],
   "source": [
    "%%html\n",
    "\n",
    "<script>\n",
    "$(document).ready(function(){\n",
    "    window.code_toggle = function() {\n",
    "        (window.code_shown) ? $('div.input').hide(250) : $('div.input').show(250);\n",
    "        window.code_shown = !window.code_shown\n",
    "    }\n",
    "    if($('body.nbviewer').length) {\n",
    "        $('<li><a href=\"javascript:window.code_toggle()\" title=\"Show/Hide Code\"><span class=\"fa fa-code fa-2x menu-icon\"></span><span class=\"menu-text\">Show/Hide Code</span></a></li>').appendTo('.navbar-right');\n",
    "        window.code_shown=false;\n",
    "        $('div.input').hide();\n",
    "    }\n",
    "});\n",
    "</script>\n",
    "\n",
    "\n",
    "<style>\n",
    "\n",
    "div.prompt {display:none}\n",
    "\n",
    "\n",
    "h1, .h1 {\n",
    "    font-size: 33px;\n",
    "    font-family: \"Trebuchet MS\";\n",
    "    font-size: 2.5em !important;\n",
    "    color: #2a7bbd;\n",
    "}\n",
    "\n",
    "h2, .h2 {\n",
    "    font-size: 10px;\n",
    "    font-family: \"Trebuchet MS\";\n",
    "    color: #2a7bbd; \n",
    "    \n",
    "}\n",
    "\n",
    "\n",
    "h3, .h3 {\n",
    "    font-size: 10px;\n",
    "    font-family: \"Trebuchet MS\";\n",
    "    color: #5d6063; \n",
    "    \n",
    "}\n",
    "\n",
    ".rendered_html table {\n",
    "\n",
    "    font-size: 14px;\n",
    "}\n",
    "\n",
    ".output_png {\n",
    "  display: flex;\n",
    "  justify-content: center;\n",
    "}\n",
    "\n",
    ".cell {\n",
    "    padding: 0px;\n",
    "}\n",
    "\n",
    "\n",
    "</style>"
   ]
  }
 ],
 "metadata": {
  "hide_input": false,
  "interpreter": {
   "hash": "82e80291bdce03ba06d3d2072910693f45618ad960da04796eafb715ba00abe8"
  },
  "kernelspec": {
   "display_name": "Python 3",
   "language": "python",
   "name": "python3"
  },
  "language_info": {
   "codemirror_mode": {
    "name": "ipython",
    "version": 3
   },
   "file_extension": ".py",
   "mimetype": "text/x-python",
   "name": "python",
   "nbconvert_exporter": "python",
   "pygments_lexer": "ipython3",
   "version": "3.7.3"
  },
  "toc": {
   "base_numbering": 1,
   "nav_menu": {},
   "number_sections": true,
   "sideBar": true,
   "skip_h1_title": false,
   "title_cell": "Table of Contents",
   "title_sidebar": "Contents",
   "toc_cell": false,
   "toc_position": {},
   "toc_section_display": true,
   "toc_window_display": false
  }
 },
 "nbformat": 4,
 "nbformat_minor": 2
}
